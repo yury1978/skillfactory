{
 "cells": [
  {
   "cell_type": "code",
   "execution_count": null,
   "metadata": {},
   "outputs": [],
   "source": [
    "import numpy as np\n",
    "\n",
    "\n",
    "def game_core_v2(number):\n",
    "    ''' Ищем срединную точку, постепенно сдвигая границы диапозона. '''\n",
    "\n",
    "    count = 1\n",
    "    border_min = 0\n",
    "    border_max = 100\n",
    "    predict = border_max - (border_max - border_min) // 2\n",
    "\n",
    "    while number != predict:\n",
    "        count += 1\n",
    "\n",
    "        if predict > number:\n",
    "            border_max = predict  # сдвигаем правую границу\n",
    "        else:\n",
    "            border_min = predict  # сдвигаем левую границу\n",
    "\n",
    "        predict = border_max - (border_max - border_min) // 2\n",
    "\n",
    "    return count\n",
    "\n",
    "\n",
    "def score_game(game_core):\n",
    "    '''Запускаем игру 1000 раз, чтобы узнать, как быстро игра угадывает число'''\n",
    "\n",
    "    count_ls = []\n",
    "    np.random.seed(1)  # фиксируем RANDOM SEED, чтобы ваш эксперимент был воспроизводим!\n",
    "    random_array = np.random.randint(1, 101, size=1000)\n",
    "\n",
    "    for number in random_array:\n",
    "        count_ls.append(game_core(number))\n",
    "    score = int(np.mean(count_ls))\n",
    "\n",
    "    print(f\"Ваш алгоритм угадывает число в среднем за {score} попыток\")\n",
    "    return score\n",
    "\n",
    "\n",
    "score_game(game_core_v2)\n"
   ]
  }
 ],
 "metadata": {
  "kernelspec": {
   "display_name": "Python 3",
   "language": "python",
   "name": "python3"
  },
  "language_info": {
   "codemirror_mode": {
    "name": "ipython",
    "version": 3
   },
   "file_extension": ".py",
   "mimetype": "text/x-python",
   "name": "python",
   "nbconvert_exporter": "python",
   "pygments_lexer": "ipython3",
   "version": "3.8.5"
  }
 },
 "nbformat": 4,
 "nbformat_minor": 4
}
