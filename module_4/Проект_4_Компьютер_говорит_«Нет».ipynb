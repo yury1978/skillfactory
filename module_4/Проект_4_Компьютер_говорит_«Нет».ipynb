{
  "nbformat": 4,
  "nbformat_minor": 0,
  "metadata": {
    "colab": {
      "name": " Проект 4. Компьютер говорит «Нет».ipynb",
      "provenance": [],
      "collapsed_sections": []
    },
    "kernelspec": {
      "name": "python3",
      "display_name": "Python 3"
    },
    "language_info": {
      "name": "python"
    }
  },
  "cells": [
    {
      "cell_type": "markdown",
      "source": [
        "# import"
      ],
      "metadata": {
        "id": "0L4y4NhydMuw"
      }
    },
    {
      "cell_type": "code",
      "metadata": {
        "id": "ZAyjhEx4jOMR"
      },
      "source": [
        "import pandas as pd\n",
        "from sklearn.model_selection import train_test_split\n",
        "import matplotlib.pyplot as plt\n",
        "import seaborn as sns\n",
        "import numpy as np\n",
        "from sklearn.feature_selection import f_classif\n",
        "from sklearn.preprocessing import LabelEncoder, StandardScaler\n",
        "from sklearn.feature_selection import mutual_info_classif\n",
        "from sklearn.preprocessing import OneHotEncoder"
      ],
      "execution_count": 690,
      "outputs": []
    },
    {
      "cell_type": "code",
      "source": [
        "df_train = pd.read_csv('train.csv')"
      ],
      "metadata": {
        "id": "Z0u-a1R48PuQ"
      },
      "execution_count": 691,
      "outputs": []
    },
    {
      "cell_type": "code",
      "source": [
        "df_test = pd.read_csv('test.csv')"
      ],
      "metadata": {
        "id": "AxywjhKj8fLC"
      },
      "execution_count": 692,
      "outputs": []
    },
    {
      "cell_type": "code",
      "source": [
        "sample_submission = pd.read_csv('sample_submission.csv')"
      ],
      "metadata": {
        "id": "rM5OGfx3c6E8"
      },
      "execution_count": 693,
      "outputs": []
    },
    {
      "cell_type": "code",
      "source": [
        "# для корректной обработки признаков объединяем трейн и тест в один датасет\n",
        "df_train['sample'] = 1 # помечаем где у нас трейн\n",
        "df_test['sample'] = 0  # помечаем где у нас тест\n",
        "df_test['default'] = 0 # в тесте у нас нет значения Rating, мы его должны предсказать, по этому пока просто заполняем нулями\n",
        "\n",
        "data = df_test.append(df_train, sort=False).reset_index(drop=True) # объединяем"
      ],
      "metadata": {
        "id": "sftNtRkA8szq"
      },
      "execution_count": 694,
      "outputs": []
    },
    {
      "cell_type": "code",
      "metadata": {
        "colab": {
          "base_uri": "https://localhost:8080/",
          "height": 444
        },
        "id": "BVEY_J8Hjxmj",
        "outputId": "1324730f-b7be-478f-d625-7d420953cc69"
      },
      "source": [
        "data"
      ],
      "execution_count": 695,
      "outputs": [
        {
          "output_type": "execute_result",
          "data": {
            "text/html": [
              "<div>\n",
              "<style scoped>\n",
              "    .dataframe tbody tr th:only-of-type {\n",
              "        vertical-align: middle;\n",
              "    }\n",
              "\n",
              "    .dataframe tbody tr th {\n",
              "        vertical-align: top;\n",
              "    }\n",
              "\n",
              "    .dataframe thead th {\n",
              "        text-align: right;\n",
              "    }\n",
              "</style>\n",
              "<table border=\"1\" class=\"dataframe\">\n",
              "  <thead>\n",
              "    <tr style=\"text-align: right;\">\n",
              "      <th></th>\n",
              "      <th>client_id</th>\n",
              "      <th>app_date</th>\n",
              "      <th>education</th>\n",
              "      <th>sex</th>\n",
              "      <th>age</th>\n",
              "      <th>car</th>\n",
              "      <th>car_type</th>\n",
              "      <th>decline_app_cnt</th>\n",
              "      <th>good_work</th>\n",
              "      <th>score_bki</th>\n",
              "      <th>bki_request_cnt</th>\n",
              "      <th>region_rating</th>\n",
              "      <th>home_address</th>\n",
              "      <th>work_address</th>\n",
              "      <th>income</th>\n",
              "      <th>sna</th>\n",
              "      <th>first_time</th>\n",
              "      <th>foreign_passport</th>\n",
              "      <th>sample</th>\n",
              "      <th>default</th>\n",
              "    </tr>\n",
              "  </thead>\n",
              "  <tbody>\n",
              "    <tr>\n",
              "      <th>0</th>\n",
              "      <td>74835</td>\n",
              "      <td>22MAR2014</td>\n",
              "      <td>GRD</td>\n",
              "      <td>M</td>\n",
              "      <td>29</td>\n",
              "      <td>Y</td>\n",
              "      <td>Y</td>\n",
              "      <td>0</td>\n",
              "      <td>0</td>\n",
              "      <td>-2.271884</td>\n",
              "      <td>3</td>\n",
              "      <td>50</td>\n",
              "      <td>1</td>\n",
              "      <td>2</td>\n",
              "      <td>50000</td>\n",
              "      <td>1</td>\n",
              "      <td>4</td>\n",
              "      <td>N</td>\n",
              "      <td>0</td>\n",
              "      <td>0</td>\n",
              "    </tr>\n",
              "    <tr>\n",
              "      <th>1</th>\n",
              "      <td>17527</td>\n",
              "      <td>24JAN2014</td>\n",
              "      <td>SCH</td>\n",
              "      <td>F</td>\n",
              "      <td>39</td>\n",
              "      <td>N</td>\n",
              "      <td>N</td>\n",
              "      <td>5</td>\n",
              "      <td>0</td>\n",
              "      <td>-1.504999</td>\n",
              "      <td>2</td>\n",
              "      <td>50</td>\n",
              "      <td>1</td>\n",
              "      <td>2</td>\n",
              "      <td>5000</td>\n",
              "      <td>4</td>\n",
              "      <td>3</td>\n",
              "      <td>N</td>\n",
              "      <td>0</td>\n",
              "      <td>0</td>\n",
              "    </tr>\n",
              "    <tr>\n",
              "      <th>2</th>\n",
              "      <td>75683</td>\n",
              "      <td>23MAR2014</td>\n",
              "      <td>UGR</td>\n",
              "      <td>M</td>\n",
              "      <td>50</td>\n",
              "      <td>Y</td>\n",
              "      <td>Y</td>\n",
              "      <td>0</td>\n",
              "      <td>0</td>\n",
              "      <td>-1.691339</td>\n",
              "      <td>1</td>\n",
              "      <td>50</td>\n",
              "      <td>1</td>\n",
              "      <td>2</td>\n",
              "      <td>30000</td>\n",
              "      <td>1</td>\n",
              "      <td>3</td>\n",
              "      <td>Y</td>\n",
              "      <td>0</td>\n",
              "      <td>0</td>\n",
              "    </tr>\n",
              "    <tr>\n",
              "      <th>3</th>\n",
              "      <td>26883</td>\n",
              "      <td>03FEB2014</td>\n",
              "      <td>SCH</td>\n",
              "      <td>M</td>\n",
              "      <td>56</td>\n",
              "      <td>N</td>\n",
              "      <td>N</td>\n",
              "      <td>0</td>\n",
              "      <td>0</td>\n",
              "      <td>-2.374182</td>\n",
              "      <td>1</td>\n",
              "      <td>40</td>\n",
              "      <td>1</td>\n",
              "      <td>2</td>\n",
              "      <td>17000</td>\n",
              "      <td>1</td>\n",
              "      <td>3</td>\n",
              "      <td>N</td>\n",
              "      <td>0</td>\n",
              "      <td>0</td>\n",
              "    </tr>\n",
              "    <tr>\n",
              "      <th>4</th>\n",
              "      <td>28862</td>\n",
              "      <td>04FEB2014</td>\n",
              "      <td>GRD</td>\n",
              "      <td>F</td>\n",
              "      <td>38</td>\n",
              "      <td>N</td>\n",
              "      <td>N</td>\n",
              "      <td>0</td>\n",
              "      <td>0</td>\n",
              "      <td>-2.487502</td>\n",
              "      <td>0</td>\n",
              "      <td>80</td>\n",
              "      <td>2</td>\n",
              "      <td>3</td>\n",
              "      <td>120000</td>\n",
              "      <td>1</td>\n",
              "      <td>3</td>\n",
              "      <td>N</td>\n",
              "      <td>0</td>\n",
              "      <td>0</td>\n",
              "    </tr>\n",
              "    <tr>\n",
              "      <th>...</th>\n",
              "      <td>...</td>\n",
              "      <td>...</td>\n",
              "      <td>...</td>\n",
              "      <td>...</td>\n",
              "      <td>...</td>\n",
              "      <td>...</td>\n",
              "      <td>...</td>\n",
              "      <td>...</td>\n",
              "      <td>...</td>\n",
              "      <td>...</td>\n",
              "      <td>...</td>\n",
              "      <td>...</td>\n",
              "      <td>...</td>\n",
              "      <td>...</td>\n",
              "      <td>...</td>\n",
              "      <td>...</td>\n",
              "      <td>...</td>\n",
              "      <td>...</td>\n",
              "      <td>...</td>\n",
              "      <td>...</td>\n",
              "    </tr>\n",
              "    <tr>\n",
              "      <th>110143</th>\n",
              "      <td>54887</td>\n",
              "      <td>04MAR2014</td>\n",
              "      <td>GRD</td>\n",
              "      <td>F</td>\n",
              "      <td>45</td>\n",
              "      <td>N</td>\n",
              "      <td>N</td>\n",
              "      <td>0</td>\n",
              "      <td>0</td>\n",
              "      <td>-1.792064</td>\n",
              "      <td>3</td>\n",
              "      <td>50</td>\n",
              "      <td>1</td>\n",
              "      <td>2</td>\n",
              "      <td>17000</td>\n",
              "      <td>4</td>\n",
              "      <td>4</td>\n",
              "      <td>N</td>\n",
              "      <td>1</td>\n",
              "      <td>0</td>\n",
              "    </tr>\n",
              "    <tr>\n",
              "      <th>110144</th>\n",
              "      <td>76821</td>\n",
              "      <td>24MAR2014</td>\n",
              "      <td>SCH</td>\n",
              "      <td>M</td>\n",
              "      <td>41</td>\n",
              "      <td>Y</td>\n",
              "      <td>Y</td>\n",
              "      <td>0</td>\n",
              "      <td>0</td>\n",
              "      <td>-2.058029</td>\n",
              "      <td>1</td>\n",
              "      <td>50</td>\n",
              "      <td>2</td>\n",
              "      <td>2</td>\n",
              "      <td>70000</td>\n",
              "      <td>1</td>\n",
              "      <td>4</td>\n",
              "      <td>N</td>\n",
              "      <td>1</td>\n",
              "      <td>0</td>\n",
              "    </tr>\n",
              "    <tr>\n",
              "      <th>110145</th>\n",
              "      <td>103695</td>\n",
              "      <td>22APR2014</td>\n",
              "      <td>SCH</td>\n",
              "      <td>M</td>\n",
              "      <td>31</td>\n",
              "      <td>N</td>\n",
              "      <td>N</td>\n",
              "      <td>0</td>\n",
              "      <td>0</td>\n",
              "      <td>-1.512635</td>\n",
              "      <td>4</td>\n",
              "      <td>80</td>\n",
              "      <td>2</td>\n",
              "      <td>3</td>\n",
              "      <td>45000</td>\n",
              "      <td>2</td>\n",
              "      <td>2</td>\n",
              "      <td>N</td>\n",
              "      <td>1</td>\n",
              "      <td>0</td>\n",
              "    </tr>\n",
              "    <tr>\n",
              "      <th>110146</th>\n",
              "      <td>861</td>\n",
              "      <td>04JAN2014</td>\n",
              "      <td>SCH</td>\n",
              "      <td>F</td>\n",
              "      <td>29</td>\n",
              "      <td>N</td>\n",
              "      <td>N</td>\n",
              "      <td>0</td>\n",
              "      <td>1</td>\n",
              "      <td>-1.479334</td>\n",
              "      <td>3</td>\n",
              "      <td>50</td>\n",
              "      <td>1</td>\n",
              "      <td>3</td>\n",
              "      <td>13000</td>\n",
              "      <td>2</td>\n",
              "      <td>3</td>\n",
              "      <td>N</td>\n",
              "      <td>1</td>\n",
              "      <td>1</td>\n",
              "    </tr>\n",
              "    <tr>\n",
              "      <th>110147</th>\n",
              "      <td>15796</td>\n",
              "      <td>23JAN2014</td>\n",
              "      <td>GRD</td>\n",
              "      <td>M</td>\n",
              "      <td>34</td>\n",
              "      <td>N</td>\n",
              "      <td>N</td>\n",
              "      <td>0</td>\n",
              "      <td>0</td>\n",
              "      <td>-1.764711</td>\n",
              "      <td>2</td>\n",
              "      <td>50</td>\n",
              "      <td>2</td>\n",
              "      <td>3</td>\n",
              "      <td>25000</td>\n",
              "      <td>1</td>\n",
              "      <td>3</td>\n",
              "      <td>N</td>\n",
              "      <td>1</td>\n",
              "      <td>0</td>\n",
              "    </tr>\n",
              "  </tbody>\n",
              "</table>\n",
              "<p>110148 rows × 20 columns</p>\n",
              "</div>"
            ],
            "text/plain": [
              "        client_id   app_date education  ... foreign_passport  sample default\n",
              "0           74835  22MAR2014       GRD  ...                N       0       0\n",
              "1           17527  24JAN2014       SCH  ...                N       0       0\n",
              "2           75683  23MAR2014       UGR  ...                Y       0       0\n",
              "3           26883  03FEB2014       SCH  ...                N       0       0\n",
              "4           28862  04FEB2014       GRD  ...                N       0       0\n",
              "...           ...        ...       ...  ...              ...     ...     ...\n",
              "110143      54887  04MAR2014       GRD  ...                N       1       0\n",
              "110144      76821  24MAR2014       SCH  ...                N       1       0\n",
              "110145     103695  22APR2014       SCH  ...                N       1       0\n",
              "110146        861  04JAN2014       SCH  ...                N       1       1\n",
              "110147      15796  23JAN2014       GRD  ...                N       1       0\n",
              "\n",
              "[110148 rows x 20 columns]"
            ]
          },
          "metadata": {},
          "execution_count": 695
        }
      ]
    },
    {
      "cell_type": "code",
      "source": [
        "data.info()"
      ],
      "metadata": {
        "id": "2stCgQXhd6qm",
        "colab": {
          "base_uri": "https://localhost:8080/"
        },
        "outputId": "76510d8c-0bc3-4e26-e648-ef04790bef3b"
      },
      "execution_count": 696,
      "outputs": [
        {
          "output_type": "stream",
          "name": "stdout",
          "text": [
            "<class 'pandas.core.frame.DataFrame'>\n",
            "RangeIndex: 110148 entries, 0 to 110147\n",
            "Data columns (total 20 columns):\n",
            " #   Column            Non-Null Count   Dtype  \n",
            "---  ------            --------------   -----  \n",
            " 0   client_id         110148 non-null  int64  \n",
            " 1   app_date          110148 non-null  object \n",
            " 2   education         109670 non-null  object \n",
            " 3   sex               110148 non-null  object \n",
            " 4   age               110148 non-null  int64  \n",
            " 5   car               110148 non-null  object \n",
            " 6   car_type          110148 non-null  object \n",
            " 7   decline_app_cnt   110148 non-null  int64  \n",
            " 8   good_work         110148 non-null  int64  \n",
            " 9   score_bki         110148 non-null  float64\n",
            " 10  bki_request_cnt   110148 non-null  int64  \n",
            " 11  region_rating     110148 non-null  int64  \n",
            " 12  home_address      110148 non-null  int64  \n",
            " 13  work_address      110148 non-null  int64  \n",
            " 14  income            110148 non-null  int64  \n",
            " 15  sna               110148 non-null  int64  \n",
            " 16  first_time        110148 non-null  int64  \n",
            " 17  foreign_passport  110148 non-null  object \n",
            " 18  sample            110148 non-null  int64  \n",
            " 19  default           110148 non-null  int64  \n",
            "dtypes: float64(1), int64(13), object(6)\n",
            "memory usage: 16.8+ MB\n"
          ]
        }
      ]
    },
    {
      "cell_type": "markdown",
      "source": [
        "# EDA "
      ],
      "metadata": {
        "id": "y6jiFkmIfn4r"
      }
    },
    {
      "cell_type": "markdown",
      "source": [
        "проверим наличие пропусков в данных"
      ],
      "metadata": {
        "id": "7iNTzTl2hEx-"
      }
    },
    {
      "cell_type": "code",
      "metadata": {
        "colab": {
          "base_uri": "https://localhost:8080/"
        },
        "id": "CF-MWfAYdicE",
        "outputId": "10e20d42-a715-47a2-fcc8-49882b5da4d7"
      },
      "source": [
        "data.isnull().sum()"
      ],
      "execution_count": 697,
      "outputs": [
        {
          "output_type": "execute_result",
          "data": {
            "text/plain": [
              "client_id             0\n",
              "app_date              0\n",
              "education           478\n",
              "sex                   0\n",
              "age                   0\n",
              "car                   0\n",
              "car_type              0\n",
              "decline_app_cnt       0\n",
              "good_work             0\n",
              "score_bki             0\n",
              "bki_request_cnt       0\n",
              "region_rating         0\n",
              "home_address          0\n",
              "work_address          0\n",
              "income                0\n",
              "sna                   0\n",
              "first_time            0\n",
              "foreign_passport      0\n",
              "sample                0\n",
              "default               0\n",
              "dtype: int64"
            ]
          },
          "metadata": {},
          "execution_count": 697
        }
      ]
    },
    {
      "cell_type": "markdown",
      "source": [
        "### 1. education "
      ],
      "metadata": {
        "id": "UZdM5PorjN8V"
      }
    },
    {
      "cell_type": "markdown",
      "source": [
        "пропуски имеются только в столбце education. Заполним их новым значением."
      ],
      "metadata": {
        "id": "3S3bsTdnidBX"
      }
    },
    {
      "cell_type": "code",
      "metadata": {
        "colab": {
          "base_uri": "https://localhost:8080/"
        },
        "id": "jO_h51QlXyVW",
        "outputId": "f572b296-7ebc-4db4-fbd2-e862cf6114e9"
      },
      "source": [
        "data.education.unique()"
      ],
      "execution_count": 698,
      "outputs": [
        {
          "output_type": "execute_result",
          "data": {
            "text/plain": [
              "array(['GRD', 'SCH', 'UGR', 'PGR', nan, 'ACD'], dtype=object)"
            ]
          },
          "metadata": {},
          "execution_count": 698
        }
      ]
    },
    {
      "cell_type": "code",
      "source": [
        "data.education.value_counts(dropna=False).plot.bar()\n"
      ],
      "metadata": {
        "colab": {
          "base_uri": "https://localhost:8080/",
          "height": 296
        },
        "id": "ADptA3e9kHwX",
        "outputId": "b7f96704-0083-4bdb-b1d1-6a06f73fcad7"
      },
      "execution_count": 699,
      "outputs": [
        {
          "output_type": "execute_result",
          "data": {
            "text/plain": [
              "<matplotlib.axes._subplots.AxesSubplot at 0x7f9cedee8f10>"
            ]
          },
          "metadata": {},
          "execution_count": 699
        },
        {
          "output_type": "display_data",
          "data": {
            "image/png": "[encoded data removed]",
            "text/plain": [
              "<Figure size 432x288 with 1 Axes>"
            ]
          },
          "metadata": {
            "needs_background": "light"
          }
        }
      ]
    },
    {
      "cell_type": "code",
      "metadata": {
        "id": "mcXZjLSPX6Mm"
      },
      "source": [
        "data.education.fillna(value='WAE', inplace=True)"
      ],
      "execution_count": 700,
      "outputs": []
    },
    {
      "cell_type": "markdown",
      "source": [
        "### 2. app_date"
      ],
      "metadata": {
        "id": "C7b-X8LIjcGl"
      }
    },
    {
      "cell_type": "code",
      "source": [
        "data.app_date.unique()"
      ],
      "metadata": {
        "id": "Lyv8zQQ7jatM",
        "colab": {
          "base_uri": "https://localhost:8080/"
        },
        "outputId": "d05bcb62-6290-4a4d-f2a2-bd3bb23ce596"
      },
      "execution_count": 701,
      "outputs": [
        {
          "output_type": "execute_result",
          "data": {
            "text/plain": [
              "array(['22MAR2014', '24JAN2014', '23MAR2014', '03FEB2014', '04FEB2014',\n",
              "       '17APR2014', '02FEB2014', '28MAR2014', '23JAN2014', '24APR2014',\n",
              "       '25FEB2014', '15JAN2014', '13APR2014', '12MAR2014', '17MAR2014',\n",
              "       '01FEB2014', '15FEB2014', '01APR2014', '20FEB2014', '20APR2014',\n",
              "       '27JAN2014', '24FEB2014', '18JAN2014', '16JAN2014', '13FEB2014',\n",
              "       '02APR2014', '07MAR2014', '08APR2014', '21FEB2014', '16MAR2014',\n",
              "       '08JAN2014', '24MAR2014', '19MAR2014', '19JAN2014', '18APR2014',\n",
              "       '05APR2014', '25MAR2014', '06MAR2014', '29APR2014', '28APR2014',\n",
              "       '22JAN2014', '27MAR2014', '31JAN2014', '11JAN2014', '22FEB2014',\n",
              "       '05FEB2014', '07APR2014', '14MAR2014', '06APR2014', '02MAR2014',\n",
              "       '06JAN2014', '05MAR2014', '10MAR2014', '22APR2014', '26FEB2014',\n",
              "       '16FEB2014', '01MAR2014', '04JAN2014', '30JAN2014', '09FEB2014',\n",
              "       '11FEB2014', '04MAR2014', '29JAN2014', '04APR2014', '25APR2014',\n",
              "       '19FEB2014', '14FEB2014', '26MAR2014', '13JAN2014', '18MAR2014',\n",
              "       '06FEB2014', '03MAR2014', '23APR2014', '18FEB2014', '20JAN2014',\n",
              "       '23FEB2014', '31MAR2014', '08FEB2014', '03APR2014', '17JAN2014',\n",
              "       '27APR2014', '14APR2014', '30MAR2014', '30APR2014', '10FEB2014',\n",
              "       '12FEB2014', '12JAN2014', '10APR2014', '28FEB2014', '15MAR2014',\n",
              "       '12APR2014', '28JAN2014', '13MAR2014', '20MAR2014', '02JAN2014',\n",
              "       '27FEB2014', '25JAN2014', '09JAN2014', '10JAN2014', '15APR2014',\n",
              "       '29MAR2014', '16APR2014', '26APR2014', '03JAN2014', '21APR2014',\n",
              "       '17FEB2014', '07JAN2014', '11MAR2014', '21MAR2014', '11APR2014',\n",
              "       '26JAN2014', '07FEB2014', '14JAN2014', '21JAN2014', '09MAR2014',\n",
              "       '08MAR2014', '19APR2014', '09APR2014', '05JAN2014', '01JAN2014'],\n",
              "      dtype=object)"
            ]
          },
          "metadata": {},
          "execution_count": 701
        }
      ]
    },
    {
      "cell_type": "markdown",
      "source": [
        "дата подачи заявки - содержит дату. Можно преобразовать в pd.Datetime"
      ],
      "metadata": {
        "id": "oGqJ_SpFmHn4"
      }
    },
    {
      "cell_type": "code",
      "source": [
        "data.app_date = pd.to_datetime(data.app_date)"
      ],
      "metadata": {
        "id": "dP_6znYOleS7"
      },
      "execution_count": 702,
      "outputs": []
    },
    {
      "cell_type": "code",
      "source": [
        "plt.figure(figsize=(16,4))\n",
        "data.app_date.hist(bins= 120)"
      ],
      "metadata": {
        "colab": {
          "base_uri": "https://localhost:8080/",
          "height": 255
        },
        "id": "082QnqqExH6M",
        "outputId": "f0d9da34-626a-42e2-c906-cbf465e4319f"
      },
      "execution_count": 703,
      "outputs": [
        {
          "output_type": "execute_result",
          "data": {
            "text/plain": [
              "<matplotlib.axes._subplots.AxesSubplot at 0x7f9cec896790>"
            ]
          },
          "metadata": {},
          "execution_count": 703
        },
        {
          "output_type": "display_data",
          "data": {
            "image/png": "[encoded data removed]",
            "text/plain": [
              "<Figure size 1152x288 with 1 Axes>"
            ]
          },
          "metadata": {
            "needs_background": "light"
          }
        }
      ]
    },
    {
      "cell_type": "code",
      "source": [
        "# и преобразуем в категориальный признак - день недели\n",
        "data.app_date = data.app_date.dt.dayofweek"
      ],
      "metadata": {
        "id": "O48KYIOCUyXY"
      },
      "execution_count": 704,
      "outputs": []
    },
    {
      "cell_type": "markdown",
      "source": [
        "### 3. sex\n",
        "бинарный признак"
      ],
      "metadata": {
        "id": "V4IDTMOingDp"
      }
    },
    {
      "cell_type": "code",
      "source": [
        "data.sex.unique()"
      ],
      "metadata": {
        "colab": {
          "base_uri": "https://localhost:8080/"
        },
        "id": "Dml_Hofgjg4Z",
        "outputId": "ea86132f-3cbe-4338-c889-de3fd47a166d"
      },
      "execution_count": 705,
      "outputs": [
        {
          "output_type": "execute_result",
          "data": {
            "text/plain": [
              "array(['M', 'F'], dtype=object)"
            ]
          },
          "metadata": {},
          "execution_count": 705
        }
      ]
    },
    {
      "cell_type": "code",
      "source": [
        "sns.countplot(x=data.sex)"
      ],
      "metadata": {
        "colab": {
          "base_uri": "https://localhost:8080/",
          "height": 296
        },
        "id": "bVbRFwFPn_1E",
        "outputId": "4131251a-85d3-4827-e469-a9049edfcd53"
      },
      "execution_count": 706,
      "outputs": [
        {
          "output_type": "execute_result",
          "data": {
            "text/plain": [
              "<matplotlib.axes._subplots.AxesSubplot at 0x7f9cec640850>"
            ]
          },
          "metadata": {},
          "execution_count": 706
        },
        {
          "output_type": "display_data",
          "data": {
            "image/png": "[encoded data removed]",
            "text/plain": [
              "<Figure size 432x288 with 1 Axes>"
            ]
          },
          "metadata": {
            "needs_background": "light"
          }
        }
      ]
    },
    {
      "cell_type": "code",
      "source": [
        "sns.countplot(x='default', hue='sex', data = data[data['sample'] == 1])"
      ],
      "metadata": {
        "colab": {
          "base_uri": "https://localhost:8080/",
          "height": 296
        },
        "id": "lpcRyqHfsT0C",
        "outputId": "9d0bd913-8112-4f82-9003-d13adb85c75c"
      },
      "execution_count": 707,
      "outputs": [
        {
          "output_type": "execute_result",
          "data": {
            "text/plain": [
              "<matplotlib.axes._subplots.AxesSubplot at 0x7f9cec5e71d0>"
            ]
          },
          "metadata": {},
          "execution_count": 707
        },
        {
          "output_type": "display_data",
          "data": {
            "image/png": "[encoded data removed]",
            "text/plain": [
              "<Figure size 432x288 with 1 Axes>"
            ]
          },
          "metadata": {
            "needs_background": "light"
          }
        }
      ]
    },
    {
      "cell_type": "markdown",
      "source": [
        "женщин среди заемщиков немного больше. а так же немного больше случаев дефолта"
      ],
      "metadata": {
        "id": "VCw-VXBLo5Am"
      }
    },
    {
      "cell_type": "markdown",
      "source": [
        "### 4. age"
      ],
      "metadata": {
        "id": "WBfpOgJAsutG"
      }
    },
    {
      "cell_type": "code",
      "source": [
        "data.age.unique()"
      ],
      "metadata": {
        "colab": {
          "base_uri": "https://localhost:8080/"
        },
        "id": "5SVCxjjhvoYZ",
        "outputId": "37dfe8dc-eebd-477d-a5e5-dfcee4806c49"
      },
      "execution_count": 708,
      "outputs": [
        {
          "output_type": "execute_result",
          "data": {
            "text/plain": [
              "array([29, 39, 50, 56, 38, 55, 30, 41, 34, 28, 32, 37, 43, 27, 46, 52, 49,\n",
              "       53, 36, 61, 25, 24, 42, 51, 33, 45, 44, 47, 23, 22, 48, 31, 40, 57,\n",
              "       65, 59, 35, 21, 64, 26, 67, 63, 66, 68, 60, 54, 58, 69, 62, 70, 71,\n",
              "       72])"
            ]
          },
          "metadata": {},
          "execution_count": 708
        }
      ]
    },
    {
      "cell_type": "code",
      "source": [
        "plt.figure(figsize= (10,4))\n",
        "data.age.hist(bins=50)"
      ],
      "metadata": {
        "colab": {
          "base_uri": "https://localhost:8080/",
          "height": 282
        },
        "id": "j6mTTjzRjhMH",
        "outputId": "0ee71659-a3dd-4528-f434-e1e6a19cf4f4"
      },
      "execution_count": 709,
      "outputs": [
        {
          "output_type": "execute_result",
          "data": {
            "text/plain": [
              "<matplotlib.axes._subplots.AxesSubplot at 0x7f9cec54bf50>"
            ]
          },
          "metadata": {},
          "execution_count": 709
        },
        {
          "output_type": "display_data",
          "data": {
            "image/png": "[encoded data removed]",
            "text/plain": [
              "<Figure size 720x288 with 1 Axes>"
            ]
          },
          "metadata": {
            "needs_background": "light"
          }
        }
      ]
    },
    {
      "cell_type": "code",
      "source": [
        "plt.figure(figsize=(8,6))\n",
        "sns.boxplot(y = data['age'], x = data[data['sample'] == 1]['default'])"
      ],
      "metadata": {
        "colab": {
          "base_uri": "https://localhost:8080/",
          "height": 405
        },
        "id": "TtUJIGH25twD",
        "outputId": "0c61ef89-25b7-4a72-dee4-aa1bcf92b4fc"
      },
      "execution_count": 710,
      "outputs": [
        {
          "output_type": "execute_result",
          "data": {
            "text/plain": [
              "<matplotlib.axes._subplots.AxesSubplot at 0x7f9cec48fd90>"
            ]
          },
          "metadata": {},
          "execution_count": 710
        },
        {
          "output_type": "display_data",
          "data": {
            "image/png": "[encoded data removed]",
            "text/plain": [
              "<Figure size 576x432 with 1 Axes>"
            ]
          },
          "metadata": {
            "needs_background": "light"
          }
        }
      ]
    },
    {
      "cell_type": "markdown",
      "source": [
        "значений возраста <20 лет и превышающие, разумную продолжительность жизни не обнаружено.\n",
        "дефолтные клиенты младше"
      ],
      "metadata": {
        "id": "gz1hGk__uOIg"
      }
    },
    {
      "cell_type": "markdown",
      "source": [
        "### 5. car"
      ],
      "metadata": {
        "id": "o-3p3UhPvXGz"
      }
    },
    {
      "cell_type": "code",
      "source": [
        "data.car.unique()"
      ],
      "metadata": {
        "colab": {
          "base_uri": "https://localhost:8080/"
        },
        "outputId": "bee41b14-2fc5-47f8-acb5-f7613938340a",
        "id": "9nzITp53xUwO"
      },
      "execution_count": 711,
      "outputs": [
        {
          "output_type": "execute_result",
          "data": {
            "text/plain": [
              "array(['Y', 'N'], dtype=object)"
            ]
          },
          "metadata": {},
          "execution_count": 711
        }
      ]
    },
    {
      "cell_type": "code",
      "source": [
        "sns.countplot(x=data.car)"
      ],
      "metadata": {
        "colab": {
          "base_uri": "https://localhost:8080/",
          "height": 296
        },
        "outputId": "5692c99e-72d0-4128-b39c-88292bda5ac2",
        "id": "CpTKKU9kxUwP"
      },
      "execution_count": 712,
      "outputs": [
        {
          "output_type": "execute_result",
          "data": {
            "text/plain": [
              "<matplotlib.axes._subplots.AxesSubplot at 0x7f9cec3d70d0>"
            ]
          },
          "metadata": {},
          "execution_count": 712
        },
        {
          "output_type": "display_data",
          "data": {
            "image/png": "[encoded data removed]",
            "text/plain": [
              "<Figure size 432x288 with 1 Axes>"
            ]
          },
          "metadata": {
            "needs_background": "light"
          }
        }
      ]
    },
    {
      "cell_type": "code",
      "source": [
        "sns.countplot(x='default', hue='car', data = data[data['sample'] == 1])"
      ],
      "metadata": {
        "colab": {
          "base_uri": "https://localhost:8080/",
          "height": 296
        },
        "outputId": "2145df96-3551-4b64-f6b8-17c08c2e8228",
        "id": "gvgux-Y3xUwP"
      },
      "execution_count": 713,
      "outputs": [
        {
          "output_type": "execute_result",
          "data": {
            "text/plain": [
              "<matplotlib.axes._subplots.AxesSubplot at 0x7f9cec341410>"
            ]
          },
          "metadata": {},
          "execution_count": 713
        },
        {
          "output_type": "display_data",
          "data": {
            "image/png": "[encoded data removed]",
            "text/plain": [
              "<Figure size 432x288 with 1 Axes>"
            ]
          },
          "metadata": {
            "needs_background": "light"
          }
        }
      ]
    },
    {
      "cell_type": "markdown",
      "source": [
        "случаев дефолта явно больше среди людей. не владеющих автомобилем"
      ],
      "metadata": {
        "id": "Fa8rZE6jxrml"
      }
    },
    {
      "cell_type": "markdown",
      "source": [
        "### 6. car_type"
      ],
      "metadata": {
        "id": "R5GDuFckyCDj"
      }
    },
    {
      "cell_type": "code",
      "source": [
        "data.car_type.unique()"
      ],
      "metadata": {
        "colab": {
          "base_uri": "https://localhost:8080/"
        },
        "id": "da3RD9IYjhVj",
        "outputId": "9455b5ad-9eef-48f3-d2c1-e9507bc37c25"
      },
      "execution_count": 714,
      "outputs": [
        {
          "output_type": "execute_result",
          "data": {
            "text/plain": [
              "array(['Y', 'N'], dtype=object)"
            ]
          },
          "metadata": {},
          "execution_count": 714
        }
      ]
    },
    {
      "cell_type": "code",
      "source": [
        "sns.countplot(x=data.car_type)"
      ],
      "metadata": {
        "colab": {
          "base_uri": "https://localhost:8080/",
          "height": 297
        },
        "id": "UDBbMiXJx9gl",
        "outputId": "0b92f8f6-b6ff-4597-c5d4-49c0bab5a3c1"
      },
      "execution_count": 715,
      "outputs": [
        {
          "output_type": "execute_result",
          "data": {
            "text/plain": [
              "<matplotlib.axes._subplots.AxesSubplot at 0x7f9cec30ae50>"
            ]
          },
          "metadata": {},
          "execution_count": 715
        },
        {
          "output_type": "display_data",
          "data": {
            "image/png": "[encoded data removed]",
            "text/plain": [
              "<Figure size 432x288 with 1 Axes>"
            ]
          },
          "metadata": {
            "needs_background": "light"
          }
        }
      ]
    },
    {
      "cell_type": "code",
      "source": [
        "sns.countplot(x='default', hue='car_type', data = data[data['sample'] == 1])"
      ],
      "metadata": {
        "colab": {
          "base_uri": "https://localhost:8080/",
          "height": 296
        },
        "id": "VsBxVWjex9lP",
        "outputId": "6ecb1f03-9262-4317-9572-2a1643aabd11"
      },
      "execution_count": 716,
      "outputs": [
        {
          "output_type": "execute_result",
          "data": {
            "text/plain": [
              "<matplotlib.axes._subplots.AxesSubplot at 0x7f9cec2f35d0>"
            ]
          },
          "metadata": {},
          "execution_count": 716
        },
        {
          "output_type": "display_data",
          "data": {
            "image/png": "[encoded data removed]",
            "text/plain": [
              "<Figure size 432x288 with 1 Axes>"
            ]
          },
          "metadata": {
            "needs_background": "light"
          }
        }
      ]
    },
    {
      "cell_type": "markdown",
      "source": [
        "так же владельцы иномарок - имеют меньший риск дефолта"
      ],
      "metadata": {
        "id": "c2LzH8Qty0Cz"
      }
    },
    {
      "cell_type": "markdown",
      "source": [
        "### 7. decline_app_cnt"
      ],
      "metadata": {
        "id": "fB6-qM2FzIxO"
      }
    },
    {
      "cell_type": "code",
      "source": [
        "data.decline_app_cnt.unique()"
      ],
      "metadata": {
        "colab": {
          "base_uri": "https://localhost:8080/"
        },
        "id": "iHwVLFxFx9uG",
        "outputId": "ef69a196-f781-4a9e-b141-0c70253e2aee"
      },
      "execution_count": 717,
      "outputs": [
        {
          "output_type": "execute_result",
          "data": {
            "text/plain": [
              "array([ 0,  5,  3,  1,  2,  6,  4,  8, 10,  7, 12,  9, 14, 11, 16, 21, 13,\n",
              "       30, 20, 19, 22, 33, 15, 24])"
            ]
          },
          "metadata": {},
          "execution_count": 717
        }
      ]
    },
    {
      "cell_type": "code",
      "source": [
        "data.decline_app_cnt.value_counts().plot.bar()"
      ],
      "metadata": {
        "colab": {
          "base_uri": "https://localhost:8080/",
          "height": 285
        },
        "id": "uphPCBuezzAV",
        "outputId": "9ad6109e-4494-4141-a040-c8d1620c6920"
      },
      "execution_count": 718,
      "outputs": [
        {
          "output_type": "execute_result",
          "data": {
            "text/plain": [
              "<matplotlib.axes._subplots.AxesSubplot at 0x7f9cec26c4d0>"
            ]
          },
          "metadata": {},
          "execution_count": 718
        },
        {
          "output_type": "display_data",
          "data": {
            "image/png": "[encoded data removed]",
            "text/plain": [
              "<Figure size 432x288 with 1 Axes>"
            ]
          },
          "metadata": {
            "needs_background": "light"
          }
        }
      ]
    },
    {
      "cell_type": "code",
      "source": [
        "plt.figure(figsize=(8,6))\n",
        "sns.boxplot(y = data[data['sample'] == 1]['decline_app_cnt'], x = data[data['sample'] == 1]['default'])"
      ],
      "metadata": {
        "colab": {
          "base_uri": "https://localhost:8080/",
          "height": 405
        },
        "id": "aUJOIxxj5Wtk",
        "outputId": "b76e63f8-fa29-4eb7-daf0-c490cad33d7e"
      },
      "execution_count": 719,
      "outputs": [
        {
          "output_type": "execute_result",
          "data": {
            "text/plain": [
              "<matplotlib.axes._subplots.AxesSubplot at 0x7f9cec1e1790>"
            ]
          },
          "metadata": {},
          "execution_count": 719
        },
        {
          "output_type": "display_data",
          "data": {
            "image/png": "[encoded data removed]",
            "text/plain": [
              "<Figure size 576x432 with 1 Axes>"
            ]
          },
          "metadata": {
            "needs_background": "light"
          }
        }
      ]
    },
    {
      "cell_type": "markdown",
      "source": [
        "у дефолтных клиентов - больше отклоненных заявок"
      ],
      "metadata": {
        "id": "eh0yzkx26PRq"
      }
    },
    {
      "cell_type": "markdown",
      "source": [
        "### 8. good_work"
      ],
      "metadata": {
        "id": "VwJ8GUtu1WqK"
      }
    },
    {
      "cell_type": "code",
      "source": [
        "data.good_work.unique()"
      ],
      "metadata": {
        "colab": {
          "base_uri": "https://localhost:8080/"
        },
        "id": "82gEA2iwx9y4",
        "outputId": "ee350532-79ca-4d16-a866-ac75f4782e60"
      },
      "execution_count": 720,
      "outputs": [
        {
          "output_type": "execute_result",
          "data": {
            "text/plain": [
              "array([0, 1])"
            ]
          },
          "metadata": {},
          "execution_count": 720
        }
      ]
    },
    {
      "cell_type": "code",
      "source": [
        "sns.countplot(x=data.good_work)"
      ],
      "metadata": {
        "colab": {
          "base_uri": "https://localhost:8080/",
          "height": 297
        },
        "id": "uFx3BQPU1Q-b",
        "outputId": "5a40790e-5bd7-4fa1-b007-77aa5df54569"
      },
      "execution_count": 721,
      "outputs": [
        {
          "output_type": "execute_result",
          "data": {
            "text/plain": [
              "<matplotlib.axes._subplots.AxesSubplot at 0x7f9cec0ca910>"
            ]
          },
          "metadata": {},
          "execution_count": 721
        },
        {
          "output_type": "display_data",
          "data": {
            "image/png": "[encoded data removed]",
            "text/plain": [
              "<Figure size 432x288 with 1 Axes>"
            ]
          },
          "metadata": {
            "needs_background": "light"
          }
        }
      ]
    },
    {
      "cell_type": "code",
      "source": [
        "sns.countplot(x='default', hue='car_type', data = data[data['sample'] == 1])"
      ],
      "metadata": {
        "colab": {
          "base_uri": "https://localhost:8080/",
          "height": 296
        },
        "id": "Ut3va38c1RHe",
        "outputId": "85691dbe-d844-44bc-fe4a-b09e1ba091ab"
      },
      "execution_count": 722,
      "outputs": [
        {
          "output_type": "execute_result",
          "data": {
            "text/plain": [
              "<matplotlib.axes._subplots.AxesSubplot at 0x7f9cec097910>"
            ]
          },
          "metadata": {},
          "execution_count": 722
        },
        {
          "output_type": "display_data",
          "data": {
            "image/png": "[encoded data removed]",
            "text/plain": [
              "<Figure size 432x288 with 1 Axes>"
            ]
          },
          "metadata": {
            "needs_background": "light"
          }
        }
      ]
    },
    {
      "cell_type": "markdown",
      "source": [
        "бинарный признак. имеется отчетливая вероятность дефолта у людей без хорощей работы"
      ],
      "metadata": {
        "id": "PyfbGO1N2IRI"
      }
    },
    {
      "cell_type": "markdown",
      "source": [
        "### 9. score_bki"
      ],
      "metadata": {
        "id": "LGiUxB0F29vy"
      }
    },
    {
      "cell_type": "code",
      "source": [
        "data.score_bki.nunique()"
      ],
      "metadata": {
        "colab": {
          "base_uri": "https://localhost:8080/"
        },
        "id": "OSqWDpl22I90",
        "outputId": "76a3c71c-a371-42c9-f58b-deb1bd5900df"
      },
      "execution_count": 723,
      "outputs": [
        {
          "output_type": "execute_result",
          "data": {
            "text/plain": [
              "102618"
            ]
          },
          "metadata": {},
          "execution_count": 723
        }
      ]
    },
    {
      "cell_type": "code",
      "source": [
        "data.score_bki.hist()"
      ],
      "metadata": {
        "colab": {
          "base_uri": "https://localhost:8080/",
          "height": 282
        },
        "id": "1E4RJ2or2JB7",
        "outputId": "9ec15c21-fd0c-42ab-bf54-a41c728951ae"
      },
      "execution_count": 724,
      "outputs": [
        {
          "output_type": "execute_result",
          "data": {
            "text/plain": [
              "<matplotlib.axes._subplots.AxesSubplot at 0x7f9cec09fe90>"
            ]
          },
          "metadata": {},
          "execution_count": 724
        },
        {
          "output_type": "display_data",
          "data": {
            "image/png": "[encoded data removed]",
            "text/plain": [
              "<Figure size 432x288 with 1 Axes>"
            ]
          },
          "metadata": {
            "needs_background": "light"
          }
        }
      ]
    },
    {
      "cell_type": "code",
      "source": [
        "sns.boxplot(data.score_bki)"
      ],
      "metadata": {
        "colab": {
          "base_uri": "https://localhost:8080/",
          "height": 352
        },
        "id": "t52Jv4Hf3TDb",
        "outputId": "e11dd344-c23c-4cc9-9159-5faee43a12c0"
      },
      "execution_count": 725,
      "outputs": [
        {
          "output_type": "stream",
          "name": "stderr",
          "text": [
            "/usr/local/lib/python3.7/dist-packages/seaborn/_decorators.py:43: FutureWarning: Pass the following variable as a keyword arg: x. From version 0.12, the only valid positional argument will be `data`, and passing other arguments without an explicit keyword will result in an error or misinterpretation.\n",
            "  FutureWarning\n"
          ]
        },
        {
          "output_type": "execute_result",
          "data": {
            "text/plain": [
              "<matplotlib.axes._subplots.AxesSubplot at 0x7f9cebfa1650>"
            ]
          },
          "metadata": {},
          "execution_count": 725
        },
        {
          "output_type": "display_data",
          "data": {
            "image/png": "[encoded data removed]",
            "text/plain": [
              "<Figure size 432x288 with 1 Axes>"
            ]
          },
          "metadata": {
            "needs_background": "light"
          }
        }
      ]
    },
    {
      "cell_type": "code",
      "source": [
        "plt.figure(figsize=(8,6))\n",
        "sns.boxplot(y = data[data['sample'] == 1]['score_bki'], x = data[data['sample'] == 1]['default'])"
      ],
      "metadata": {
        "colab": {
          "base_uri": "https://localhost:8080/",
          "height": 405
        },
        "id": "Izki8VPW66FR",
        "outputId": "1d7ccb20-3b19-4a6d-cfe3-444b86489a22"
      },
      "execution_count": 726,
      "outputs": [
        {
          "output_type": "execute_result",
          "data": {
            "text/plain": [
              "<matplotlib.axes._subplots.AxesSubplot at 0x7f9cebfa10d0>"
            ]
          },
          "metadata": {},
          "execution_count": 726
        },
        {
          "output_type": "display_data",
          "data": {
            "image/png": "[encoded data removed]",
            "text/plain": [
              "<Figure size 576x432 with 1 Axes>"
            ]
          },
          "metadata": {
            "needs_background": "light"
          }
        }
      ]
    },
    {
      "cell_type": "markdown",
      "source": [
        "### 10. bki_request_cnt"
      ],
      "metadata": {
        "id": "E7sg0a843pfW"
      }
    },
    {
      "cell_type": "code",
      "source": [
        "data.bki_request_cnt.unique()"
      ],
      "metadata": {
        "colab": {
          "base_uri": "https://localhost:8080/"
        },
        "id": "C6BQu6nB2JF6",
        "outputId": "18396278-c418-4a5a-da91-26a971f01850"
      },
      "execution_count": 727,
      "outputs": [
        {
          "output_type": "execute_result",
          "data": {
            "text/plain": [
              "array([ 3,  2,  1,  0,  7,  5,  4,  6,  9,  8, 12, 10, 17, 13, 11, 14, 15,\n",
              "       19, 27, 18, 16, 29, 21, 20, 47, 22, 23, 25, 33, 24, 32, 40, 26, 28,\n",
              "       34, 36, 53, 45, 41, 46])"
            ]
          },
          "metadata": {},
          "execution_count": 727
        }
      ]
    },
    {
      "cell_type": "code",
      "source": [
        "plt.figure(figsize=(10, 4))\n",
        "data.bki_request_cnt.value_counts().plot.bar()"
      ],
      "metadata": {
        "colab": {
          "base_uri": "https://localhost:8080/",
          "height": 287
        },
        "id": "_Jf3bWvx4Fnz",
        "outputId": "703e96e2-2eeb-4aa5-c062-b3a4f18bdd89"
      },
      "execution_count": 728,
      "outputs": [
        {
          "output_type": "execute_result",
          "data": {
            "text/plain": [
              "<matplotlib.axes._subplots.AxesSubplot at 0x7f9cebf66310>"
            ]
          },
          "metadata": {},
          "execution_count": 728
        },
        {
          "output_type": "display_data",
          "data": {
            "image/png": "[encoded data removed]",
            "text/plain": [
              "<Figure size 720x288 with 1 Axes>"
            ]
          },
          "metadata": {
            "needs_background": "light"
          }
        }
      ]
    },
    {
      "cell_type": "code",
      "source": [
        "plt.figure(figsize=(8,6))\n",
        "sns.boxplot(y = data[data['sample'] == 1]['bki_request_cnt'], x = data[data['sample'] == 1]['default'])"
      ],
      "metadata": {
        "colab": {
          "base_uri": "https://localhost:8080/",
          "height": 405
        },
        "id": "Ks1daUqV1RZj",
        "outputId": "cc4b90b8-3966-403a-dcdf-4e35dafbd078"
      },
      "execution_count": 729,
      "outputs": [
        {
          "output_type": "execute_result",
          "data": {
            "text/plain": [
              "<matplotlib.axes._subplots.AxesSubplot at 0x7f9cebdba0d0>"
            ]
          },
          "metadata": {},
          "execution_count": 729
        },
        {
          "output_type": "display_data",
          "data": {
            "image/png": "[encoded data removed]",
            "text/plain": [
              "<Figure size 576x432 with 1 Axes>"
            ]
          },
          "metadata": {
            "needs_background": "light"
          }
        }
      ]
    },
    {
      "cell_type": "markdown",
      "source": [
        "Дефолтные клиенты в среднем имеют больше запросов в БКИ"
      ],
      "metadata": {
        "id": "5GrJBxeZ7p4L"
      }
    },
    {
      "cell_type": "markdown",
      "source": [
        "### 11. region_rating"
      ],
      "metadata": {
        "id": "fL9ujd7d78_K"
      }
    },
    {
      "cell_type": "code",
      "source": [
        "data.region_rating.unique()"
      ],
      "metadata": {
        "colab": {
          "base_uri": "https://localhost:8080/"
        },
        "id": "f8aDjWEH7bEm",
        "outputId": "210075bb-eaf1-4330-9f41-36c696863db1"
      },
      "execution_count": 730,
      "outputs": [
        {
          "output_type": "execute_result",
          "data": {
            "text/plain": [
              "array([50, 40, 80, 60, 70, 20, 30])"
            ]
          },
          "metadata": {},
          "execution_count": 730
        }
      ]
    },
    {
      "cell_type": "code",
      "source": [
        "sns.countplot(x= data.region_rating)"
      ],
      "metadata": {
        "colab": {
          "base_uri": "https://localhost:8080/",
          "height": 297
        },
        "id": "VKuBwJVpAY1k",
        "outputId": "cdce2f3a-1c22-40e2-ec98-c0f81859e1d8"
      },
      "execution_count": 731,
      "outputs": [
        {
          "output_type": "execute_result",
          "data": {
            "text/plain": [
              "<matplotlib.axes._subplots.AxesSubplot at 0x7f9cebcca310>"
            ]
          },
          "metadata": {},
          "execution_count": 731
        },
        {
          "output_type": "display_data",
          "data": {
            "image/png": "[encoded data removed]",
            "text/plain": [
              "<Figure size 432x288 with 1 Axes>"
            ]
          },
          "metadata": {
            "needs_background": "light"
          }
        }
      ]
    },
    {
      "cell_type": "code",
      "source": [
        "sns.countplot(x='default', hue='region_rating', data = data[data['sample'] == 1])"
      ],
      "metadata": {
        "colab": {
          "base_uri": "https://localhost:8080/",
          "height": 296
        },
        "id": "zC1qbTIuAmwo",
        "outputId": "befbbb06-3e47-4f13-d4f3-f03ad7db9d1f"
      },
      "execution_count": 732,
      "outputs": [
        {
          "output_type": "execute_result",
          "data": {
            "text/plain": [
              "<matplotlib.axes._subplots.AxesSubplot at 0x7f9cebcabf90>"
            ]
          },
          "metadata": {},
          "execution_count": 732
        },
        {
          "output_type": "display_data",
          "data": {
            "image/png": "[encoded data removed]",
            "text/plain": [
              "<Figure size 432x288 with 1 Axes>"
            ]
          },
          "metadata": {
            "needs_background": "light"
          }
        }
      ]
    },
    {
      "cell_type": "markdown",
      "source": [
        "### 12. home_address"
      ],
      "metadata": {
        "id": "MuB2mLS2_J_q"
      }
    },
    {
      "cell_type": "code",
      "source": [
        "data.home_address.unique()"
      ],
      "metadata": {
        "colab": {
          "base_uri": "https://localhost:8080/"
        },
        "id": "RSIHEGkN7bPl",
        "outputId": "addfde83-71d9-4c60-c71c-64fcd6433e9b"
      },
      "execution_count": 733,
      "outputs": [
        {
          "output_type": "execute_result",
          "data": {
            "text/plain": [
              "array([1, 2, 3])"
            ]
          },
          "metadata": {},
          "execution_count": 733
        }
      ]
    },
    {
      "cell_type": "code",
      "source": [
        "sns.countplot(x= data.home_address)"
      ],
      "metadata": {
        "colab": {
          "base_uri": "https://localhost:8080/",
          "height": 297
        },
        "id": "jUjTsRr8_fdq",
        "outputId": "73aa6eeb-888c-40ea-edf6-606c0c5d354e"
      },
      "execution_count": 734,
      "outputs": [
        {
          "output_type": "execute_result",
          "data": {
            "text/plain": [
              "<matplotlib.axes._subplots.AxesSubplot at 0x7f9cebbc5bd0>"
            ]
          },
          "metadata": {},
          "execution_count": 734
        },
        {
          "output_type": "display_data",
          "data": {
            "image/png": "[encoded data removed]",
            "text/plain": [
              "<Figure size 432x288 with 1 Axes>"
            ]
          },
          "metadata": {
            "needs_background": "light"
          }
        }
      ]
    },
    {
      "cell_type": "code",
      "source": [
        "sns.countplot(x='default', hue='home_address', data = data[data['sample'] == 1])"
      ],
      "metadata": {
        "colab": {
          "base_uri": "https://localhost:8080/",
          "height": 298
        },
        "id": "Lxc1CSEb_ImE",
        "outputId": "2cf96ac6-f49f-4d54-d788-2d7b9aa15033"
      },
      "execution_count": 735,
      "outputs": [
        {
          "output_type": "execute_result",
          "data": {
            "text/plain": [
              "<matplotlib.axes._subplots.AxesSubplot at 0x7f9cebbb5c50>"
            ]
          },
          "metadata": {},
          "execution_count": 735
        },
        {
          "output_type": "display_data",
          "data": {
            "image/png": "[encoded data removed]",
            "text/plain": [
              "<Figure size 432x288 with 1 Axes>"
            ]
          },
          "metadata": {
            "needs_background": "light"
          }
        }
      ]
    },
    {
      "cell_type": "markdown",
      "source": [
        "### 13. work_address"
      ],
      "metadata": {
        "id": "yEwfKrr5BAol"
      }
    },
    {
      "cell_type": "code",
      "source": [
        "data.work_address.unique()"
      ],
      "metadata": {
        "colab": {
          "base_uri": "https://localhost:8080/"
        },
        "id": "YXZ-eljg_ItI",
        "outputId": "84bdd573-5919-4596-b79c-fd281686f931"
      },
      "execution_count": 736,
      "outputs": [
        {
          "output_type": "execute_result",
          "data": {
            "text/plain": [
              "array([2, 3, 1])"
            ]
          },
          "metadata": {},
          "execution_count": 736
        }
      ]
    },
    {
      "cell_type": "code",
      "source": [
        "sns.countplot(x=data.work_address)"
      ],
      "metadata": {
        "colab": {
          "base_uri": "https://localhost:8080/",
          "height": 300
        },
        "id": "8nWGKmF_CE9p",
        "outputId": "0770864f-11e3-4302-f71a-f55bbefbff52"
      },
      "execution_count": 737,
      "outputs": [
        {
          "output_type": "execute_result",
          "data": {
            "text/plain": [
              "<matplotlib.axes._subplots.AxesSubplot at 0x7f9cebb27c10>"
            ]
          },
          "metadata": {},
          "execution_count": 737
        },
        {
          "output_type": "display_data",
          "data": {
            "image/png": "[encoded data removed]",
            "text/plain": [
              "<Figure size 432x288 with 1 Axes>"
            ]
          },
          "metadata": {
            "needs_background": "light"
          }
        }
      ]
    },
    {
      "cell_type": "code",
      "source": [
        "sns.countplot(x='default', hue= 'work_address', data=data[data['sample'] == 1])"
      ],
      "metadata": {
        "colab": {
          "base_uri": "https://localhost:8080/",
          "height": 299
        },
        "id": "2emQ6LXtCP0P",
        "outputId": "395938e3-a7f5-4cce-9ed7-762855edfc07"
      },
      "execution_count": 738,
      "outputs": [
        {
          "output_type": "execute_result",
          "data": {
            "text/plain": [
              "<matplotlib.axes._subplots.AxesSubplot at 0x7f9ceba93390>"
            ]
          },
          "metadata": {},
          "execution_count": 738
        },
        {
          "output_type": "display_data",
          "data": {
            "image/png": "[encoded data removed]",
            "text/plain": [
              "<Figure size 432x288 with 1 Axes>"
            ]
          },
          "metadata": {
            "needs_background": "light"
          }
        }
      ]
    },
    {
      "cell_type": "markdown",
      "source": [
        "### 14. income"
      ],
      "metadata": {
        "id": "YI12SJM5C1HF"
      }
    },
    {
      "cell_type": "code",
      "source": [
        "data.income.nunique()"
      ],
      "metadata": {
        "colab": {
          "base_uri": "https://localhost:8080/"
        },
        "id": "D7AN0yj__Iw5",
        "outputId": "9f32833c-d2f7-4197-b0c9-d831ea90bf75"
      },
      "execution_count": 739,
      "outputs": [
        {
          "output_type": "execute_result",
          "data": {
            "text/plain": [
              "1207"
            ]
          },
          "metadata": {},
          "execution_count": 739
        }
      ]
    },
    {
      "cell_type": "code",
      "source": [
        "data.income.describe()"
      ],
      "metadata": {
        "colab": {
          "base_uri": "https://localhost:8080/"
        },
        "id": "jBZETqYdDyKf",
        "outputId": "b0f5d715-9788-4979-e907-b30354e2a9c1"
      },
      "execution_count": 740,
      "outputs": [
        {
          "output_type": "execute_result",
          "data": {
            "text/plain": [
              "count     110148.000000\n",
              "mean       41012.648537\n",
              "std        45399.735051\n",
              "min         1000.000000\n",
              "25%        20000.000000\n",
              "50%        30000.000000\n",
              "75%        48000.000000\n",
              "max      1000000.000000\n",
              "Name: income, dtype: float64"
            ]
          },
          "metadata": {},
          "execution_count": 740
        }
      ]
    },
    {
      "cell_type": "code",
      "source": [
        "np.sqrt(data.income).hist(bins=40)"
      ],
      "metadata": {
        "colab": {
          "base_uri": "https://localhost:8080/",
          "height": 282
        },
        "id": "--cDdgNJDFwD",
        "outputId": "1a9df5a0-72e6-4829-ac1c-596da3e654fb"
      },
      "execution_count": 741,
      "outputs": [
        {
          "output_type": "execute_result",
          "data": {
            "text/plain": [
              "<matplotlib.axes._subplots.AxesSubplot at 0x7f9ceba4d690>"
            ]
          },
          "metadata": {},
          "execution_count": 741
        },
        {
          "output_type": "display_data",
          "data": {
            "image/png": "[encoded data removed]",
            "text/plain": [
              "<Figure size 432x288 with 1 Axes>"
            ]
          },
          "metadata": {
            "needs_background": "light"
          }
        }
      ]
    },
    {
      "cell_type": "code",
      "source": [
        "sns.boxplot(data.income)"
      ],
      "metadata": {
        "colab": {
          "base_uri": "https://localhost:8080/",
          "height": 351
        },
        "id": "7M30fRasEbU1",
        "outputId": "a0792f66-9b9f-4c9e-bd5a-076def38549c"
      },
      "execution_count": 742,
      "outputs": [
        {
          "output_type": "stream",
          "name": "stderr",
          "text": [
            "/usr/local/lib/python3.7/dist-packages/seaborn/_decorators.py:43: FutureWarning: Pass the following variable as a keyword arg: x. From version 0.12, the only valid positional argument will be `data`, and passing other arguments without an explicit keyword will result in an error or misinterpretation.\n",
            "  FutureWarning\n"
          ]
        },
        {
          "output_type": "execute_result",
          "data": {
            "text/plain": [
              "<matplotlib.axes._subplots.AxesSubplot at 0x7f9cebba6d50>"
            ]
          },
          "metadata": {},
          "execution_count": 742
        },
        {
          "output_type": "display_data",
          "data": {
            "image/png": "[encoded data removed]",
            "text/plain": [
              "<Figure size 432x288 with 1 Axes>"
            ]
          },
          "metadata": {
            "needs_background": "light"
          }
        }
      ]
    },
    {
      "cell_type": "code",
      "source": [
        "plt.figure(figsize=(10,6))\n",
        "sns.boxplot(y = data[data['sample'] == 1]['income'], x = data[data['sample'] == 1]['default'])"
      ],
      "metadata": {
        "colab": {
          "base_uri": "https://localhost:8080/",
          "height": 416
        },
        "id": "ytaMH94OEpA3",
        "outputId": "35ac99ad-0a90-4b49-e7db-228c61e2e623"
      },
      "execution_count": 743,
      "outputs": [
        {
          "output_type": "execute_result",
          "data": {
            "text/plain": [
              "<matplotlib.axes._subplots.AxesSubplot at 0x7f9ceb919350>"
            ]
          },
          "metadata": {},
          "execution_count": 743
        },
        {
          "output_type": "display_data",
          "data": {
            "image/png": "[encoded data removed]",
            "text/plain": [
              "<Figure size 720x432 with 1 Axes>"
            ]
          },
          "metadata": {
            "needs_background": "light"
          }
        }
      ]
    },
    {
      "cell_type": "markdown",
      "source": [
        "Дефолтные клиенты в среднем имеют более низкий доход"
      ],
      "metadata": {
        "id": "xPiujZRiE80s"
      }
    },
    {
      "cell_type": "markdown",
      "source": [
        "### 15. sna"
      ],
      "metadata": {
        "id": "dpXXIgD6FLfY"
      }
    },
    {
      "cell_type": "code",
      "source": [
        "data.sna.unique()"
      ],
      "metadata": {
        "colab": {
          "base_uri": "https://localhost:8080/"
        },
        "id": "R80irJhIFMLB",
        "outputId": "0aa5052f-9f99-4030-9e17-99021c2b52bf"
      },
      "execution_count": 744,
      "outputs": [
        {
          "output_type": "execute_result",
          "data": {
            "text/plain": [
              "array([1, 4, 2, 3])"
            ]
          },
          "metadata": {},
          "execution_count": 744
        }
      ]
    },
    {
      "cell_type": "code",
      "source": [
        "sns.countplot(x=data.sna)"
      ],
      "metadata": {
        "colab": {
          "base_uri": "https://localhost:8080/",
          "height": 296
        },
        "id": "eQ9ZmAXzFMOq",
        "outputId": "69962708-6777-4a13-8000-a2149e0c6826"
      },
      "execution_count": 745,
      "outputs": [
        {
          "output_type": "execute_result",
          "data": {
            "text/plain": [
              "<matplotlib.axes._subplots.AxesSubplot at 0x7f9ceb849c90>"
            ]
          },
          "metadata": {},
          "execution_count": 745
        },
        {
          "output_type": "display_data",
          "data": {
            "image/png": "[encoded data removed]",
            "text/plain": [
              "<Figure size 432x288 with 1 Axes>"
            ]
          },
          "metadata": {
            "needs_background": "light"
          }
        }
      ]
    },
    {
      "cell_type": "code",
      "source": [
        "sns.countplot(x='default', hue= 'sna', data=data[data['sample'] == 1])"
      ],
      "metadata": {
        "colab": {
          "base_uri": "https://localhost:8080/",
          "height": 296
        },
        "id": "ek1ngt6TFMSq",
        "outputId": "67ca0765-fd9c-494a-dbfb-73391dfa3b36"
      },
      "execution_count": 746,
      "outputs": [
        {
          "output_type": "execute_result",
          "data": {
            "text/plain": [
              "<matplotlib.axes._subplots.AxesSubplot at 0x7f9ceb7c1190>"
            ]
          },
          "metadata": {},
          "execution_count": 746
        },
        {
          "output_type": "display_data",
          "data": {
            "image/png": "[encoded data removed]",
            "text/plain": [
              "<Figure size 432x288 with 1 Axes>"
            ]
          },
          "metadata": {
            "needs_background": "light"
          }
        }
      ]
    },
    {
      "cell_type": "markdown",
      "source": [
        "### 16. first_time"
      ],
      "metadata": {
        "id": "K7ZjhSTAFy_o"
      }
    },
    {
      "cell_type": "code",
      "source": [
        "data.first_time.unique()"
      ],
      "metadata": {
        "colab": {
          "base_uri": "https://localhost:8080/"
        },
        "id": "EtxckUbqF6Pg",
        "outputId": "9e6ba5fc-77ec-4806-8bb5-3028f77ddebd"
      },
      "execution_count": 747,
      "outputs": [
        {
          "output_type": "execute_result",
          "data": {
            "text/plain": [
              "array([4, 3, 1, 2])"
            ]
          },
          "metadata": {},
          "execution_count": 747
        }
      ]
    },
    {
      "cell_type": "code",
      "source": [
        "sns.countplot(x=data.first_time)"
      ],
      "metadata": {
        "colab": {
          "base_uri": "https://localhost:8080/",
          "height": 297
        },
        "id": "gIAQTFv9FMW3",
        "outputId": "fe4108e6-4163-4348-e86c-473b9fc9952e"
      },
      "execution_count": 748,
      "outputs": [
        {
          "output_type": "execute_result",
          "data": {
            "text/plain": [
              "<matplotlib.axes._subplots.AxesSubplot at 0x7f9ceb811990>"
            ]
          },
          "metadata": {},
          "execution_count": 748
        },
        {
          "output_type": "display_data",
          "data": {
            "image/png": "[encoded data removed]",
            "text/plain": [
              "<Figure size 432x288 with 1 Axes>"
            ]
          },
          "metadata": {
            "needs_background": "light"
          }
        }
      ]
    },
    {
      "cell_type": "code",
      "source": [
        "sns.countplot(x='default', hue= 'first_time', data=data[data['sample'] == 1])"
      ],
      "metadata": {
        "colab": {
          "base_uri": "https://localhost:8080/",
          "height": 296
        },
        "id": "9LTrujfyGKEm",
        "outputId": "8c51957e-3523-4d24-fcae-83e89012d6ca"
      },
      "execution_count": 749,
      "outputs": [
        {
          "output_type": "execute_result",
          "data": {
            "text/plain": [
              "<matplotlib.axes._subplots.AxesSubplot at 0x7f9ceb71ae90>"
            ]
          },
          "metadata": {},
          "execution_count": 749
        },
        {
          "output_type": "display_data",
          "data": {
            "image/png": "[encoded data removed]",
            "text/plain": [
              "<Figure size 432x288 with 1 Axes>"
            ]
          },
          "metadata": {
            "needs_background": "light"
          }
        }
      ]
    },
    {
      "cell_type": "markdown",
      "source": [
        "### 17. foreign_passport"
      ],
      "metadata": {
        "id": "G9yEd53oGTKA"
      }
    },
    {
      "cell_type": "code",
      "source": [
        "data.foreign_passport.unique()"
      ],
      "metadata": {
        "colab": {
          "base_uri": "https://localhost:8080/"
        },
        "id": "CJse3WR-FMan",
        "outputId": "698c803a-53e0-468d-e1c3-11b1290293b9"
      },
      "execution_count": 750,
      "outputs": [
        {
          "output_type": "execute_result",
          "data": {
            "text/plain": [
              "array(['N', 'Y'], dtype=object)"
            ]
          },
          "metadata": {},
          "execution_count": 750
        }
      ]
    },
    {
      "cell_type": "code",
      "source": [
        "sns.countplot(x=data.foreign_passport)"
      ],
      "metadata": {
        "colab": {
          "base_uri": "https://localhost:8080/",
          "height": 297
        },
        "id": "pS_JDbOpFMqL",
        "outputId": "f02bd8b8-af4b-47b7-832d-ed3500d051f5"
      },
      "execution_count": 751,
      "outputs": [
        {
          "output_type": "execute_result",
          "data": {
            "text/plain": [
              "<matplotlib.axes._subplots.AxesSubplot at 0x7f9ceb6e8f50>"
            ]
          },
          "metadata": {},
          "execution_count": 751
        },
        {
          "output_type": "display_data",
          "data": {
            "image/png": "[encoded data removed]",
            "text/plain": [
              "<Figure size 432x288 with 1 Axes>"
            ]
          },
          "metadata": {
            "needs_background": "light"
          }
        }
      ]
    },
    {
      "cell_type": "code",
      "source": [
        "sns.countplot(x='default', hue= 'foreign_passport', data=data[data['sample'] == 1])"
      ],
      "metadata": {
        "colab": {
          "base_uri": "https://localhost:8080/",
          "height": 296
        },
        "id": "jPtJJs-GFMtv",
        "outputId": "5d1dc259-4ccd-4ba1-ddf8-b5b0c3b71ddc"
      },
      "execution_count": 752,
      "outputs": [
        {
          "output_type": "execute_result",
          "data": {
            "text/plain": [
              "<matplotlib.axes._subplots.AxesSubplot at 0x7f9ceb669610>"
            ]
          },
          "metadata": {},
          "execution_count": 752
        },
        {
          "output_type": "display_data",
          "data": {
            "image/png": "[encoded data removed]",
            "text/plain": [
              "<Figure size 432x288 with 1 Axes>"
            ]
          },
          "metadata": {
            "needs_background": "light"
          }
        }
      ]
    },
    {
      "cell_type": "markdown",
      "source": [
        "обладатели загран паспорта так же имеют меньшую вероятность дефолта"
      ],
      "metadata": {
        "id": "usZvxykgG7dh"
      }
    },
    {
      "cell_type": "markdown",
      "source": [
        "### 18. default"
      ],
      "metadata": {
        "id": "v2hf4VdhHenV"
      }
    },
    {
      "cell_type": "code",
      "source": [
        "data[data['sample'] == 1].default.value_counts()"
      ],
      "metadata": {
        "colab": {
          "base_uri": "https://localhost:8080/"
        },
        "id": "ZZ2WfSxF_I4j",
        "outputId": "798b80fc-887d-474d-c34c-1701f2e910e6"
      },
      "execution_count": 753,
      "outputs": [
        {
          "output_type": "execute_result",
          "data": {
            "text/plain": [
              "0    64427\n",
              "1     9372\n",
              "Name: default, dtype: int64"
            ]
          },
          "metadata": {},
          "execution_count": 753
        }
      ]
    },
    {
      "cell_type": "code",
      "source": [
        "sns.countplot(x=data[data['sample'] == 1].default)"
      ],
      "metadata": {
        "colab": {
          "base_uri": "https://localhost:8080/",
          "height": 296
        },
        "id": "3ZW8TjFmHpU7",
        "outputId": "17fae36a-0a8f-4214-f659-4f4671700a7e"
      },
      "execution_count": 754,
      "outputs": [
        {
          "output_type": "execute_result",
          "data": {
            "text/plain": [
              "<matplotlib.axes._subplots.AxesSubplot at 0x7f9ceb5da210>"
            ]
          },
          "metadata": {},
          "execution_count": 754
        },
        {
          "output_type": "display_data",
          "data": {
            "image/png": "[encoded data removed]",
            "text/plain": [
              "<Figure size 432x288 with 1 Axes>"
            ]
          },
          "metadata": {
            "needs_background": "light"
          }
        }
      ]
    },
    {
      "cell_type": "code",
      "source": [
        "# для удобства обработки сгрупируем признаки по типу переменных\n",
        "\n",
        "#  бинарные переменные \n",
        "bin_cols = ['sex', 'car', 'car_type', 'good_work', 'foreign_passport']\n",
        "\n",
        "#  категориальные переменные\n",
        "cat_cols = ['education', 'first_time', 'sna', 'work_address', 'home_address', 'region_rating', 'app_date']\n",
        "\n",
        "#  числовые переменные\n",
        "num_cols = ['age', 'score_bki', 'decline_app_cnt', 'bki_request_cnt', 'income']\n"
      ],
      "metadata": {
        "id": "6Zxf5rzij9lx"
      },
      "execution_count": 755,
      "outputs": []
    },
    {
      "cell_type": "markdown",
      "source": [
        "### Оценка корреляций"
      ],
      "metadata": {
        "id": "2rGHCSMkrVjF"
      }
    },
    {
      "cell_type": "code",
      "source": [
        "plt.figure(figsize=(10,8))\n",
        "sns.heatmap(data[num_cols].corr().abs(), vmin=0, vmax=1,annot=True)"
      ],
      "metadata": {
        "colab": {
          "base_uri": "https://localhost:8080/",
          "height": 505
        },
        "id": "A3iOfx6oHpdF",
        "outputId": "5e41e7ba-07b6-4f35-c49a-aa0db4a63ce4"
      },
      "execution_count": 756,
      "outputs": [
        {
          "output_type": "execute_result",
          "data": {
            "text/plain": [
              "<matplotlib.axes._subplots.AxesSubplot at 0x7f9ceb5b1a50>"
            ]
          },
          "metadata": {},
          "execution_count": 756
        },
        {
          "output_type": "display_data",
          "data": {
            "image/png": "[encoded data removed]",
            "text/plain": [
              "<Figure size 720x576 with 2 Axes>"
            ]
          },
          "metadata": {
            "needs_background": "light"
          }
        }
      ]
    },
    {
      "cell_type": "markdown",
      "source": [
        "корреляция между числовыми признаками слабая"
      ],
      "metadata": {
        "id": "5MPe8Kr5lATt"
      }
    },
    {
      "cell_type": "code",
      "source": [
        "# Оценим значимость непрерывных переменных методом однофакторного дисперсионного анализа (ANOVA)\n",
        "imp_num = pd.Series(f_classif(data[num_cols], data['default'])[0], index = num_cols)\n",
        "imp_num.sort_values(inplace = True)\n",
        "imp_num.plot(kind = 'barh')"
      ],
      "metadata": {
        "id": "XOUt8YDmHphC",
        "colab": {
          "base_uri": "https://localhost:8080/",
          "height": 282
        },
        "outputId": "b7ff15a5-10bd-4add-ae92-b101e89ef09a"
      },
      "execution_count": 757,
      "outputs": [
        {
          "output_type": "execute_result",
          "data": {
            "text/plain": [
              "<matplotlib.axes._subplots.AxesSubplot at 0x7f9ceb48bbd0>"
            ]
          },
          "metadata": {},
          "execution_count": 757
        },
        {
          "output_type": "display_data",
          "data": {
            "image/png": "[encoded data removed]",
            "text/plain": [
              "<Figure size 432x288 with 1 Axes>"
            ]
          },
          "metadata": {
            "needs_background": "light"
          }
        }
      ]
    },
    {
      "cell_type": "markdown",
      "source": [
        "### ЗНАЧИМОСТЬ КАТЕГОРИАЛЬНЫХ ПРИЗНАКОВ\n",
        "\n",
        "\n",
        "Для этого преобразуем строковые переменные в числа.\n",
        "Для оценки значимости категориальных и бинарных переменных будем использовать функцию mutual_info_classif."
      ],
      "metadata": {
        "id": "FDNA0qzLoHF2"
      }
    },
    {
      "cell_type": "code",
      "source": [
        "def education_to_num(L):\n",
        "  if L == 'WAE':\n",
        "    return 0\n",
        "  elif L == 'GRD':\n",
        "    return 1\n",
        "  elif L == 'SCH':\n",
        "    return 2\n",
        "  elif L == 'UGR':\n",
        "    return 3\n",
        "  elif L == 'PGR':\n",
        "    return 4\n",
        "  else:\n",
        "    return 5"
      ],
      "metadata": {
        "id": "tL4uXpSrHplk"
      },
      "execution_count": 758,
      "outputs": []
    },
    {
      "cell_type": "code",
      "source": [
        "data.education = data.education.apply(lambda L: education_to_num(L))"
      ],
      "metadata": {
        "id": "kKVZgRdLHpo1"
      },
      "execution_count": 759,
      "outputs": []
    },
    {
      "cell_type": "code",
      "source": [
        "label_encoder = LabelEncoder()\n",
        "\n",
        "for column in bin_cols:\n",
        "    data[column] = label_encoder.fit_transform(data[column])"
      ],
      "metadata": {
        "id": "oWZ8jKRvpX1f"
      },
      "execution_count": 760,
      "outputs": []
    },
    {
      "cell_type": "code",
      "source": [
        "imp_cat = pd.Series(mutual_info_classif(data[bin_cols + cat_cols], data['default'],\n",
        "                                     discrete_features =True), index = bin_cols + cat_cols)\n",
        "imp_cat.sort_values(inplace = True)\n",
        "imp_cat.plot(kind = 'barh')"
      ],
      "metadata": {
        "colab": {
          "base_uri": "https://localhost:8080/",
          "height": 282
        },
        "id": "4TzEKmQQooB-",
        "outputId": "6b996a5c-52e8-4195-8c5e-c399b640ba36"
      },
      "execution_count": 761,
      "outputs": [
        {
          "output_type": "execute_result",
          "data": {
            "text/plain": [
              "<matplotlib.axes._subplots.AxesSubplot at 0x7f9ceb3f8950>"
            ]
          },
          "metadata": {},
          "execution_count": 761
        },
        {
          "output_type": "display_data",
          "data": {
            "image/png": "[encoded data removed]",
            "text/plain": [
              "<Figure size 432x288 with 1 Axes>"
            ]
          },
          "metadata": {
            "needs_background": "light"
          }
        }
      ]
    },
    {
      "cell_type": "code",
      "source": [
        "# так как значимость признака \"app_date\" не высока, исключим его из модели\n",
        "cat_cols = ['education', 'first_time', 'sna', 'work_address', 'home_address', 'region_rating']"
      ],
      "metadata": {
        "id": "7VMN8CXcZjaZ"
      },
      "execution_count": 762,
      "outputs": []
    },
    {
      "cell_type": "markdown",
      "source": [
        "# Data Preprocessing"
      ],
      "metadata": {
        "id": "o3FN7eiFsrcT"
      }
    },
    {
      "cell_type": "code",
      "source": [
        "#  проведем  разделение на трейн, валидационную часть и тест \n",
        "\n",
        "train_validation = data.query('sample == 1').drop(['sample'], axis=1)\n",
        "test = data.query('sample == 0').drop(['sample', 'default'], axis=1)"
      ],
      "metadata": {
        "id": "0VK5qBFDooJb"
      },
      "execution_count": 763,
      "outputs": []
    },
    {
      "cell_type": "code",
      "source": [
        "train, validation = train_test_split(train_validation, test_size=0.33, random_state=42)"
      ],
      "metadata": {
        "id": "wI4-Dp2sooMq"
      },
      "execution_count": 764,
      "outputs": []
    },
    {
      "cell_type": "markdown",
      "source": [
        "### Преобразуем категориальные переменные с помощью  One-Hot Encoding"
      ],
      "metadata": {
        "id": "o7y6_dmVwPaA"
      }
    },
    {
      "cell_type": "code",
      "source": [
        "hot_encoder = OneHotEncoder(sparse = False)"
      ],
      "metadata": {
        "id": "Fu6_HkXaz1dY"
      },
      "execution_count": 765,
      "outputs": []
    },
    {
      "cell_type": "code",
      "source": [
        "X_cat_train = hot_encoder.fit_transform(train[cat_cols].values)\n",
        "X_cat_valid = hot_encoder.transform(validation[cat_cols].values)\n",
        "X_cat_test = hot_encoder.transform(test[cat_cols].values)"
      ],
      "metadata": {
        "id": "SvxX7lDb0BdD"
      },
      "execution_count": 766,
      "outputs": []
    },
    {
      "cell_type": "markdown",
      "source": [
        "### Стандартизация числовых переменных"
      ],
      "metadata": {
        "id": "DN2HNEFxyh2t"
      }
    },
    {
      "cell_type": "code",
      "source": [
        "scaler = StandardScaler()\n",
        "X_num_train = scaler.fit_transform(train[num_cols].values)\n",
        "X_num_valid = scaler.transform(validation[num_cols].values)\n",
        "X_num_test = scaler.transform(test[num_cols].values)"
      ],
      "metadata": {
        "id": "2Vlmym3000WE"
      },
      "execution_count": 767,
      "outputs": []
    },
    {
      "cell_type": "markdown",
      "source": [
        "### Oбъединим стандартизованные числовые, бинарные и закодированные категориальные переменные в одно признаковое пространство, разделив при этом признаки и целевую переменную."
      ],
      "metadata": {
        "id": "ssCyPfca1QE4"
      }
    },
    {
      "cell_type": "code",
      "source": [
        "X_train = np.hstack([X_num_train, train[bin_cols].values, X_cat_train])\n",
        "y_train = train['default'].values\n",
        "\n",
        "X_validation = np.hstack([X_num_valid, validation[bin_cols].values, X_cat_valid])\n",
        "y_validation = validation['default'].values\n",
        "\n",
        "X_test = np.hstack([X_num_test, test[bin_cols].values, X_cat_test])"
      ],
      "metadata": {
        "id": "3ASQFqJow9kN"
      },
      "execution_count": 768,
      "outputs": []
    },
    {
      "cell_type": "markdown",
      "metadata": {
        "id": "JgfKzYwk8V1U"
      },
      "source": [
        "# модель"
      ]
    },
    {
      "cell_type": "code",
      "metadata": {
        "id": "Nbgsj8ur8UAq"
      },
      "source": [
        "# Импортируем необходимые библиотеки:\n",
        "from sklearn.linear_model import LogisticRegression # инструмент для создания и обучения модели\n",
        "from sklearn import metrics # инструменты для оценки точности модели"
      ],
      "execution_count": 769,
      "outputs": []
    },
    {
      "cell_type": "code",
      "metadata": {
        "id": "55UpENPB9s24"
      },
      "source": [
        "model = LogisticRegression(max_iter=1000)"
      ],
      "execution_count": 770,
      "outputs": []
    },
    {
      "cell_type": "code",
      "metadata": {
        "id": "eOVNUv_h9wP5",
        "colab": {
          "base_uri": "https://localhost:8080/"
        },
        "outputId": "4a29a45c-dfc3-4ec8-ee00-641ac9ac7c89"
      },
      "source": [
        "model.fit(X_train, y_train)"
      ],
      "execution_count": 771,
      "outputs": [
        {
          "output_type": "execute_result",
          "data": {
            "text/plain": [
              "LogisticRegression(max_iter=1000)"
            ]
          },
          "metadata": {},
          "execution_count": 771
        }
      ]
    },
    {
      "cell_type": "code",
      "source": [
        "y_pred = model.predict(X_validation)\n",
        "y_pred_proba = model.predict_proba(X_validation)"
      ],
      "metadata": {
        "id": "PUDD-ggeFFEI"
      },
      "execution_count": 772,
      "outputs": []
    },
    {
      "cell_type": "markdown",
      "source": [
        "# Метрики"
      ],
      "metadata": {
        "id": "ZdanH9UNSsdT"
      }
    },
    {
      "cell_type": "code",
      "source": [
        "from sklearn.metrics import classification_report, confusion_matrix, f1_score, recall_score, precision_score, roc_auc_score, roc_curve\n",
        "classification_report_ = classification_report(y_validation, y_pred)\n",
        "print(classification_report_)"
      ],
      "metadata": {
        "colab": {
          "base_uri": "https://localhost:8080/"
        },
        "id": "19-cSfYhFFIE",
        "outputId": "0061b2c2-9c46-4f4d-900a-bf29b23960ba"
      },
      "execution_count": 773,
      "outputs": [
        {
          "output_type": "stream",
          "name": "stdout",
          "text": [
            "              precision    recall  f1-score   support\n",
            "\n",
            "           0       0.88      1.00      0.93     21294\n",
            "           1       0.40      0.02      0.04      3060\n",
            "\n",
            "    accuracy                           0.87     24354\n",
            "   macro avg       0.64      0.51      0.49     24354\n",
            "weighted avg       0.82      0.87      0.82     24354\n",
            "\n"
          ]
        }
      ]
    },
    {
      "cell_type": "code",
      "metadata": {
        "colab": {
          "base_uri": "https://localhost:8080/"
        },
        "id": "TBg2eM6Q-4te",
        "outputId": "3acc6e92-0cb8-4b5a-fd63-bdfc8d878a97"
      },
      "source": [
        "confusion_matrix(y_validation, y_pred).T"
      ],
      "execution_count": 774,
      "outputs": [
        {
          "output_type": "execute_result",
          "data": {
            "text/plain": [
              "array([[21193,  2992],\n",
              "       [  101,    68]])"
            ]
          },
          "metadata": {},
          "execution_count": 774
        }
      ]
    },
    {
      "cell_type": "code",
      "source": [
        "\n",
        "df_cm = pd.DataFrame(confusion_matrix(y_validation, y_pred).T, index=['0', '1'], columns=['0', '1'])\n",
        "plt.figure(figsize = (10,7))\n",
        "sns.heatmap(df_cm, annot=True);"
      ],
      "metadata": {
        "colab": {
          "base_uri": "https://localhost:8080/",
          "height": 428
        },
        "id": "pcV5FsVmPIrw",
        "outputId": "28300fcf-b430-4621-bfd5-7362a010d51a"
      },
      "execution_count": 775,
      "outputs": [
        {
          "output_type": "display_data",
          "data": {
            "image/png": "[encoded data removed]",
            "text/plain": [
              "<Figure size 720x504 with 2 Axes>"
            ]
          },
          "metadata": {
            "needs_background": "light"
          }
        }
      ]
    },
    {
      "cell_type": "code",
      "source": [
        "def calc_and_plot_roc(y_true, y_pred_proba):\n",
        "    # Посчитать значения ROC кривой и значение площади под кривой AUC\n",
        "    fpr, tpr, thresholds = roc_curve(y_true, y_pred_proba)\n",
        "    roc_auc = roc_auc_score(y_true, y_pred_proba)\n",
        "    \n",
        "    plt.figure()\n",
        "    plt.plot([0, 1], label='Baseline', linestyle='--')\n",
        "    plt.plot(fpr, tpr, label = 'Regression')\n",
        "    plt.title('Logistic Regression ROC AUC = %0.3f' % roc_auc)\n",
        "    plt.ylabel('True Positive Rate')\n",
        "    plt.xlabel('False Positive Rate')\n",
        "    plt.legend(loc = 'lower right')\n",
        "    plt.show()"
      ],
      "metadata": {
        "id": "D48ofOPOBpVC"
      },
      "execution_count": 776,
      "outputs": []
    },
    {
      "cell_type": "code",
      "source": [
        "calc_and_plot_roc(y_validation, y_pred_proba[:,1])"
      ],
      "metadata": {
        "colab": {
          "base_uri": "https://localhost:8080/",
          "height": 295
        },
        "id": "Wx0J4YOUBv9v",
        "outputId": "e0805ec5-fdca-4a79-d573-1a1229637733"
      },
      "execution_count": 777,
      "outputs": [
        {
          "output_type": "display_data",
          "data": {
            "image/png": "[encoded data removed]",
            "text/plain": [
              "<Figure size 432x288 with 1 Axes>"
            ]
          },
          "metadata": {
            "needs_background": "light"
          }
        }
      ]
    },
    {
      "cell_type": "markdown",
      "source": [
        "## Произведем поиск гиперпараметров GridSearchCV при помощи перебора параметров по сетке param_grid."
      ],
      "metadata": {
        "id": "7LEE1t_0aO3q"
      }
    },
    {
      "cell_type": "code",
      "metadata": {
        "id": "OTszXtjzI_1z"
      },
      "source": [
        "from sklearn.model_selection import GridSearchCV"
      ],
      "execution_count": 778,
      "outputs": []
    },
    {
      "cell_type": "code",
      "metadata": {
        "id": "PpBdyDECIyF8",
        "colab": {
          "base_uri": "https://localhost:8080/"
        },
        "outputId": "678516ff-8a35-449d-a176-32de48c7b406"
      },
      "source": [
        "# запускаем GridSearch на небольшом кол-ве итераций max_iter=50 и с достаточно большой дельтой останова tol1e-3\n",
        "# чтобы получить оптимальные параметры модели в первом приближении\n",
        "model = LogisticRegression()\n",
        "\n",
        "iter_ = 50\n",
        "epsilon_stop = 1e-3\n",
        "\n",
        "param_grid = [\n",
        "    {'penalty': ['l1'], \n",
        "     'solver': ['liblinear', 'lbfgs'], \n",
        "     'class_weight':['None', 'balanced'], \n",
        "     'multi_class': ['auto','ovr'], \n",
        "     'max_iter':[iter_],\n",
        "     'tol':[epsilon_stop]},\n",
        "    {'penalty': ['l2'], \n",
        "     'solver': ['newton-cg', 'lbfgs', 'liblinear', 'sag', 'saga'], \n",
        "     'class_weight':['None', 'balanced'], \n",
        "     'multi_class': ['auto','ovr'], \n",
        "     'max_iter':[iter_],\n",
        "     'tol':[epsilon_stop]},\n",
        "    {'penalty': ['None'], \n",
        "     'solver': ['newton-cg', 'lbfgs', 'sag', 'saga'], \n",
        "     'class_weight':['None', 'balanced'], \n",
        "     'multi_class': ['auto','ovr'], \n",
        "     'max_iter':[iter_],\n",
        "     'tol':[epsilon_stop]},\n",
        "]\n",
        "\n",
        "## model ваша модель логистической регрессии\n",
        "gridsearch = GridSearchCV(model, param_grid, scoring='f1', n_jobs=-1, cv=5)\n",
        "gridsearch.fit(X_train, y_train)\n",
        "model = gridsearch.best_estimator_\n",
        "\n",
        "##печатаем параметры\n",
        "best_parameters = model.get_params()\n",
        "for param_name in sorted(best_parameters.keys()):\n",
        "        print('\\t%s: %r' % (param_name, best_parameters[param_name]))"
      ],
      "execution_count": 779,
      "outputs": [
        {
          "output_type": "stream",
          "name": "stderr",
          "text": [
            "/usr/local/lib/python3.7/dist-packages/sklearn/model_selection/_validation.py:372: FitFailedWarning: \n",
            "120 fits failed out of a total of 220.\n",
            "The score on these train-test partitions for these parameters will be set to nan.\n",
            "If these failures are not expected, you can try to debug them by setting error_score='raise'.\n",
            "\n",
            "Below are more details about the failures:\n",
            "--------------------------------------------------------------------------------\n",
            "20 fits failed with the following error:\n",
            "Traceback (most recent call last):\n",
            "  File \"/usr/local/lib/python3.7/dist-packages/sklearn/model_selection/_validation.py\", line 681, in _fit_and_score\n",
            "    estimator.fit(X_train, y_train, **fit_params)\n",
            "  File \"/usr/local/lib/python3.7/dist-packages/sklearn/linear_model/_logistic.py\", line 1541, in fit\n",
            "    sample_weight=sample_weight,\n",
            "  File \"/usr/local/lib/python3.7/dist-packages/sklearn/svm/_base.py\", line 1150, in _fit_liblinear\n",
            "    class_weight_ = compute_class_weight(class_weight, classes=classes_, y=y)\n",
            "  File \"/usr/local/lib/python3.7/dist-packages/sklearn/utils/class_weight.py\", line 59, in compute_class_weight\n",
            "    \"class_weight must be dict, 'balanced', or None, got: %r\" % class_weight\n",
            "ValueError: class_weight must be dict, 'balanced', or None, got: 'None'\n",
            "\n",
            "--------------------------------------------------------------------------------\n",
            "20 fits failed with the following error:\n",
            "Traceback (most recent call last):\n",
            "  File \"/usr/local/lib/python3.7/dist-packages/sklearn/model_selection/_validation.py\", line 681, in _fit_and_score\n",
            "    estimator.fit(X_train, y_train, **fit_params)\n",
            "  File \"/usr/local/lib/python3.7/dist-packages/sklearn/linear_model/_logistic.py\", line 1461, in fit\n",
            "    solver = _check_solver(self.solver, self.penalty, self.dual)\n",
            "  File \"/usr/local/lib/python3.7/dist-packages/sklearn/linear_model/_logistic.py\", line 449, in _check_solver\n",
            "    % (solver, penalty)\n",
            "ValueError: Solver lbfgs supports only 'l2' or 'none' penalties, got l1 penalty.\n",
            "\n",
            "--------------------------------------------------------------------------------\n",
            "80 fits failed with the following error:\n",
            "Traceback (most recent call last):\n",
            "  File \"/usr/local/lib/python3.7/dist-packages/sklearn/model_selection/_validation.py\", line 681, in _fit_and_score\n",
            "    estimator.fit(X_train, y_train, **fit_params)\n",
            "  File \"/usr/local/lib/python3.7/dist-packages/sklearn/linear_model/_logistic.py\", line 1461, in fit\n",
            "    solver = _check_solver(self.solver, self.penalty, self.dual)\n",
            "  File \"/usr/local/lib/python3.7/dist-packages/sklearn/linear_model/_logistic.py\", line 443, in _check_solver\n",
            "    % (all_penalties, penalty)\n",
            "ValueError: Logistic Regression supports only penalties in ['l1', 'l2', 'elasticnet', 'none'], got None.\n",
            "\n",
            "  warnings.warn(some_fits_failed_message, FitFailedWarning)\n",
            "/usr/local/lib/python3.7/dist-packages/sklearn/model_selection/_search.py:972: UserWarning: One or more of the test scores are non-finite: [       nan        nan        nan        nan 0.33749716        nan\n",
            " 0.33745509        nan 0.04892876 0.04950918        nan 0.04892876\n",
            " 0.04893674 0.04892876 0.04950918        nan 0.04892876 0.04893674\n",
            " 0.33750776 0.33702851 0.33752192 0.33746979 0.33733691 0.33750776\n",
            " 0.33702851 0.33752192 0.33746979 0.3373504         nan        nan\n",
            "        nan        nan        nan        nan        nan        nan\n",
            "        nan        nan        nan        nan        nan        nan\n",
            "        nan        nan]\n",
            "  category=UserWarning,\n"
          ]
        },
        {
          "output_type": "stream",
          "name": "stdout",
          "text": [
            "\tC: 1.0\n",
            "\tclass_weight: 'balanced'\n",
            "\tdual: False\n",
            "\tfit_intercept: True\n",
            "\tintercept_scaling: 1\n",
            "\tl1_ratio: None\n",
            "\tmax_iter: 50\n",
            "\tmulti_class: 'auto'\n",
            "\tn_jobs: None\n",
            "\tpenalty: 'l2'\n",
            "\trandom_state: None\n",
            "\tsolver: 'liblinear'\n",
            "\ttol: 0.001\n",
            "\tverbose: 0\n",
            "\twarm_start: False\n"
          ]
        }
      ]
    },
    {
      "cell_type": "code",
      "metadata": {
        "id": "CgUVZnOFKLwf"
      },
      "source": [
        "model_1 = LogisticRegression(C= 1.0,\n",
        "\tclass_weight= 'balanced',\n",
        "\tdual= False,\n",
        "\tfit_intercept= True,\n",
        "\tintercept_scaling= 1,\n",
        "\tl1_ratio= None,\n",
        "\tmax_iter= 50,\n",
        "\tmulti_class= 'ovr',\n",
        "\tn_jobs= None,\n",
        "\t# penalty= 'l2',\n",
        "\tpenalty= 'l1',\n",
        "\trandom_state= None,\n",
        "\t# solver= 'saga',\n",
        "\tsolver= 'liblinear',\n",
        "\ttol= 0.001,\n",
        "\tverbose= 0,\n",
        "\twarm_start= False)"
      ],
      "execution_count": 780,
      "outputs": []
    },
    {
      "cell_type": "code",
      "metadata": {
        "colab": {
          "base_uri": "https://localhost:8080/"
        },
        "id": "bKPcZ_rwLAT0",
        "outputId": "b320a54a-6d1b-4d34-99b6-51eea6debe30"
      },
      "source": [
        "model_1.fit(X_train, y_train)"
      ],
      "execution_count": 781,
      "outputs": [
        {
          "output_type": "execute_result",
          "data": {
            "text/plain": [
              "LogisticRegression(class_weight='balanced', max_iter=50, multi_class='ovr',\n",
              "                   penalty='l1', solver='liblinear', tol=0.001)"
            ]
          },
          "metadata": {},
          "execution_count": 781
        }
      ]
    },
    {
      "cell_type": "code",
      "metadata": {
        "id": "Z9AYaozkLAT0"
      },
      "source": [
        "y_pred_1 = model_1.predict(X_validation)\n",
        "y_pred_proba_1 = model_1.predict_proba(X_validation)"
      ],
      "execution_count": 782,
      "outputs": []
    },
    {
      "cell_type": "markdown",
      "source": [
        "## оценим опять метрики на оптимизированной модели"
      ],
      "metadata": {
        "id": "yZWDmEssb06_"
      }
    },
    {
      "cell_type": "code",
      "source": [
        "# первоначальная модель\n",
        "classification_report_ = classification_report(y_validation, y_pred)\n",
        "print(classification_report_)"
      ],
      "metadata": {
        "colab": {
          "base_uri": "https://localhost:8080/"
        },
        "id": "H41IgE2wd9uO",
        "outputId": "e2c2f571-ded3-47cf-b755-c8f2531a4f53"
      },
      "execution_count": 783,
      "outputs": [
        {
          "output_type": "stream",
          "name": "stdout",
          "text": [
            "              precision    recall  f1-score   support\n",
            "\n",
            "           0       0.88      1.00      0.93     21294\n",
            "           1       0.40      0.02      0.04      3060\n",
            "\n",
            "    accuracy                           0.87     24354\n",
            "   macro avg       0.64      0.51      0.49     24354\n",
            "weighted avg       0.82      0.87      0.82     24354\n",
            "\n"
          ]
        }
      ]
    },
    {
      "cell_type": "code",
      "source": [
        "# улучшенная модель\n",
        "classification_report_ = classification_report(y_validation, y_pred_1)\n",
        "print(classification_report_)"
      ],
      "metadata": {
        "colab": {
          "base_uri": "https://localhost:8080/"
        },
        "id": "v7TKsblhdYmI",
        "outputId": "8f7c9ec1-f020-4063-e988-0551a544e006"
      },
      "execution_count": 784,
      "outputs": [
        {
          "output_type": "stream",
          "name": "stdout",
          "text": [
            "              precision    recall  f1-score   support\n",
            "\n",
            "           0       0.93      0.66      0.78     21294\n",
            "           1       0.22      0.68      0.34      3060\n",
            "\n",
            "    accuracy                           0.67     24354\n",
            "   macro avg       0.58      0.67      0.56     24354\n",
            "weighted avg       0.85      0.67      0.72     24354\n",
            "\n"
          ]
        }
      ]
    },
    {
      "cell_type": "code",
      "metadata": {
        "colab": {
          "base_uri": "https://localhost:8080/"
        },
        "outputId": "1de94828-f702-4b6d-cebe-31b157767fbe",
        "id": "oNuv-CnwcUDb"
      },
      "source": [
        "confusion_matrix(y_validation, y_pred_1,).T"
      ],
      "execution_count": 785,
      "outputs": [
        {
          "output_type": "execute_result",
          "data": {
            "text/plain": [
              "array([[14155,   989],\n",
              "       [ 7139,  2071]])"
            ]
          },
          "metadata": {},
          "execution_count": 785
        }
      ]
    },
    {
      "cell_type": "code",
      "source": [
        "\n",
        "df_cm = pd.DataFrame(confusion_matrix(y_validation, y_pred_1,).T, index=['0', '1'], columns=['0', '1'])\n",
        "plt.figure(figsize = (10,7))\n",
        "sns.heatmap(df_cm, annot=True);"
      ],
      "metadata": {
        "colab": {
          "base_uri": "https://localhost:8080/",
          "height": 428
        },
        "outputId": "5bb1b0ff-4329-41ab-9288-4d0d9d48a761",
        "id": "NqGBq00tcUDb"
      },
      "execution_count": 786,
      "outputs": [
        {
          "output_type": "display_data",
          "data": {
            "image/png": "[encoded data removed]",
            "text/plain": [
              "<Figure size 720x504 with 2 Axes>"
            ]
          },
          "metadata": {
            "needs_background": "light"
          }
        }
      ]
    },
    {
      "cell_type": "code",
      "source": [
        "calc_and_plot_roc(y_validation, y_pred_proba_1[:,1])"
      ],
      "metadata": {
        "colab": {
          "base_uri": "https://localhost:8080/",
          "height": 295
        },
        "outputId": "2a6b6149-0e89-4cc1-a1e0-4d26b8f8a384",
        "id": "4Uj5nD9IcUDc"
      },
      "execution_count": 787,
      "outputs": [
        {
          "output_type": "display_data",
          "data": {
            "image/png": "[encoded data removed]",
            "text/plain": [
              "<Figure size 432x288 with 1 Axes>"
            ]
          },
          "metadata": {
            "needs_background": "light"
          }
        }
      ]
    },
    {
      "cell_type": "code",
      "source": [
        ""
      ],
      "metadata": {
        "id": "1S3WbFWLlw3R"
      },
      "execution_count": 787,
      "outputs": []
    },
    {
      "cell_type": "markdown",
      "source": [
        "# обучаем финальную модель на всех обучающи данных\n",
        "\n",
        "\n",
        "\n",
        "\n",
        "\n"
      ],
      "metadata": {
        "id": "KgpUi5ddlxTH"
      }
    },
    {
      "cell_type": "code",
      "source": [
        "X = np.vstack([X_train, X_validation])"
      ],
      "metadata": {
        "id": "jSJUKoHBlxTJ"
      },
      "execution_count": 788,
      "outputs": []
    },
    {
      "cell_type": "code",
      "source": [
        "X.shape"
      ],
      "metadata": {
        "colab": {
          "base_uri": "https://localhost:8080/"
        },
        "outputId": "9da40670-b97f-40fc-9302-5528dd8bada5",
        "id": "J-rNsVsPlxTJ"
      },
      "execution_count": 789,
      "outputs": [
        {
          "output_type": "execute_result",
          "data": {
            "text/plain": [
              "(73799, 37)"
            ]
          },
          "metadata": {},
          "execution_count": 789
        }
      ]
    },
    {
      "cell_type": "code",
      "source": [
        "Y = np.hstack([y_train, y_validation])"
      ],
      "metadata": {
        "id": "y7H269EglxTK"
      },
      "execution_count": 790,
      "outputs": []
    },
    {
      "cell_type": "code",
      "source": [
        "Y.shape"
      ],
      "metadata": {
        "colab": {
          "base_uri": "https://localhost:8080/"
        },
        "outputId": "f728a256-788c-48e7-9566-2f16bdf3da6f",
        "id": "pwS8ziVIlxTK"
      },
      "execution_count": 791,
      "outputs": [
        {
          "output_type": "execute_result",
          "data": {
            "text/plain": [
              "(73799,)"
            ]
          },
          "metadata": {},
          "execution_count": 791
        }
      ]
    },
    {
      "cell_type": "code",
      "source": [
        "model_2 = LogisticRegression(C= 1.0,\n",
        "\tclass_weight= 'balanced',\n",
        "\tdual= False,\n",
        "\tfit_intercept= True,\n",
        "\tintercept_scaling= 1,\n",
        "\tl1_ratio= None,\n",
        "\tmax_iter= 50,\n",
        "\tmulti_class= 'ovr',\n",
        "\tn_jobs= None,\n",
        "\t# penalty= 'l2',\n",
        "\tpenalty= 'l1',\n",
        "\trandom_state= None,\n",
        "\t# solver= 'saga',\n",
        "\tsolver= 'liblinear',\n",
        "\ttol= 0.001,\n",
        "\tverbose= 0,\n",
        "\twarm_start= False)\n",
        "\n",
        "model_2.fit(X, Y)\n",
        "\n",
        "y_pred_2 = model_2.predict(X_validation)\n",
        "y_pred_proba_2 = model_2.predict_proba(X_validation)\n"
      ],
      "metadata": {
        "id": "fb1QhsxalxTL"
      },
      "execution_count": 792,
      "outputs": []
    },
    {
      "cell_type": "markdown",
      "source": [
        "# Submission"
      ],
      "metadata": {
        "id": "M_8uv45_gBvS"
      }
    },
    {
      "cell_type": "code",
      "source": [
        "predict_submission = model_2.predict(X_test)"
      ],
      "metadata": {
        "id": "7yKX_Fd33L9m"
      },
      "execution_count": 793,
      "outputs": []
    },
    {
      "cell_type": "code",
      "source": [
        "sample_submission['default'] = predict_submission\n",
        "sample_submission.to_csv('submission.csv', index=False)\n",
        "sample_submission.head(10)"
      ],
      "metadata": {
        "colab": {
          "base_uri": "https://localhost:8080/",
          "height": 363
        },
        "id": "BTUXMxWl3Rzj",
        "outputId": "bb02cacd-13fa-4251-efec-5de4c18a7a61"
      },
      "execution_count": 794,
      "outputs": [
        {
          "output_type": "execute_result",
          "data": {
            "text/html": [
              "<div>\n",
              "<style scoped>\n",
              "    .dataframe tbody tr th:only-of-type {\n",
              "        vertical-align: middle;\n",
              "    }\n",
              "\n",
              "    .dataframe tbody tr th {\n",
              "        vertical-align: top;\n",
              "    }\n",
              "\n",
              "    .dataframe thead th {\n",
              "        text-align: right;\n",
              "    }\n",
              "</style>\n",
              "<table border=\"1\" class=\"dataframe\">\n",
              "  <thead>\n",
              "    <tr style=\"text-align: right;\">\n",
              "      <th></th>\n",
              "      <th>client_id</th>\n",
              "      <th>default</th>\n",
              "    </tr>\n",
              "  </thead>\n",
              "  <tbody>\n",
              "    <tr>\n",
              "      <th>0</th>\n",
              "      <td>74835</td>\n",
              "      <td>0</td>\n",
              "    </tr>\n",
              "    <tr>\n",
              "      <th>1</th>\n",
              "      <td>17527</td>\n",
              "      <td>1</td>\n",
              "    </tr>\n",
              "    <tr>\n",
              "      <th>2</th>\n",
              "      <td>75683</td>\n",
              "      <td>0</td>\n",
              "    </tr>\n",
              "    <tr>\n",
              "      <th>3</th>\n",
              "      <td>26883</td>\n",
              "      <td>0</td>\n",
              "    </tr>\n",
              "    <tr>\n",
              "      <th>4</th>\n",
              "      <td>28862</td>\n",
              "      <td>0</td>\n",
              "    </tr>\n",
              "    <tr>\n",
              "      <th>5</th>\n",
              "      <td>99881</td>\n",
              "      <td>1</td>\n",
              "    </tr>\n",
              "    <tr>\n",
              "      <th>6</th>\n",
              "      <td>26630</td>\n",
              "      <td>1</td>\n",
              "    </tr>\n",
              "    <tr>\n",
              "      <th>7</th>\n",
              "      <td>79934</td>\n",
              "      <td>0</td>\n",
              "    </tr>\n",
              "    <tr>\n",
              "      <th>8</th>\n",
              "      <td>16605</td>\n",
              "      <td>0</td>\n",
              "    </tr>\n",
              "    <tr>\n",
              "      <th>9</th>\n",
              "      <td>105449</td>\n",
              "      <td>0</td>\n",
              "    </tr>\n",
              "  </tbody>\n",
              "</table>\n",
              "</div>"
            ],
            "text/plain": [
              "   client_id  default\n",
              "0      74835        0\n",
              "1      17527        1\n",
              "2      75683        0\n",
              "3      26883        0\n",
              "4      28862        0\n",
              "5      99881        1\n",
              "6      26630        1\n",
              "7      79934        0\n",
              "8      16605        0\n",
              "9     105449        0"
            ]
          },
          "metadata": {},
          "execution_count": 794
        }
      ]
    },
    {
      "cell_type": "code",
      "source": [
        "sample_submission.shape"
      ],
      "metadata": {
        "colab": {
          "base_uri": "https://localhost:8080/"
        },
        "id": "HW-wWTGgB7G0",
        "outputId": "0f948e67-351d-434e-cabe-2b6fc8284ade"
      },
      "execution_count": 795,
      "outputs": [
        {
          "output_type": "execute_result",
          "data": {
            "text/plain": [
              "(36349, 2)"
            ]
          },
          "metadata": {},
          "execution_count": 795
        }
      ]
    }
  ]
}