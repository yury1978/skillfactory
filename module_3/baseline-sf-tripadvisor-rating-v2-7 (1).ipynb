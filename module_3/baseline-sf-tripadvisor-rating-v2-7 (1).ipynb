{
 "cells": [
  {
   "cell_type": "markdown",
   "metadata": {
    "_cell_guid": "ff855011-69f2-488e-93a7-4aa3655a0582",
    "_uuid": "fffa69e3-d903-47c5-b30e-5f943a0e5b28"
   },
   "source": [
    "![](https://www.pata.org/wp-content/uploads/2014/09/TripAdvisor_Logo-300x119.png)\n",
    "# Predict TripAdvisor Rating\n",
    "## В этом соревновании нам предстоит предсказать рейтинг ресторана в TripAdvisor\n",
    "**По ходу задачи:**\n",
    "* Прокачаем работу с pandas\n",
    "* Научимся работать с Kaggle Notebooks\n",
    "* Поймем как делать предобработку различных данных\n",
    "* Научимся работать с пропущенными данными (Nan)\n",
    "* Познакомимся с различными видами кодирования признаков\n",
    "* Немного попробуем [Feature Engineering](https://ru.wikipedia.org/wiki/Конструирование_признаков) (генерировать новые признаки)\n",
    "* И совсем немного затронем ML\n",
    "* И многое другое...   \n",
    "\n",
    "\n",
    "\n",
    "### И самое важное, все это вы сможете сделать самостоятельно!\n",
    "\n",
    "*Этот Ноутбук являетсся Примером/Шаблоном к этому соревнованию (Baseline) и не служит готовым решением!*   \n",
    "Вы можете использовать его как основу для построения своего решения.\n",
    "\n",
    "> что такое baseline решение, зачем оно нужно и почему предоставлять baseline к соревнованию стало важным стандартом на kaggle и других площадках.   \n",
    "**baseline** создается больше как шаблон, где можно посмотреть как происходит обращение с входящими данными и что нужно получить на выходе. При этом МЛ начинка может быть достаточно простой, просто для примера. Это помогает быстрее приступить к самому МЛ, а не тратить ценное время на чисто инженерные задачи. \n",
    "Также baseline являеться хорошей опорной точкой по метрике. Если твое решение хуже baseline - ты явно делаешь что-то не то и стоит попробовать другой путь) \n",
    "\n",
    "В контексте нашего соревнования baseline идет с небольшими примерами того, что можно делать с данными, и с инструкцией, что делать дальше, чтобы улучшить результат.  Вообще готовым решением это сложно назвать, так как используются всего 2 самых простых признака (а остальные исключаются)."
   ]
  },
  {
   "cell_type": "markdown",
   "metadata": {
    "_cell_guid": "3a947579-a1a2-4783-87cb-5fabe056fa46",
    "_uuid": "30a57669-7700-4c1b-bd82-42c935c2e897"
   },
   "source": [
    "# import"
   ]
  },
  {
   "cell_type": "code",
   "execution_count": 1,
   "metadata": {
    "_cell_guid": "c9d27382-d5f4-4846-9815-0601982f7fb2",
    "_uuid": "1f04a60c-2688-439f-8459-2640faaa4a6a",
    "collapsed": false,
    "execution": {
     "iopub.execute_input": "2021-09-28T19:12:42.068562Z",
     "iopub.status.busy": "2021-09-28T19:12:42.068103Z",
     "iopub.status.idle": "2021-09-28T19:12:43.578646Z",
     "shell.execute_reply": "2021-09-28T19:12:43.577711Z",
     "shell.execute_reply.started": "2021-09-28T19:12:42.068510Z"
    },
    "jupyter": {
     "outputs_hidden": false
    }
   },
   "outputs": [
    {
     "name": "stdout",
     "output_type": "stream",
     "text": [
      "/kaggle/input/sf-dst-restaurant-rating/sample_submission.csv\n",
      "/kaggle/input/sf-dst-restaurant-rating/main_task.csv\n",
      "/kaggle/input/sf-dst-restaurant-rating/kaggle_task.csv\n"
     ]
    }
   ],
   "source": [
    "# This Python 3 environment comes with many helpful analytics libraries installed\n",
    "# It is defined by the kaggle/python docker image: https://github.com/kaggle/docker-python\n",
    "# For example, here's several helpful packages to load in \n",
    "\n",
    "import numpy as np # linear algebra\n",
    "import pandas as pd # data processing, CSV file I/O (e.g. pd.read_csv)\n",
    "\n",
    "import matplotlib.pyplot as plt\n",
    "import seaborn as sns \n",
    "%matplotlib inline\n",
    "\n",
    "import re\n",
    "\n",
    "# Загружаем специальный удобный инструмент для разделения датасета:\n",
    "from sklearn.model_selection import train_test_split\n",
    "\n",
    "# Input data files are available in the \"../input/\" directory.\n",
    "# For example, running this (by clicking run or pressing Shift+Enter) will list all files under the input directory\n",
    "\n",
    "import os\n",
    "for dirname, _, filenames in os.walk('/kaggle/input'):\n",
    "    for filename in filenames:\n",
    "        print(os.path.join(dirname, filename))\n",
    "\n",
    "# Any results you write to the current directory are saved as output."
   ]
  },
  {
   "cell_type": "code",
   "execution_count": 2,
   "metadata": {
    "_cell_guid": "ad0a8340-2e04-4fa2-8a23-88be6cdd8e0b",
    "_uuid": "66238c69-e42b-4757-b9dd-f7b4adac210e",
    "collapsed": false,
    "execution": {
     "iopub.execute_input": "2021-09-28T19:12:43.582985Z",
     "iopub.status.busy": "2021-09-28T19:12:43.582687Z",
     "iopub.status.idle": "2021-09-28T19:12:43.587794Z",
     "shell.execute_reply": "2021-09-28T19:12:43.586763Z",
     "shell.execute_reply.started": "2021-09-28T19:12:43.582933Z"
    },
    "jupyter": {
     "outputs_hidden": false
    }
   },
   "outputs": [],
   "source": [
    "# всегда фиксируйте RANDOM_SEED, чтобы ваши эксперименты были воспроизводимы!\n",
    "RANDOM_SEED = 42"
   ]
  },
  {
   "cell_type": "code",
   "execution_count": 3,
   "metadata": {
    "_cell_guid": "ad7abd3c-d5e5-4f2f-86b0-abd9d99a4471",
    "_uuid": "f8d28a33-eb23-4236-858c-3351fb58f160",
    "collapsed": false,
    "execution": {
     "iopub.execute_input": "2021-09-28T19:12:43.590563Z",
     "iopub.status.busy": "2021-09-28T19:12:43.589989Z",
     "iopub.status.idle": "2021-09-28T19:12:46.108512Z",
     "shell.execute_reply": "2021-09-28T19:12:46.107165Z",
     "shell.execute_reply.started": "2021-09-28T19:12:43.590481Z"
    },
    "jupyter": {
     "outputs_hidden": false
    }
   },
   "outputs": [],
   "source": [
    "# зафиксируем версию пакетов, чтобы эксперименты были воспроизводимы:\n",
    "!pip freeze > requirements.txt"
   ]
  },
  {
   "cell_type": "markdown",
   "metadata": {
    "_cell_guid": "73197e50-5dfc-4b3d-8f9e-8dcddeaaff05",
    "_uuid": "7dd17a2a-00e8-48d4-a931-57e5c6e29e10"
   },
   "source": [
    "# DATA"
   ]
  },
  {
   "cell_type": "code",
   "execution_count": 4,
   "metadata": {
    "_cell_guid": "8ad93073-a94f-46db-a285-296274502341",
    "_uuid": "283635a6-252e-4dee-9ac4-6b8188abefb9",
    "collapsed": false,
    "execution": {
     "iopub.execute_input": "2021-09-28T19:12:46.111180Z",
     "iopub.status.busy": "2021-09-28T19:12:46.110792Z",
     "iopub.status.idle": "2021-09-28T19:12:46.420118Z",
     "shell.execute_reply": "2021-09-28T19:12:46.419042Z",
     "shell.execute_reply.started": "2021-09-28T19:12:46.111099Z"
    },
    "jupyter": {
     "outputs_hidden": false
    }
   },
   "outputs": [],
   "source": [
    "DATA_DIR = '/kaggle/input/sf-dst-restaurant-rating/'\n",
    "df_train = pd.read_csv(DATA_DIR+'/main_task.csv')\n",
    "df_test = pd.read_csv(DATA_DIR+'kaggle_task.csv')\n",
    "sample_submission = pd.read_csv(DATA_DIR+'/sample_submission.csv')"
   ]
  },
  {
   "cell_type": "code",
   "execution_count": 5,
   "metadata": {
    "_cell_guid": "b2d23444-04b6-40f9-a446-475b17a6fca3",
    "_uuid": "5d279a34-9b3e-45f0-bff2-b27f7c3f874c",
    "collapsed": false,
    "execution": {
     "iopub.execute_input": "2021-09-28T19:12:46.425063Z",
     "iopub.status.busy": "2021-09-28T19:12:46.424719Z",
     "iopub.status.idle": "2021-09-28T19:12:46.471881Z",
     "shell.execute_reply": "2021-09-28T19:12:46.470715Z",
     "shell.execute_reply.started": "2021-09-28T19:12:46.425014Z"
    },
    "jupyter": {
     "outputs_hidden": false
    }
   },
   "outputs": [
    {
     "name": "stdout",
     "output_type": "stream",
     "text": [
      "<class 'pandas.core.frame.DataFrame'>\n",
      "RangeIndex: 40000 entries, 0 to 39999\n",
      "Data columns (total 10 columns):\n",
      "Restaurant_id        40000 non-null object\n",
      "City                 40000 non-null object\n",
      "Cuisine Style        30717 non-null object\n",
      "Ranking              40000 non-null float64\n",
      "Rating               40000 non-null float64\n",
      "Price Range          26114 non-null object\n",
      "Number of Reviews    37457 non-null float64\n",
      "Reviews              40000 non-null object\n",
      "URL_TA               40000 non-null object\n",
      "ID_TA                40000 non-null object\n",
      "dtypes: float64(3), object(7)\n",
      "memory usage: 3.1+ MB\n"
     ]
    }
   ],
   "source": [
    "df_train.info()"
   ]
  },
  {
   "cell_type": "code",
   "execution_count": 6,
   "metadata": {
    "_cell_guid": "8525839a-5434-47cb-81cd-11359eed977d",
    "_uuid": "d5fda936-4555-4ab7-8936-c28d506a098d",
    "collapsed": false,
    "execution": {
     "iopub.execute_input": "2021-09-28T19:12:46.475595Z",
     "iopub.status.busy": "2021-09-28T19:12:46.475263Z",
     "iopub.status.idle": "2021-09-28T19:12:46.505633Z",
     "shell.execute_reply": "2021-09-28T19:12:46.504591Z",
     "shell.execute_reply.started": "2021-09-28T19:12:46.475544Z"
    },
    "jupyter": {
     "outputs_hidden": false
    }
   },
   "outputs": [
    {
     "data": {
      "text/html": [
       "<div>\n",
       "<style scoped>\n",
       "    .dataframe tbody tr th:only-of-type {\n",
       "        vertical-align: middle;\n",
       "    }\n",
       "\n",
       "    .dataframe tbody tr th {\n",
       "        vertical-align: top;\n",
       "    }\n",
       "\n",
       "    .dataframe thead th {\n",
       "        text-align: right;\n",
       "    }\n",
       "</style>\n",
       "<table border=\"1\" class=\"dataframe\">\n",
       "  <thead>\n",
       "    <tr style=\"text-align: right;\">\n",
       "      <th></th>\n",
       "      <th>Restaurant_id</th>\n",
       "      <th>City</th>\n",
       "      <th>Cuisine Style</th>\n",
       "      <th>Ranking</th>\n",
       "      <th>Rating</th>\n",
       "      <th>Price Range</th>\n",
       "      <th>Number of Reviews</th>\n",
       "      <th>Reviews</th>\n",
       "      <th>URL_TA</th>\n",
       "      <th>ID_TA</th>\n",
       "    </tr>\n",
       "  </thead>\n",
       "  <tbody>\n",
       "    <tr>\n",
       "      <th>0</th>\n",
       "      <td>id_5569</td>\n",
       "      <td>Paris</td>\n",
       "      <td>['European', 'French', 'International']</td>\n",
       "      <td>5570.0</td>\n",
       "      <td>3.5</td>\n",
       "      <td>$$ - $$$</td>\n",
       "      <td>194.0</td>\n",
       "      <td>[['Good food at your doorstep', 'A good hotel ...</td>\n",
       "      <td>/Restaurant_Review-g187147-d1912643-Reviews-R_...</td>\n",
       "      <td>d1912643</td>\n",
       "    </tr>\n",
       "    <tr>\n",
       "      <th>1</th>\n",
       "      <td>id_1535</td>\n",
       "      <td>Stockholm</td>\n",
       "      <td>NaN</td>\n",
       "      <td>1537.0</td>\n",
       "      <td>4.0</td>\n",
       "      <td>NaN</td>\n",
       "      <td>10.0</td>\n",
       "      <td>[['Unique cuisine', 'Delicious Nepalese food']...</td>\n",
       "      <td>/Restaurant_Review-g189852-d7992032-Reviews-Bu...</td>\n",
       "      <td>d7992032</td>\n",
       "    </tr>\n",
       "    <tr>\n",
       "      <th>2</th>\n",
       "      <td>id_352</td>\n",
       "      <td>London</td>\n",
       "      <td>['Japanese', 'Sushi', 'Asian', 'Grill', 'Veget...</td>\n",
       "      <td>353.0</td>\n",
       "      <td>4.5</td>\n",
       "      <td>$$$$</td>\n",
       "      <td>688.0</td>\n",
       "      <td>[['Catch up with friends', 'Not exceptional'],...</td>\n",
       "      <td>/Restaurant_Review-g186338-d8632781-Reviews-RO...</td>\n",
       "      <td>d8632781</td>\n",
       "    </tr>\n",
       "    <tr>\n",
       "      <th>3</th>\n",
       "      <td>id_3456</td>\n",
       "      <td>Berlin</td>\n",
       "      <td>NaN</td>\n",
       "      <td>3458.0</td>\n",
       "      <td>5.0</td>\n",
       "      <td>NaN</td>\n",
       "      <td>3.0</td>\n",
       "      <td>[[], []]</td>\n",
       "      <td>/Restaurant_Review-g187323-d1358776-Reviews-Es...</td>\n",
       "      <td>d1358776</td>\n",
       "    </tr>\n",
       "    <tr>\n",
       "      <th>4</th>\n",
       "      <td>id_615</td>\n",
       "      <td>Munich</td>\n",
       "      <td>['German', 'Central European', 'Vegetarian Fri...</td>\n",
       "      <td>621.0</td>\n",
       "      <td>4.0</td>\n",
       "      <td>$$ - $$$</td>\n",
       "      <td>84.0</td>\n",
       "      <td>[['Best place to try a Bavarian food', 'Nice b...</td>\n",
       "      <td>/Restaurant_Review-g187309-d6864963-Reviews-Au...</td>\n",
       "      <td>d6864963</td>\n",
       "    </tr>\n",
       "  </tbody>\n",
       "</table>\n",
       "</div>"
      ],
      "text/plain": [
       "  Restaurant_id       City                                      Cuisine Style  \\\n",
       "0       id_5569      Paris            ['European', 'French', 'International']   \n",
       "1       id_1535  Stockholm                                                NaN   \n",
       "2        id_352     London  ['Japanese', 'Sushi', 'Asian', 'Grill', 'Veget...   \n",
       "3       id_3456     Berlin                                                NaN   \n",
       "4        id_615     Munich  ['German', 'Central European', 'Vegetarian Fri...   \n",
       "\n",
       "   Ranking  Rating Price Range  Number of Reviews  \\\n",
       "0   5570.0     3.5    $$ - $$$              194.0   \n",
       "1   1537.0     4.0         NaN               10.0   \n",
       "2    353.0     4.5        $$$$              688.0   \n",
       "3   3458.0     5.0         NaN                3.0   \n",
       "4    621.0     4.0    $$ - $$$               84.0   \n",
       "\n",
       "                                             Reviews  \\\n",
       "0  [['Good food at your doorstep', 'A good hotel ...   \n",
       "1  [['Unique cuisine', 'Delicious Nepalese food']...   \n",
       "2  [['Catch up with friends', 'Not exceptional'],...   \n",
       "3                                           [[], []]   \n",
       "4  [['Best place to try a Bavarian food', 'Nice b...   \n",
       "\n",
       "                                              URL_TA     ID_TA  \n",
       "0  /Restaurant_Review-g187147-d1912643-Reviews-R_...  d1912643  \n",
       "1  /Restaurant_Review-g189852-d7992032-Reviews-Bu...  d7992032  \n",
       "2  /Restaurant_Review-g186338-d8632781-Reviews-RO...  d8632781  \n",
       "3  /Restaurant_Review-g187323-d1358776-Reviews-Es...  d1358776  \n",
       "4  /Restaurant_Review-g187309-d6864963-Reviews-Au...  d6864963  "
      ]
     },
     "execution_count": 6,
     "metadata": {},
     "output_type": "execute_result"
    }
   ],
   "source": [
    "df_train.head(5)"
   ]
  },
  {
   "cell_type": "code",
   "execution_count": 7,
   "metadata": {
    "_cell_guid": "d09653cd-666c-4278-8783-3fdc8b2ada5c",
    "_uuid": "4898ec06-9e2b-428b-a712-89803df79bdf",
    "collapsed": false,
    "execution": {
     "iopub.execute_input": "2021-09-28T19:12:46.507405Z",
     "iopub.status.busy": "2021-09-28T19:12:46.507117Z",
     "iopub.status.idle": "2021-09-28T19:12:46.527567Z",
     "shell.execute_reply": "2021-09-28T19:12:46.525987Z",
     "shell.execute_reply.started": "2021-09-28T19:12:46.507359Z"
    },
    "jupyter": {
     "outputs_hidden": false
    }
   },
   "outputs": [
    {
     "name": "stdout",
     "output_type": "stream",
     "text": [
      "<class 'pandas.core.frame.DataFrame'>\n",
      "RangeIndex: 10000 entries, 0 to 9999\n",
      "Data columns (total 9 columns):\n",
      "Restaurant_id        10000 non-null object\n",
      "City                 10000 non-null object\n",
      "Cuisine Style        7693 non-null object\n",
      "Ranking              10000 non-null float64\n",
      "Price Range          6525 non-null object\n",
      "Number of Reviews    9343 non-null float64\n",
      "Reviews              9998 non-null object\n",
      "URL_TA               10000 non-null object\n",
      "ID_TA                10000 non-null object\n",
      "dtypes: float64(2), object(7)\n",
      "memory usage: 703.2+ KB\n"
     ]
    }
   ],
   "source": [
    "df_test.info()"
   ]
  },
  {
   "cell_type": "code",
   "execution_count": 8,
   "metadata": {
    "_cell_guid": "536f5d58-aeb6-41db-8cc7-46cb5d322e8a",
    "_uuid": "c79f131e-45ad-43f8-8d68-e9d9be80bf38",
    "collapsed": false,
    "execution": {
     "iopub.execute_input": "2021-09-28T19:12:46.529762Z",
     "iopub.status.busy": "2021-09-28T19:12:46.529462Z",
     "iopub.status.idle": "2021-09-28T19:12:46.549808Z",
     "shell.execute_reply": "2021-09-28T19:12:46.548377Z",
     "shell.execute_reply.started": "2021-09-28T19:12:46.529713Z"
    },
    "jupyter": {
     "outputs_hidden": false
    }
   },
   "outputs": [
    {
     "data": {
      "text/html": [
       "<div>\n",
       "<style scoped>\n",
       "    .dataframe tbody tr th:only-of-type {\n",
       "        vertical-align: middle;\n",
       "    }\n",
       "\n",
       "    .dataframe tbody tr th {\n",
       "        vertical-align: top;\n",
       "    }\n",
       "\n",
       "    .dataframe thead th {\n",
       "        text-align: right;\n",
       "    }\n",
       "</style>\n",
       "<table border=\"1\" class=\"dataframe\">\n",
       "  <thead>\n",
       "    <tr style=\"text-align: right;\">\n",
       "      <th></th>\n",
       "      <th>Restaurant_id</th>\n",
       "      <th>City</th>\n",
       "      <th>Cuisine Style</th>\n",
       "      <th>Ranking</th>\n",
       "      <th>Price Range</th>\n",
       "      <th>Number of Reviews</th>\n",
       "      <th>Reviews</th>\n",
       "      <th>URL_TA</th>\n",
       "      <th>ID_TA</th>\n",
       "    </tr>\n",
       "  </thead>\n",
       "  <tbody>\n",
       "    <tr>\n",
       "      <th>0</th>\n",
       "      <td>id_0</td>\n",
       "      <td>Paris</td>\n",
       "      <td>['Bar', 'Pub']</td>\n",
       "      <td>12963.0</td>\n",
       "      <td>$$ - $$$</td>\n",
       "      <td>4.0</td>\n",
       "      <td>[[], []]</td>\n",
       "      <td>/Restaurant_Review-g187147-d10746918-Reviews-L...</td>\n",
       "      <td>d10746918</td>\n",
       "    </tr>\n",
       "    <tr>\n",
       "      <th>1</th>\n",
       "      <td>id_1</td>\n",
       "      <td>Helsinki</td>\n",
       "      <td>['European', 'Scandinavian', 'Gluten Free Opti...</td>\n",
       "      <td>106.0</td>\n",
       "      <td>$$ - $$$</td>\n",
       "      <td>97.0</td>\n",
       "      <td>[['Very good reviews!', 'Fine dining in Hakani...</td>\n",
       "      <td>/Restaurant_Review-g189934-d6674944-Reviews-Ra...</td>\n",
       "      <td>d6674944</td>\n",
       "    </tr>\n",
       "    <tr>\n",
       "      <th>2</th>\n",
       "      <td>id_2</td>\n",
       "      <td>Edinburgh</td>\n",
       "      <td>['Vegetarian Friendly']</td>\n",
       "      <td>810.0</td>\n",
       "      <td>$$ - $$$</td>\n",
       "      <td>28.0</td>\n",
       "      <td>[['Better than the Links', 'Ivy Black'], ['12/...</td>\n",
       "      <td>/Restaurant_Review-g186525-d13129638-Reviews-B...</td>\n",
       "      <td>d13129638</td>\n",
       "    </tr>\n",
       "    <tr>\n",
       "      <th>3</th>\n",
       "      <td>id_3</td>\n",
       "      <td>London</td>\n",
       "      <td>['Italian', 'Mediterranean', 'European', 'Vege...</td>\n",
       "      <td>1669.0</td>\n",
       "      <td>$$$$</td>\n",
       "      <td>202.0</td>\n",
       "      <td>[['Most exquisite', 'Delicious and authentic']...</td>\n",
       "      <td>/Restaurant_Review-g186338-d680417-Reviews-Qui...</td>\n",
       "      <td>d680417</td>\n",
       "    </tr>\n",
       "    <tr>\n",
       "      <th>4</th>\n",
       "      <td>id_4</td>\n",
       "      <td>Bratislava</td>\n",
       "      <td>['Italian', 'Mediterranean', 'European', 'Seaf...</td>\n",
       "      <td>37.0</td>\n",
       "      <td>$$$$</td>\n",
       "      <td>162.0</td>\n",
       "      <td>[['Always the best in bratislava', 'Very good ...</td>\n",
       "      <td>/Restaurant_Review-g274924-d1112354-Reviews-Ma...</td>\n",
       "      <td>d1112354</td>\n",
       "    </tr>\n",
       "  </tbody>\n",
       "</table>\n",
       "</div>"
      ],
      "text/plain": [
       "  Restaurant_id        City  \\\n",
       "0          id_0       Paris   \n",
       "1          id_1    Helsinki   \n",
       "2          id_2   Edinburgh   \n",
       "3          id_3      London   \n",
       "4          id_4  Bratislava   \n",
       "\n",
       "                                       Cuisine Style  Ranking Price Range  \\\n",
       "0                                     ['Bar', 'Pub']  12963.0    $$ - $$$   \n",
       "1  ['European', 'Scandinavian', 'Gluten Free Opti...    106.0    $$ - $$$   \n",
       "2                            ['Vegetarian Friendly']    810.0    $$ - $$$   \n",
       "3  ['Italian', 'Mediterranean', 'European', 'Vege...   1669.0        $$$$   \n",
       "4  ['Italian', 'Mediterranean', 'European', 'Seaf...     37.0        $$$$   \n",
       "\n",
       "   Number of Reviews                                            Reviews  \\\n",
       "0                4.0                                           [[], []]   \n",
       "1               97.0  [['Very good reviews!', 'Fine dining in Hakani...   \n",
       "2               28.0  [['Better than the Links', 'Ivy Black'], ['12/...   \n",
       "3              202.0  [['Most exquisite', 'Delicious and authentic']...   \n",
       "4              162.0  [['Always the best in bratislava', 'Very good ...   \n",
       "\n",
       "                                              URL_TA      ID_TA  \n",
       "0  /Restaurant_Review-g187147-d10746918-Reviews-L...  d10746918  \n",
       "1  /Restaurant_Review-g189934-d6674944-Reviews-Ra...   d6674944  \n",
       "2  /Restaurant_Review-g186525-d13129638-Reviews-B...  d13129638  \n",
       "3  /Restaurant_Review-g186338-d680417-Reviews-Qui...    d680417  \n",
       "4  /Restaurant_Review-g274924-d1112354-Reviews-Ma...   d1112354  "
      ]
     },
     "execution_count": 8,
     "metadata": {},
     "output_type": "execute_result"
    }
   ],
   "source": [
    "df_test.head(5)"
   ]
  },
  {
   "cell_type": "code",
   "execution_count": 9,
   "metadata": {
    "_cell_guid": "3e093417-98f5-42fb-a84e-ef6b55a1ed2c",
    "_uuid": "eb752868-823e-4285-b2b0-3eb49ddbc482",
    "collapsed": false,
    "execution": {
     "iopub.execute_input": "2021-09-28T19:12:46.551776Z",
     "iopub.status.busy": "2021-09-28T19:12:46.551466Z",
     "iopub.status.idle": "2021-09-28T19:12:46.564320Z",
     "shell.execute_reply": "2021-09-28T19:12:46.563240Z",
     "shell.execute_reply.started": "2021-09-28T19:12:46.551727Z"
    },
    "jupyter": {
     "outputs_hidden": false
    }
   },
   "outputs": [
    {
     "data": {
      "text/html": [
       "<div>\n",
       "<style scoped>\n",
       "    .dataframe tbody tr th:only-of-type {\n",
       "        vertical-align: middle;\n",
       "    }\n",
       "\n",
       "    .dataframe tbody tr th {\n",
       "        vertical-align: top;\n",
       "    }\n",
       "\n",
       "    .dataframe thead th {\n",
       "        text-align: right;\n",
       "    }\n",
       "</style>\n",
       "<table border=\"1\" class=\"dataframe\">\n",
       "  <thead>\n",
       "    <tr style=\"text-align: right;\">\n",
       "      <th></th>\n",
       "      <th>Restaurant_id</th>\n",
       "      <th>Rating</th>\n",
       "    </tr>\n",
       "  </thead>\n",
       "  <tbody>\n",
       "    <tr>\n",
       "      <th>0</th>\n",
       "      <td>id_0</td>\n",
       "      <td>2.0</td>\n",
       "    </tr>\n",
       "    <tr>\n",
       "      <th>1</th>\n",
       "      <td>id_1</td>\n",
       "      <td>2.5</td>\n",
       "    </tr>\n",
       "    <tr>\n",
       "      <th>2</th>\n",
       "      <td>id_2</td>\n",
       "      <td>4.0</td>\n",
       "    </tr>\n",
       "    <tr>\n",
       "      <th>3</th>\n",
       "      <td>id_3</td>\n",
       "      <td>1.0</td>\n",
       "    </tr>\n",
       "    <tr>\n",
       "      <th>4</th>\n",
       "      <td>id_4</td>\n",
       "      <td>4.0</td>\n",
       "    </tr>\n",
       "  </tbody>\n",
       "</table>\n",
       "</div>"
      ],
      "text/plain": [
       "  Restaurant_id  Rating\n",
       "0          id_0     2.0\n",
       "1          id_1     2.5\n",
       "2          id_2     4.0\n",
       "3          id_3     1.0\n",
       "4          id_4     4.0"
      ]
     },
     "execution_count": 9,
     "metadata": {},
     "output_type": "execute_result"
    }
   ],
   "source": [
    "sample_submission.head(5)"
   ]
  },
  {
   "cell_type": "code",
   "execution_count": 10,
   "metadata": {
    "_cell_guid": "4cd16390-1851-4e1d-a02b-bf71c43613ba",
    "_uuid": "fe3906a9-4857-4944-aec2-1f9df7c7b29c",
    "collapsed": false,
    "execution": {
     "iopub.execute_input": "2021-09-28T19:12:46.566428Z",
     "iopub.status.busy": "2021-09-28T19:12:46.566120Z",
     "iopub.status.idle": "2021-09-28T19:12:46.577879Z",
     "shell.execute_reply": "2021-09-28T19:12:46.576801Z",
     "shell.execute_reply.started": "2021-09-28T19:12:46.566373Z"
    },
    "jupyter": {
     "outputs_hidden": false
    }
   },
   "outputs": [
    {
     "name": "stdout",
     "output_type": "stream",
     "text": [
      "<class 'pandas.core.frame.DataFrame'>\n",
      "RangeIndex: 10000 entries, 0 to 9999\n",
      "Data columns (total 2 columns):\n",
      "Restaurant_id    10000 non-null object\n",
      "Rating           10000 non-null float64\n",
      "dtypes: float64(1), object(1)\n",
      "memory usage: 156.4+ KB\n"
     ]
    }
   ],
   "source": [
    "sample_submission.info()"
   ]
  },
  {
   "cell_type": "code",
   "execution_count": 11,
   "metadata": {
    "_cell_guid": "523185b3-ed87-42b0-9f51-37b2b692a7a8",
    "_uuid": "2f7dffd7-f61f-46d5-954c-e499e53c60e1",
    "collapsed": false,
    "execution": {
     "iopub.execute_input": "2021-09-28T19:12:46.579895Z",
     "iopub.status.busy": "2021-09-28T19:12:46.579546Z",
     "iopub.status.idle": "2021-09-28T19:12:46.644305Z",
     "shell.execute_reply": "2021-09-28T19:12:46.643270Z",
     "shell.execute_reply.started": "2021-09-28T19:12:46.579844Z"
    },
    "jupyter": {
     "outputs_hidden": false
    }
   },
   "outputs": [],
   "source": [
    "# ВАЖНО! дря корректной обработки признаков объединяем трейн и тест в один датасет\n",
    "df_train['sample'] = 1 # помечаем где у нас трейн\n",
    "df_test['sample'] = 0 # помечаем где у нас тест\n",
    "df_test['Rating'] = 0 # в тесте у нас нет значения Rating, мы его должны предсказать, по этому пока просто заполняем нулями\n",
    "\n",
    "data = df_test.append(df_train, sort=False).reset_index(drop=True) # объединяем"
   ]
  },
  {
   "cell_type": "code",
   "execution_count": 12,
   "metadata": {
    "_cell_guid": "4caa0ccf-44d2-4094-a4d4-c587e9bd2f55",
    "_uuid": "c335fb61-58eb-46dc-85d8-c0f5d696178e",
    "collapsed": false,
    "execution": {
     "iopub.execute_input": "2021-09-28T19:12:46.645974Z",
     "iopub.status.busy": "2021-09-28T19:12:46.645716Z",
     "iopub.status.idle": "2021-09-28T19:12:46.694723Z",
     "shell.execute_reply": "2021-09-28T19:12:46.692938Z",
     "shell.execute_reply.started": "2021-09-28T19:12:46.645931Z"
    },
    "jupyter": {
     "outputs_hidden": false
    }
   },
   "outputs": [
    {
     "name": "stdout",
     "output_type": "stream",
     "text": [
      "<class 'pandas.core.frame.DataFrame'>\n",
      "RangeIndex: 50000 entries, 0 to 49999\n",
      "Data columns (total 11 columns):\n",
      "Restaurant_id        50000 non-null object\n",
      "City                 50000 non-null object\n",
      "Cuisine Style        38410 non-null object\n",
      "Ranking              50000 non-null float64\n",
      "Price Range          32639 non-null object\n",
      "Number of Reviews    46800 non-null float64\n",
      "Reviews              49998 non-null object\n",
      "URL_TA               50000 non-null object\n",
      "ID_TA                50000 non-null object\n",
      "sample               50000 non-null int64\n",
      "Rating               50000 non-null float64\n",
      "dtypes: float64(3), int64(1), object(7)\n",
      "memory usage: 4.2+ MB\n"
     ]
    }
   ],
   "source": [
    "data.info()"
   ]
  },
  {
   "cell_type": "markdown",
   "metadata": {
    "_cell_guid": "90a3a3a6-d832-401c-ad72-edf69f04a022",
    "_uuid": "c03175a8-03ef-4383-b602-4e0b64db1ff0"
   },
   "source": [
    "Подробнее по признакам:\n",
    "* City: Город \n",
    "* Cuisine Style: Кухня\n",
    "* Ranking: Ранг ресторана относительно других ресторанов в этом городе\n",
    "* Price Range: Цены в ресторане в 3 категориях\n",
    "* Number of Reviews: Количество отзывов\n",
    "* Reviews: 2 последних отзыва и даты этих отзывов\n",
    "* URL_TA: страница ресторана на 'www.tripadvisor.com' \n",
    "* ID_TA: ID ресторана в TripAdvisor\n",
    "* Rating: Рейтинг ресторана"
   ]
  },
  {
   "cell_type": "code",
   "execution_count": 13,
   "metadata": {
    "_cell_guid": "5035f189-50b4-4428-b96b-368d8c7ce9ca",
    "_uuid": "7312ad14-6ca4-4ce0-9dfd-150360624bcd",
    "collapsed": false,
    "execution": {
     "iopub.execute_input": "2021-09-28T19:12:46.696571Z",
     "iopub.status.busy": "2021-09-28T19:12:46.696276Z",
     "iopub.status.idle": "2021-09-28T19:12:46.719087Z",
     "shell.execute_reply": "2021-09-28T19:12:46.718035Z",
     "shell.execute_reply.started": "2021-09-28T19:12:46.696523Z"
    },
    "jupyter": {
     "outputs_hidden": false
    }
   },
   "outputs": [
    {
     "data": {
      "text/html": [
       "<div>\n",
       "<style scoped>\n",
       "    .dataframe tbody tr th:only-of-type {\n",
       "        vertical-align: middle;\n",
       "    }\n",
       "\n",
       "    .dataframe tbody tr th {\n",
       "        vertical-align: top;\n",
       "    }\n",
       "\n",
       "    .dataframe thead th {\n",
       "        text-align: right;\n",
       "    }\n",
       "</style>\n",
       "<table border=\"1\" class=\"dataframe\">\n",
       "  <thead>\n",
       "    <tr style=\"text-align: right;\">\n",
       "      <th></th>\n",
       "      <th>Restaurant_id</th>\n",
       "      <th>City</th>\n",
       "      <th>Cuisine Style</th>\n",
       "      <th>Ranking</th>\n",
       "      <th>Price Range</th>\n",
       "      <th>Number of Reviews</th>\n",
       "      <th>Reviews</th>\n",
       "      <th>URL_TA</th>\n",
       "      <th>ID_TA</th>\n",
       "      <th>sample</th>\n",
       "      <th>Rating</th>\n",
       "    </tr>\n",
       "  </thead>\n",
       "  <tbody>\n",
       "    <tr>\n",
       "      <th>4653</th>\n",
       "      <td>id_4653</td>\n",
       "      <td>Rome</td>\n",
       "      <td>NaN</td>\n",
       "      <td>4613.0</td>\n",
       "      <td>NaN</td>\n",
       "      <td>47.0</td>\n",
       "      <td>[[], []]</td>\n",
       "      <td>/Restaurant_Review-g187791-d6733368-Reviews-St...</td>\n",
       "      <td>d6733368</td>\n",
       "      <td>0</td>\n",
       "      <td>0.0</td>\n",
       "    </tr>\n",
       "    <tr>\n",
       "      <th>10914</th>\n",
       "      <td>id_12273</td>\n",
       "      <td>London</td>\n",
       "      <td>['Bar', 'Grill', 'Pub']</td>\n",
       "      <td>12283.0</td>\n",
       "      <td>NaN</td>\n",
       "      <td>2.0</td>\n",
       "      <td>[['Love these basic-traditional-tasty-but-ugl....</td>\n",
       "      <td>/Restaurant_Review-g186338-d1044726-Reviews-To...</td>\n",
       "      <td>d1044726</td>\n",
       "      <td>1</td>\n",
       "      <td>4.5</td>\n",
       "    </tr>\n",
       "    <tr>\n",
       "      <th>11233</th>\n",
       "      <td>id_10125</td>\n",
       "      <td>Paris</td>\n",
       "      <td>['French']</td>\n",
       "      <td>10127.0</td>\n",
       "      <td>$$ - $$$</td>\n",
       "      <td>41.0</td>\n",
       "      <td>[['Great location, amazing service, average f....</td>\n",
       "      <td>/Restaurant_Review-g187147-d3628077-Reviews-La...</td>\n",
       "      <td>d3628077</td>\n",
       "      <td>1</td>\n",
       "      <td>4.0</td>\n",
       "    </tr>\n",
       "    <tr>\n",
       "      <th>34582</th>\n",
       "      <td>id_5386</td>\n",
       "      <td>Rome</td>\n",
       "      <td>NaN</td>\n",
       "      <td>5388.0</td>\n",
       "      <td>NaN</td>\n",
       "      <td>4.0</td>\n",
       "      <td>[[], []]</td>\n",
       "      <td>/Restaurant_Review-g187791-d5872669-Reviews-Ve...</td>\n",
       "      <td>d5872669</td>\n",
       "      <td>1</td>\n",
       "      <td>5.0</td>\n",
       "    </tr>\n",
       "    <tr>\n",
       "      <th>41408</th>\n",
       "      <td>id_14627</td>\n",
       "      <td>London</td>\n",
       "      <td>['Mediterranean']</td>\n",
       "      <td>14638.0</td>\n",
       "      <td>$</td>\n",
       "      <td>2.0</td>\n",
       "      <td>[['The food', \"I don't know if this place is u...</td>\n",
       "      <td>/Restaurant_Review-g186338-d11956623-Reviews-F...</td>\n",
       "      <td>d11956623</td>\n",
       "      <td>1</td>\n",
       "      <td>3.0</td>\n",
       "    </tr>\n",
       "  </tbody>\n",
       "</table>\n",
       "</div>"
      ],
      "text/plain": [
       "      Restaurant_id    City            Cuisine Style  Ranking Price Range  \\\n",
       "4653        id_4653    Rome                      NaN   4613.0         NaN   \n",
       "10914      id_12273  London  ['Bar', 'Grill', 'Pub']  12283.0         NaN   \n",
       "11233      id_10125   Paris               ['French']  10127.0    $$ - $$$   \n",
       "34582       id_5386    Rome                      NaN   5388.0         NaN   \n",
       "41408      id_14627  London        ['Mediterranean']  14638.0           $   \n",
       "\n",
       "       Number of Reviews                                            Reviews  \\\n",
       "4653                47.0                                           [[], []]   \n",
       "10914                2.0  [['Love these basic-traditional-tasty-but-ugl....   \n",
       "11233               41.0  [['Great location, amazing service, average f....   \n",
       "34582                4.0                                           [[], []]   \n",
       "41408                2.0  [['The food', \"I don't know if this place is u...   \n",
       "\n",
       "                                                  URL_TA      ID_TA  sample  \\\n",
       "4653   /Restaurant_Review-g187791-d6733368-Reviews-St...   d6733368       0   \n",
       "10914  /Restaurant_Review-g186338-d1044726-Reviews-To...   d1044726       1   \n",
       "11233  /Restaurant_Review-g187147-d3628077-Reviews-La...   d3628077       1   \n",
       "34582  /Restaurant_Review-g187791-d5872669-Reviews-Ve...   d5872669       1   \n",
       "41408  /Restaurant_Review-g186338-d11956623-Reviews-F...  d11956623       1   \n",
       "\n",
       "       Rating  \n",
       "4653      0.0  \n",
       "10914     4.5  \n",
       "11233     4.0  \n",
       "34582     5.0  \n",
       "41408     3.0  "
      ]
     },
     "execution_count": 13,
     "metadata": {},
     "output_type": "execute_result"
    }
   ],
   "source": [
    "data.sample(5)"
   ]
  },
  {
   "cell_type": "code",
   "execution_count": 14,
   "metadata": {
    "_cell_guid": "8a535fa3-f7fd-425e-a628-dd121436ab93",
    "_uuid": "4599269c-19b9-4916-b184-4df24231c759",
    "collapsed": false,
    "execution": {
     "iopub.execute_input": "2021-09-28T19:12:46.720922Z",
     "iopub.status.busy": "2021-09-28T19:12:46.720662Z",
     "iopub.status.idle": "2021-09-28T19:12:46.729452Z",
     "shell.execute_reply": "2021-09-28T19:12:46.728336Z",
     "shell.execute_reply.started": "2021-09-28T19:12:46.720879Z"
    },
    "jupyter": {
     "outputs_hidden": false
    }
   },
   "outputs": [
    {
     "data": {
      "text/plain": [
       "\"[['Very good reviews!', 'Fine dining in Hakaniemi'], ['12/05/2017', '10/29/2017']]\""
      ]
     },
     "execution_count": 14,
     "metadata": {},
     "output_type": "execute_result"
    }
   ],
   "source": [
    "data.Reviews[1]"
   ]
  },
  {
   "cell_type": "markdown",
   "metadata": {
    "_cell_guid": "bb0ed7d4-6c2f-4fe4-a8eb-41142c878401",
    "_uuid": "7459aabf-6a97-4861-93b8-c231563b285f"
   },
   "source": [
    "Как видим, большинство признаков у нас требует очистки и предварительной обработки."
   ]
  },
  {
   "cell_type": "markdown",
   "metadata": {
    "_cell_guid": "f3477a43-b5fa-4154-8027-305eb1c6800e",
    "_uuid": "f15e15d3-decb-42e6-bbc0-a281b5c9a068"
   },
   "source": [
    "# Cleaning and Prepping Data\n",
    "Обычно данные содержат в себе кучу мусора, который необходимо почистить, для того чтобы привести их в приемлемый формат. Чистка данных — это необходимый этап решения почти любой реальной задачи.   \n",
    "![](https://analyticsindiamag.com/wp-content/uploads/2018/01/data-cleaning.png)"
   ]
  },
  {
   "cell_type": "markdown",
   "metadata": {
    "_cell_guid": "050b855a-6b7c-438b-8199-9635dd9d9657",
    "_uuid": "ad9d5899-4a09-4de8-b457-7ed01d49e4a3"
   },
   "source": [
    "## 1. Обработка NAN \n",
    "У наличия пропусков могут быть разные причины, но пропуски нужно либо заполнить, либо исключить из набора полностью. Но с пропусками нужно быть внимательным, **даже отсутствие информации может быть важным признаком!**   \n",
    "По этому перед обработкой NAN лучше вынести информацию о наличии пропуска как отдельный признак"
   ]
  },
  {
   "cell_type": "code",
   "execution_count": 15,
   "metadata": {
    "execution": {
     "iopub.execute_input": "2021-09-28T19:12:46.731429Z",
     "iopub.status.busy": "2021-09-28T19:12:46.731141Z",
     "iopub.status.idle": "2021-09-28T19:12:46.780507Z",
     "shell.execute_reply": "2021-09-28T19:12:46.779173Z",
     "shell.execute_reply.started": "2021-09-28T19:12:46.731380Z"
    }
   },
   "outputs": [
    {
     "data": {
      "text/plain": [
       "Restaurant_id        0.00000\n",
       "City                 0.00000\n",
       "Cuisine Style        0.23180\n",
       "Ranking              0.00000\n",
       "Price Range          0.34722\n",
       "Number of Reviews    0.06400\n",
       "Reviews              0.00004\n",
       "URL_TA               0.00000\n",
       "ID_TA                0.00000\n",
       "sample               0.00000\n",
       "Rating               0.00000\n",
       "dtype: float64"
      ]
     },
     "execution_count": 15,
     "metadata": {},
     "output_type": "execute_result"
    }
   ],
   "source": [
    "# оценим количество пропусков в данных\n",
    "data.isna().mean()"
   ]
  },
  {
   "cell_type": "markdown",
   "metadata": {},
   "source": [
    "### \"Number of Reviews\""
   ]
  },
  {
   "cell_type": "code",
   "execution_count": 16,
   "metadata": {
    "execution": {
     "iopub.execute_input": "2021-09-28T19:12:46.782415Z",
     "iopub.status.busy": "2021-09-28T19:12:46.782089Z",
     "iopub.status.idle": "2021-09-28T19:12:47.202461Z",
     "shell.execute_reply": "2021-09-28T19:12:47.200580Z",
     "shell.execute_reply.started": "2021-09-28T19:12:46.782360Z"
    }
   },
   "outputs": [
    {
     "data": {
      "text/plain": [
       "<matplotlib.axes._subplots.AxesSubplot at 0x7f309563ce80>"
      ]
     },
     "execution_count": 16,
     "metadata": {},
     "output_type": "execute_result"
    },
    {
     "data": {
      "image/png": "[encoded data removed]",
      "text/plain": [
       "<Figure size 720x504 with 1 Axes>"
      ]
     },
     "metadata": {
      "needs_background": "light"
     },
     "output_type": "display_data"
    }
   ],
   "source": [
    "plt.rcParams['figure.figsize'] = (10,7)\n",
    "(data['Number of Reviews']**0.5).hist(bins=50)"
   ]
  },
  {
   "cell_type": "code",
   "execution_count": 17,
   "metadata": {
    "execution": {
     "iopub.execute_input": "2021-09-28T19:12:47.205724Z",
     "iopub.status.busy": "2021-09-28T19:12:47.205035Z",
     "iopub.status.idle": "2021-09-28T19:12:47.495463Z",
     "shell.execute_reply": "2021-09-28T19:12:47.494403Z",
     "shell.execute_reply.started": "2021-09-28T19:12:47.205430Z"
    }
   },
   "outputs": [
    {
     "data": {
      "text/plain": [
       "<matplotlib.axes._subplots.AxesSubplot at 0x7f30954cc860>"
      ]
     },
     "execution_count": 17,
     "metadata": {},
     "output_type": "execute_result"
    },
    {
     "data": {
      "image/png": "[encoded data removed]",
      "text/plain": [
       "<Figure size 720x504 with 1 Axes>"
      ]
     },
     "metadata": {
      "needs_background": "light"
     },
     "output_type": "display_data"
    }
   ],
   "source": [
    "plt.rcParams['figure.figsize'] = (10,7)\n",
    "sns.boxplot(data['Number of Reviews'])"
   ]
  },
  {
   "cell_type": "markdown",
   "metadata": {},
   "source": [
    "Признак показывает большую вариативность с наличием большого количества выбросов.\n",
    "Однако это может нести полезную информацию. "
   ]
  },
  {
   "cell_type": "code",
   "execution_count": 18,
   "metadata": {
    "_cell_guid": "84aa813c-adb9-4851-9903-d2af6584cf4c",
    "_uuid": "61edfb81-be8d-414f-81ef-a137816a8f64",
    "collapsed": false,
    "execution": {
     "iopub.execute_input": "2021-09-28T19:12:47.497793Z",
     "iopub.status.busy": "2021-09-28T19:12:47.497186Z",
     "iopub.status.idle": "2021-09-28T19:12:47.508820Z",
     "shell.execute_reply": "2021-09-28T19:12:47.508010Z",
     "shell.execute_reply.started": "2021-09-28T19:12:47.497733Z"
    },
    "jupyter": {
     "outputs_hidden": false
    }
   },
   "outputs": [],
   "source": [
    "# Далее заполняем пропуски 0, вы можете попробовать заполнением средним или средним по городу и тд...\n",
    "# Заполним пропуски модой, так как мода показывает лучший результат\n",
    "data['Number of Reviews'].fillna(data['Number of Reviews'].mode()[0], inplace=True)"
   ]
  },
  {
   "cell_type": "markdown",
   "metadata": {},
   "source": [
    "### 'Reviews'"
   ]
  },
  {
   "cell_type": "markdown",
   "metadata": {},
   "source": [
    "Данный признак содержит 41857 уникальных значений.\n",
    "Из признака можно извлечь полезные данные в виде даты отзывов"
   ]
  },
  {
   "cell_type": "code",
   "execution_count": 19,
   "metadata": {
    "execution": {
     "iopub.execute_input": "2021-09-28T19:12:47.511028Z",
     "iopub.status.busy": "2021-09-28T19:12:47.510418Z",
     "iopub.status.idle": "2021-09-28T19:12:47.538522Z",
     "shell.execute_reply": "2021-09-28T19:12:47.537496Z",
     "shell.execute_reply.started": "2021-09-28T19:12:47.510968Z"
    }
   },
   "outputs": [
    {
     "data": {
      "text/plain": [
       "41857"
      ]
     },
     "execution_count": 19,
     "metadata": {},
     "output_type": "execute_result"
    }
   ],
   "source": [
    "data['Reviews'].nunique()"
   ]
  },
  {
   "cell_type": "code",
   "execution_count": 20,
   "metadata": {
    "execution": {
     "iopub.execute_input": "2021-09-28T19:12:47.540823Z",
     "iopub.status.busy": "2021-09-28T19:12:47.540192Z",
     "iopub.status.idle": "2021-09-28T19:12:47.622258Z",
     "shell.execute_reply": "2021-09-28T19:12:47.621178Z",
     "shell.execute_reply.started": "2021-09-28T19:12:47.540761Z"
    }
   },
   "outputs": [
    {
     "name": "stdout",
     "output_type": "stream",
     "text": [
      "[[], []] = 8112\n"
     ]
    }
   ],
   "source": [
    "print(f\"{data['Reviews'].value_counts().index[0]} = {data['Reviews'].value_counts()[0]}\")"
   ]
  },
  {
   "cell_type": "code",
   "execution_count": 21,
   "metadata": {
    "_cell_guid": "9b7aa46f-2e1f-4ebf-9ec1-adc291879650",
    "_uuid": "d897365b-a258-41a1-92fa-a01bf41d2d25",
    "collapsed": false,
    "execution": {
     "iopub.execute_input": "2021-09-28T19:12:47.624619Z",
     "iopub.status.busy": "2021-09-28T19:12:47.624006Z",
     "iopub.status.idle": "2021-09-28T19:12:47.636778Z",
     "shell.execute_reply": "2021-09-28T19:12:47.635914Z",
     "shell.execute_reply.started": "2021-09-28T19:12:47.624557Z"
    },
    "jupyter": {
     "outputs_hidden": false
    }
   },
   "outputs": [],
   "source": [
    "# Заполняем пропуски значением \"unknown\" - так как большинство значений уникальны или не несут никакой информации\n",
    "data['Reviews'].fillna('unknown',inplace=True)"
   ]
  },
  {
   "cell_type": "markdown",
   "metadata": {},
   "source": [
    "### 'Price Range'"
   ]
  },
  {
   "cell_type": "markdown",
   "metadata": {},
   "source": [
    "'Price Range' это - категориальный принак.\n",
    "Учитывая, что он отображает уровень цен, есть возможность преобразовать его в числовое значение."
   ]
  },
  {
   "cell_type": "code",
   "execution_count": 22,
   "metadata": {
    "execution": {
     "iopub.execute_input": "2021-09-28T19:12:47.638672Z",
     "iopub.status.busy": "2021-09-28T19:12:47.638385Z",
     "iopub.status.idle": "2021-09-28T19:12:47.951881Z",
     "shell.execute_reply": "2021-09-28T19:12:47.951205Z",
     "shell.execute_reply.started": "2021-09-28T19:12:47.638619Z"
    }
   },
   "outputs": [
    {
     "data": {
      "text/plain": [
       "{'Paris': '$$ - $$$',\n",
       " 'Helsinki': '$$ - $$$',\n",
       " 'Edinburgh': '$$ - $$$',\n",
       " 'London': '$$ - $$$',\n",
       " 'Bratislava': '$$ - $$$',\n",
       " 'Lisbon': '$$ - $$$',\n",
       " 'Budapest': '$$ - $$$',\n",
       " 'Stockholm': '$$ - $$$',\n",
       " 'Rome': '$$ - $$$',\n",
       " 'Milan': '$$ - $$$',\n",
       " 'Munich': '$$ - $$$',\n",
       " 'Hamburg': '$$ - $$$',\n",
       " 'Prague': '$$ - $$$',\n",
       " 'Vienna': '$$ - $$$',\n",
       " 'Dublin': '$$ - $$$',\n",
       " 'Barcelona': '$$ - $$$',\n",
       " 'Brussels': '$$ - $$$',\n",
       " 'Madrid': '$$ - $$$',\n",
       " 'Oslo': '$$ - $$$',\n",
       " 'Amsterdam': '$$ - $$$',\n",
       " 'Berlin': '$$ - $$$',\n",
       " 'Lyon': '$$ - $$$',\n",
       " 'Athens': '$$ - $$$',\n",
       " 'Warsaw': '$$ - $$$',\n",
       " 'Oporto': '$$ - $$$',\n",
       " 'Krakow': '$$ - $$$',\n",
       " 'Copenhagen': '$$ - $$$',\n",
       " 'Luxembourg': '$$ - $$$',\n",
       " 'Zurich': '$$ - $$$',\n",
       " 'Geneva': '$$ - $$$',\n",
       " 'Ljubljana': '$$ - $$$'}"
      ]
     },
     "execution_count": 22,
     "metadata": {},
     "output_type": "execute_result"
    }
   ],
   "source": [
    "# Находим самый часто встречающийся ценовой диапозон по различным городам\n",
    "cites = list(data['City'].unique())\n",
    "city_dic = {}\n",
    "for city in cites:\n",
    "  city_dic[city] = data[data['City'] == city]['Price Range'].mode()[0]\n",
    "city_dic"
   ]
  },
  {
   "cell_type": "code",
   "execution_count": 23,
   "metadata": {
    "execution": {
     "iopub.execute_input": "2021-09-28T19:12:47.953437Z",
     "iopub.status.busy": "2021-09-28T19:12:47.953015Z",
     "iopub.status.idle": "2021-09-28T19:12:47.963095Z",
     "shell.execute_reply": "2021-09-28T19:12:47.961945Z",
     "shell.execute_reply.started": "2021-09-28T19:12:47.953388Z"
    }
   },
   "outputs": [],
   "source": [
    "# Заполняем пропуски самым часто встречающимся значением\n",
    "data['Price Range'].fillna('$$ - $$$', inplace=True)"
   ]
  },
  {
   "cell_type": "markdown",
   "metadata": {},
   "source": [
    "### 'Cuisine Style'"
   ]
  },
  {
   "cell_type": "code",
   "execution_count": 24,
   "metadata": {
    "execution": {
     "iopub.execute_input": "2021-09-28T19:12:47.964577Z",
     "iopub.status.busy": "2021-09-28T19:12:47.964348Z",
     "iopub.status.idle": "2021-09-28T19:12:47.989687Z",
     "shell.execute_reply": "2021-09-28T19:12:47.988659Z",
     "shell.execute_reply.started": "2021-09-28T19:12:47.964544Z"
    }
   },
   "outputs": [
    {
     "data": {
      "text/plain": [
       "10731"
      ]
     },
     "execution_count": 24,
     "metadata": {},
     "output_type": "execute_result"
    }
   ],
   "source": [
    "data['Cuisine Style'].nunique()"
   ]
  },
  {
   "cell_type": "code",
   "execution_count": 25,
   "metadata": {
    "execution": {
     "iopub.execute_input": "2021-09-28T19:12:47.991360Z",
     "iopub.status.busy": "2021-09-28T19:12:47.991006Z",
     "iopub.status.idle": "2021-09-28T19:12:48.007751Z",
     "shell.execute_reply": "2021-09-28T19:12:48.006795Z",
     "shell.execute_reply.started": "2021-09-28T19:12:47.991221Z"
    }
   },
   "outputs": [],
   "source": [
    "# признак содержит большое количесво уникальных значений\n",
    "# заполним пропуски значением 'unknown'\n",
    "data['Cuisine Style'].fillna('unknown', inplace=True)"
   ]
  },
  {
   "cell_type": "code",
   "execution_count": 26,
   "metadata": {
    "execution": {
     "iopub.execute_input": "2021-09-28T19:12:48.010574Z",
     "iopub.status.busy": "2021-09-28T19:12:48.009875Z",
     "iopub.status.idle": "2021-09-28T19:12:48.058720Z",
     "shell.execute_reply": "2021-09-28T19:12:48.057632Z",
     "shell.execute_reply.started": "2021-09-28T19:12:48.010513Z"
    }
   },
   "outputs": [
    {
     "data": {
      "text/plain": [
       "Restaurant_id        0.0\n",
       "City                 0.0\n",
       "Cuisine Style        0.0\n",
       "Ranking              0.0\n",
       "Price Range          0.0\n",
       "Number of Reviews    0.0\n",
       "Reviews              0.0\n",
       "URL_TA               0.0\n",
       "ID_TA                0.0\n",
       "sample               0.0\n",
       "Rating               0.0\n",
       "dtype: float64"
      ]
     },
     "execution_count": 26,
     "metadata": {},
     "output_type": "execute_result"
    }
   ],
   "source": [
    "# Пропуски заполнены\n",
    "data.isna().mean()"
   ]
  },
  {
   "cell_type": "markdown",
   "metadata": {
    "_cell_guid": "7db32add-64ee-44de-bbac-71253cd8003f",
    "_uuid": "20a009ea-4a40-4e97-b1c6-153d70ab6b2f"
   },
   "source": [
    "### 2. Обработка признаков\n",
    "Для начала посмотрим какие признаки у нас могут быть категориальными."
   ]
  },
  {
   "cell_type": "code",
   "execution_count": 27,
   "metadata": {
    "_cell_guid": "4fd4c38c-1d14-4b01-a66c-eb70ef2d75fb",
    "_uuid": "71f5ecd0-eac9-40af-9561-5c1c96527037",
    "collapsed": false,
    "execution": {
     "iopub.execute_input": "2021-09-28T19:12:48.060558Z",
     "iopub.status.busy": "2021-09-28T19:12:48.060259Z",
     "iopub.status.idle": "2021-09-28T19:12:48.185350Z",
     "shell.execute_reply": "2021-09-28T19:12:48.184660Z",
     "shell.execute_reply.started": "2021-09-28T19:12:48.060504Z"
    },
    "jupyter": {
     "outputs_hidden": false
    }
   },
   "outputs": [
    {
     "data": {
      "text/plain": [
       "Restaurant_id        13094\n",
       "City                    31\n",
       "Cuisine Style        10732\n",
       "Ranking              12975\n",
       "Price Range              3\n",
       "Number of Reviews     1573\n",
       "Reviews              41858\n",
       "URL_TA               49963\n",
       "ID_TA                49963\n",
       "sample                   2\n",
       "Rating                  10\n",
       "dtype: int64"
      ]
     },
     "execution_count": 27,
     "metadata": {},
     "output_type": "execute_result"
    }
   ],
   "source": [
    "data.nunique(dropna=False)"
   ]
  },
  {
   "cell_type": "markdown",
   "metadata": {
    "_cell_guid": "17abbea4-4a4c-48d2-a175-360692bb0d22",
    "_uuid": "9f69229b-6d0d-449d-8382-606ad1b87ef3"
   },
   "source": [
    "Какие признаки можно считать категориальными?"
   ]
  },
  {
   "cell_type": "markdown",
   "metadata": {
    "_cell_guid": "e0aef362-66b8-4e65-9225-78eb0fd3b8ae",
    "_uuid": "f3aa6a3c-4b21-4ee5-8245-f00f0d0850c1"
   },
   "source": [
    "Для кодирования категориальных признаков есть множество подходов:\n",
    "* Label Encoding\n",
    "* One-Hot Encoding\n",
    "* Target Encoding\n",
    "* Hashing\n",
    "\n",
    "Выбор кодирования зависит от признака и выбраной модели.\n",
    "Не будем сейчас сильно погружаться в эту тематику, давайте посмотрим лучше пример с One-Hot Encoding:\n",
    "![](https://i.imgur.com/mtimFxh.png)"
   ]
  },
  {
   "cell_type": "markdown",
   "metadata": {},
   "source": [
    "### \" City\""
   ]
  },
  {
   "cell_type": "code",
   "execution_count": 28,
   "metadata": {
    "execution": {
     "iopub.execute_input": "2021-09-28T19:12:48.186927Z",
     "iopub.status.busy": "2021-09-28T19:12:48.186517Z",
     "iopub.status.idle": "2021-09-28T19:12:48.194344Z",
     "shell.execute_reply": "2021-09-28T19:12:48.193700Z",
     "shell.execute_reply.started": "2021-09-28T19:12:48.186874Z"
    }
   },
   "outputs": [
    {
     "data": {
      "text/plain": [
       "31"
      ]
     },
     "execution_count": 28,
     "metadata": {},
     "output_type": "execute_result"
    }
   ],
   "source": [
    "data['City'].nunique()"
   ]
  },
  {
   "cell_type": "code",
   "execution_count": 29,
   "metadata": {
    "execution": {
     "iopub.execute_input": "2021-09-28T19:12:48.195886Z",
     "iopub.status.busy": "2021-09-28T19:12:48.195481Z",
     "iopub.status.idle": "2021-09-28T19:12:48.679134Z",
     "shell.execute_reply": "2021-09-28T19:12:48.678057Z",
     "shell.execute_reply.started": "2021-09-28T19:12:48.195830Z"
    }
   },
   "outputs": [
    {
     "data": {
      "text/plain": [
       "<matplotlib.axes._subplots.AxesSubplot at 0x7f30954b3e80>"
      ]
     },
     "execution_count": 29,
     "metadata": {},
     "output_type": "execute_result"
    },
    {
     "data": {
      "image/png": "[encoded data removed]",
      "text/plain": [
       "<Figure size 1152x864 with 1 Axes>"
      ]
     },
     "metadata": {
      "needs_background": "light"
     },
     "output_type": "display_data"
    }
   ],
   "source": [
    "plt.figure(figsize=(16,12))\n",
    "sns.boxplot(x = 'City', y = 'Rating', data= data[data.City.isin(df_train['City'].value_counts()[0:10].index)])"
   ]
  },
  {
   "cell_type": "markdown",
   "metadata": {},
   "source": [
    "Признак содержит 31 уникальное категориальное значение.\n",
    "Имеется различие в распределения рейтинга в зависимости от значения переменной.\n",
    "Для кодирования признака можно применить One-Hot Encoding."
   ]
  },
  {
   "cell_type": "code",
   "execution_count": 30,
   "metadata": {
    "_cell_guid": "ac885afa-42b2-41db-aa29-10f0a906e9cd",
    "_uuid": "37c26d79-c4ab-449a-8100-45eea8b86711",
    "collapsed": false,
    "execution": {
     "iopub.execute_input": "2021-09-28T19:12:48.681603Z",
     "iopub.status.busy": "2021-09-28T19:12:48.680968Z",
     "iopub.status.idle": "2021-09-28T19:12:48.718559Z",
     "shell.execute_reply": "2021-09-28T19:12:48.717565Z",
     "shell.execute_reply.started": "2021-09-28T19:12:48.681534Z"
    },
    "jupyter": {
     "outputs_hidden": false
    }
   },
   "outputs": [],
   "source": [
    "# для One-Hot Encoding в pandas есть готовая функция - get_dummies. Особенно радует параметр dummy_na\n",
    "data = pd.concat([data,pd.get_dummies(data['City'])],axis=1)"
   ]
  },
  {
   "cell_type": "code",
   "execution_count": 31,
   "metadata": {
    "_cell_guid": "813525b8-043c-4d02-8432-d06b42a0b0bc",
    "_uuid": "3caf4d18-d811-4aeb-9044-f323539e6740",
    "collapsed": false,
    "execution": {
     "iopub.execute_input": "2021-09-28T19:12:48.720905Z",
     "iopub.status.busy": "2021-09-28T19:12:48.720283Z",
     "iopub.status.idle": "2021-09-28T19:12:48.770845Z",
     "shell.execute_reply": "2021-09-28T19:12:48.769742Z",
     "shell.execute_reply.started": "2021-09-28T19:12:48.720827Z"
    },
    "jupyter": {
     "outputs_hidden": false
    }
   },
   "outputs": [
    {
     "data": {
      "text/html": [
       "<div>\n",
       "<style scoped>\n",
       "    .dataframe tbody tr th:only-of-type {\n",
       "        vertical-align: middle;\n",
       "    }\n",
       "\n",
       "    .dataframe tbody tr th {\n",
       "        vertical-align: top;\n",
       "    }\n",
       "\n",
       "    .dataframe thead th {\n",
       "        text-align: right;\n",
       "    }\n",
       "</style>\n",
       "<table border=\"1\" class=\"dataframe\">\n",
       "  <thead>\n",
       "    <tr style=\"text-align: right;\">\n",
       "      <th></th>\n",
       "      <th>Restaurant_id</th>\n",
       "      <th>City</th>\n",
       "      <th>Cuisine Style</th>\n",
       "      <th>Ranking</th>\n",
       "      <th>Price Range</th>\n",
       "      <th>Number of Reviews</th>\n",
       "      <th>Reviews</th>\n",
       "      <th>URL_TA</th>\n",
       "      <th>ID_TA</th>\n",
       "      <th>sample</th>\n",
       "      <th>...</th>\n",
       "      <th>Munich</th>\n",
       "      <th>Oporto</th>\n",
       "      <th>Oslo</th>\n",
       "      <th>Paris</th>\n",
       "      <th>Prague</th>\n",
       "      <th>Rome</th>\n",
       "      <th>Stockholm</th>\n",
       "      <th>Vienna</th>\n",
       "      <th>Warsaw</th>\n",
       "      <th>Zurich</th>\n",
       "    </tr>\n",
       "  </thead>\n",
       "  <tbody>\n",
       "    <tr>\n",
       "      <th>42882</th>\n",
       "      <td>id_15954</td>\n",
       "      <td>London</td>\n",
       "      <td>['Bar', 'Pub']</td>\n",
       "      <td>15966.0</td>\n",
       "      <td>$$ - $$$</td>\n",
       "      <td>8.0</td>\n",
       "      <td>[[\"Cheap and dank, but that's what we came fo....</td>\n",
       "      <td>/Restaurant_Review-g186338-d1907335-Reviews-So...</td>\n",
       "      <td>d1907335</td>\n",
       "      <td>1</td>\n",
       "      <td>...</td>\n",
       "      <td>0</td>\n",
       "      <td>0</td>\n",
       "      <td>0</td>\n",
       "      <td>0</td>\n",
       "      <td>0</td>\n",
       "      <td>0</td>\n",
       "      <td>0</td>\n",
       "      <td>0</td>\n",
       "      <td>0</td>\n",
       "      <td>0</td>\n",
       "    </tr>\n",
       "    <tr>\n",
       "      <th>29215</th>\n",
       "      <td>id_1733</td>\n",
       "      <td>Copenhagen</td>\n",
       "      <td>['Chinese', 'Sushi']</td>\n",
       "      <td>1738.0</td>\n",
       "      <td>$$ - $$$</td>\n",
       "      <td>35.0</td>\n",
       "      <td>[['Pleasantly Surprised', 'Buffet'], ['05/02/2...</td>\n",
       "      <td>/Restaurant_Review-g189541-d1186567-Reviews-Ki...</td>\n",
       "      <td>d1186567</td>\n",
       "      <td>1</td>\n",
       "      <td>...</td>\n",
       "      <td>0</td>\n",
       "      <td>0</td>\n",
       "      <td>0</td>\n",
       "      <td>0</td>\n",
       "      <td>0</td>\n",
       "      <td>0</td>\n",
       "      <td>0</td>\n",
       "      <td>0</td>\n",
       "      <td>0</td>\n",
       "      <td>0</td>\n",
       "    </tr>\n",
       "    <tr>\n",
       "      <th>22799</th>\n",
       "      <td>id_13165</td>\n",
       "      <td>London</td>\n",
       "      <td>['Chinese', 'Asian', 'Vegetarian Friendly']</td>\n",
       "      <td>13175.0</td>\n",
       "      <td>$$ - $$$</td>\n",
       "      <td>18.0</td>\n",
       "      <td>[['Not your usual Chinese', 'A high end takeaw...</td>\n",
       "      <td>/Restaurant_Review-g186338-d12674803-Reviews-Z...</td>\n",
       "      <td>d12674803</td>\n",
       "      <td>1</td>\n",
       "      <td>...</td>\n",
       "      <td>0</td>\n",
       "      <td>0</td>\n",
       "      <td>0</td>\n",
       "      <td>0</td>\n",
       "      <td>0</td>\n",
       "      <td>0</td>\n",
       "      <td>0</td>\n",
       "      <td>0</td>\n",
       "      <td>0</td>\n",
       "      <td>0</td>\n",
       "    </tr>\n",
       "    <tr>\n",
       "      <th>41398</th>\n",
       "      <td>id_329</td>\n",
       "      <td>Ljubljana</td>\n",
       "      <td>['European', 'Slovenian']</td>\n",
       "      <td>330.0</td>\n",
       "      <td>$$ - $$$</td>\n",
       "      <td>3.0</td>\n",
       "      <td>[['Great sunset!', 'Great place'], ['06/13/201...</td>\n",
       "      <td>/Restaurant_Review-g274873-d5532415-Reviews-AL...</td>\n",
       "      <td>d5532415</td>\n",
       "      <td>1</td>\n",
       "      <td>...</td>\n",
       "      <td>0</td>\n",
       "      <td>0</td>\n",
       "      <td>0</td>\n",
       "      <td>0</td>\n",
       "      <td>0</td>\n",
       "      <td>0</td>\n",
       "      <td>0</td>\n",
       "      <td>0</td>\n",
       "      <td>0</td>\n",
       "      <td>0</td>\n",
       "    </tr>\n",
       "    <tr>\n",
       "      <th>16927</th>\n",
       "      <td>id_133</td>\n",
       "      <td>Prague</td>\n",
       "      <td>['Eastern European', 'Central European']</td>\n",
       "      <td>134.0</td>\n",
       "      <td>$</td>\n",
       "      <td>1659.0</td>\n",
       "      <td>[['Good value Czech food and beer', 'Good food...</td>\n",
       "      <td>/Restaurant_Review-g274707-d787784-Reviews-Res...</td>\n",
       "      <td>d787784</td>\n",
       "      <td>1</td>\n",
       "      <td>...</td>\n",
       "      <td>0</td>\n",
       "      <td>0</td>\n",
       "      <td>0</td>\n",
       "      <td>0</td>\n",
       "      <td>1</td>\n",
       "      <td>0</td>\n",
       "      <td>0</td>\n",
       "      <td>0</td>\n",
       "      <td>0</td>\n",
       "      <td>0</td>\n",
       "    </tr>\n",
       "  </tbody>\n",
       "</table>\n",
       "<p>5 rows × 42 columns</p>\n",
       "</div>"
      ],
      "text/plain": [
       "      Restaurant_id        City                                Cuisine Style  \\\n",
       "42882      id_15954      London                               ['Bar', 'Pub']   \n",
       "29215       id_1733  Copenhagen                         ['Chinese', 'Sushi']   \n",
       "22799      id_13165      London  ['Chinese', 'Asian', 'Vegetarian Friendly']   \n",
       "41398        id_329   Ljubljana                    ['European', 'Slovenian']   \n",
       "16927        id_133      Prague     ['Eastern European', 'Central European']   \n",
       "\n",
       "       Ranking Price Range  Number of Reviews  \\\n",
       "42882  15966.0    $$ - $$$                8.0   \n",
       "29215   1738.0    $$ - $$$               35.0   \n",
       "22799  13175.0    $$ - $$$               18.0   \n",
       "41398    330.0    $$ - $$$                3.0   \n",
       "16927    134.0           $             1659.0   \n",
       "\n",
       "                                                 Reviews  \\\n",
       "42882  [[\"Cheap and dank, but that's what we came fo....   \n",
       "29215  [['Pleasantly Surprised', 'Buffet'], ['05/02/2...   \n",
       "22799  [['Not your usual Chinese', 'A high end takeaw...   \n",
       "41398  [['Great sunset!', 'Great place'], ['06/13/201...   \n",
       "16927  [['Good value Czech food and beer', 'Good food...   \n",
       "\n",
       "                                                  URL_TA      ID_TA  sample  \\\n",
       "42882  /Restaurant_Review-g186338-d1907335-Reviews-So...   d1907335       1   \n",
       "29215  /Restaurant_Review-g189541-d1186567-Reviews-Ki...   d1186567       1   \n",
       "22799  /Restaurant_Review-g186338-d12674803-Reviews-Z...  d12674803       1   \n",
       "41398  /Restaurant_Review-g274873-d5532415-Reviews-AL...   d5532415       1   \n",
       "16927  /Restaurant_Review-g274707-d787784-Reviews-Res...    d787784       1   \n",
       "\n",
       "       ...  Munich  Oporto  Oslo  Paris  Prague  Rome  Stockholm  Vienna  \\\n",
       "42882  ...       0       0     0      0       0     0          0       0   \n",
       "29215  ...       0       0     0      0       0     0          0       0   \n",
       "22799  ...       0       0     0      0       0     0          0       0   \n",
       "41398  ...       0       0     0      0       0     0          0       0   \n",
       "16927  ...       0       0     0      0       1     0          0       0   \n",
       "\n",
       "       Warsaw  Zurich  \n",
       "42882       0       0  \n",
       "29215       0       0  \n",
       "22799       0       0  \n",
       "41398       0       0  \n",
       "16927       0       0  \n",
       "\n",
       "[5 rows x 42 columns]"
      ]
     },
     "execution_count": 31,
     "metadata": {},
     "output_type": "execute_result"
    }
   ],
   "source": [
    "data.sample(5)"
   ]
  },
  {
   "cell_type": "markdown",
   "metadata": {
    "_cell_guid": "a849487a-4851-4433-9630-575223580256",
    "_uuid": "58124394-527e-4679-8c79-372045cd2fdc"
   },
   "source": [
    "#### Возьмем следующий признак \"Price Range\"."
   ]
  },
  {
   "cell_type": "code",
   "execution_count": 32,
   "metadata": {
    "_cell_guid": "2ab1c04b-22ef-4079-bedf-41db91bc2f59",
    "_uuid": "07740b41-d73c-4b7e-bf10-b2a3889bbc87",
    "collapsed": false,
    "execution": {
     "iopub.execute_input": "2021-09-28T19:12:48.779094Z",
     "iopub.status.busy": "2021-09-28T19:12:48.778592Z",
     "iopub.status.idle": "2021-09-28T19:12:48.803538Z",
     "shell.execute_reply": "2021-09-28T19:12:48.802166Z",
     "shell.execute_reply.started": "2021-09-28T19:12:48.779043Z"
    },
    "jupyter": {
     "outputs_hidden": false
    }
   },
   "outputs": [
    {
     "data": {
      "text/plain": [
       "$$ - $$$    40402\n",
       "$            7816\n",
       "$$$$         1782\n",
       "Name: Price Range, dtype: int64"
      ]
     },
     "execution_count": 32,
     "metadata": {},
     "output_type": "execute_result"
    }
   ],
   "source": [
    "data['Price Range'].value_counts()"
   ]
  },
  {
   "cell_type": "markdown",
   "metadata": {
    "_cell_guid": "b749170a-fd50-491a-b781-38629032086c",
    "_uuid": "07cfb172-843d-4260-80a0-6bfbf84d796c"
   },
   "source": [
    "По описанию 'Price Range' это - Цены в ресторане.  \n",
    "Их можно поставить по возрастанию (значит это не категориальный признак). А это значит, что их можно заменить последовательными числами, например 1,2,3  \n",
    "*Попробуйте сделать обработку этого признака уже самостоятельно!*"
   ]
  },
  {
   "cell_type": "code",
   "execution_count": 33,
   "metadata": {
    "_cell_guid": "446dbe0f-cc2b-4c8d-bb62-16ce4c9a5f76",
    "_uuid": "88473398-8ef9-4baa-906f-20148bd775a0",
    "collapsed": false,
    "execution": {
     "iopub.execute_input": "2021-09-28T19:12:48.805915Z",
     "iopub.status.busy": "2021-09-28T19:12:48.805618Z",
     "iopub.status.idle": "2021-09-28T19:12:48.818517Z",
     "shell.execute_reply": "2021-09-28T19:12:48.817311Z",
     "shell.execute_reply.started": "2021-09-28T19:12:48.805862Z"
    },
    "jupyter": {
     "outputs_hidden": false
    }
   },
   "outputs": [],
   "source": [
    "# Ваша обработка 'Price Range'\n",
    "# Заменим уровень цен последовательными цифрами\n",
    "# One-Hot Encoding показала несколько худший результат\n",
    "def chng_price(price):\n",
    "    if price == '$':\n",
    "        return 1\n",
    "    elif price == '$$ - $$$':\n",
    "        return 2\n",
    "    else:\n",
    "        return 3"
   ]
  },
  {
   "cell_type": "code",
   "execution_count": 34,
   "metadata": {
    "execution": {
     "iopub.execute_input": "2021-09-28T19:12:48.822274Z",
     "iopub.status.busy": "2021-09-28T19:12:48.821516Z",
     "iopub.status.idle": "2021-09-28T19:12:48.870215Z",
     "shell.execute_reply": "2021-09-28T19:12:48.869281Z",
     "shell.execute_reply.started": "2021-09-28T19:12:48.822193Z"
    }
   },
   "outputs": [],
   "source": [
    "data['Price Range'] = data['Price Range'].apply(chng_price)"
   ]
  },
  {
   "cell_type": "markdown",
   "metadata": {
    "_cell_guid": "58da62ae-50ec-44ac-85a1-b80cbd7b2fd1",
    "_uuid": "d25f577b-e490-4031-80ab-b8fd1701fc19"
   },
   "source": [
    "> Для некоторых алгоритмов МЛ даже для не категориальных признаков можно применить One-Hot Encoding, и это может улучшить качество модели. Пробуйте разные подходы к кодированию признака - никто не знает заранее, что может взлететь."
   ]
  },
  {
   "cell_type": "markdown",
   "metadata": {
    "_cell_guid": "905911c5-b3f9-4139-b87f-faa67affe0a4",
    "_uuid": "16ef6d71-f299-49a6-96cc-167e88f9c21f"
   },
   "source": [
    "### Обработать другие признаки вы должны самостоятельно!\n",
    "Для обработки других признаков вам возможно придется даже написать свою функцию, а может даже и не одну, но в этом и есть ваша практика в этом модуле!     \n",
    "Следуя подсказкам в модуле вы сможете более подробно узнать, как сделать эти приобразования."
   ]
  },
  {
   "cell_type": "markdown",
   "metadata": {},
   "source": [
    "### 'Cuisine Style'"
   ]
  },
  {
   "cell_type": "code",
   "execution_count": 35,
   "metadata": {
    "execution": {
     "iopub.execute_input": "2021-09-28T19:12:48.872269Z",
     "iopub.status.busy": "2021-09-28T19:12:48.871730Z",
     "iopub.status.idle": "2021-09-28T19:12:48.878921Z",
     "shell.execute_reply": "2021-09-28T19:12:48.877744Z",
     "shell.execute_reply.started": "2021-09-28T19:12:48.872192Z"
    }
   },
   "outputs": [
    {
     "data": {
      "text/plain": [
       "\"['European', 'Scandinavian', 'Gluten Free Options', 'Vegetarian Friendly', 'Vegan Options']\""
      ]
     },
     "execution_count": 35,
     "metadata": {},
     "output_type": "execute_result"
    }
   ],
   "source": [
    "data['Cuisine Style'][1]"
   ]
  },
  {
   "cell_type": "code",
   "execution_count": 36,
   "metadata": {
    "_cell_guid": "869f37ea-108f-4bd3-9c31-cfa65c2308e3",
    "_uuid": "8d9be778-6ab3-4194-8026-845131d8c7f7",
    "collapsed": false,
    "execution": {
     "iopub.execute_input": "2021-09-28T19:12:48.880974Z",
     "iopub.status.busy": "2021-09-28T19:12:48.880695Z",
     "iopub.status.idle": "2021-09-28T19:12:49.227485Z",
     "shell.execute_reply": "2021-09-28T19:12:49.226271Z",
     "shell.execute_reply.started": "2021-09-28T19:12:48.880930Z"
    },
    "jupyter": {
     "outputs_hidden": false
    }
   },
   "outputs": [],
   "source": [
    "# тут ваш код на обработку других признаков\n",
    "# .....\n",
    "# преобразуем набор кухонь в рестораннах в list. После чего сгенерируем новый признак дата фрейма в виде количества кухонь в ресторане\n",
    "data['Cuisine Style'] = data['Cuisine Style'].astype(str).apply(lambda L: L[1:-1])\n",
    "data['Cuisine Style'] = data['Cuisine Style'].str.split(',')\n",
    "data['Cuisine Style'] = data['Cuisine Style'].astype(str).str.strip()\n",
    "data['n_cuisine'] = data['Cuisine Style'].apply(len)"
   ]
  },
  {
   "cell_type": "markdown",
   "metadata": {},
   "source": [
    "### 'Reviews'"
   ]
  },
  {
   "cell_type": "code",
   "execution_count": 37,
   "metadata": {
    "execution": {
     "iopub.execute_input": "2021-09-28T19:12:49.229505Z",
     "iopub.status.busy": "2021-09-28T19:12:49.229211Z",
     "iopub.status.idle": "2021-09-28T19:12:49.260773Z",
     "shell.execute_reply": "2021-09-28T19:12:49.259783Z",
     "shell.execute_reply.started": "2021-09-28T19:12:49.229459Z"
    }
   },
   "outputs": [
    {
     "data": {
      "text/plain": [
       "41858"
      ]
     },
     "execution_count": 37,
     "metadata": {},
     "output_type": "execute_result"
    }
   ],
   "source": [
    "data['Reviews'].nunique()"
   ]
  },
  {
   "cell_type": "code",
   "execution_count": 38,
   "metadata": {
    "execution": {
     "iopub.execute_input": "2021-09-28T19:12:49.262820Z",
     "iopub.status.busy": "2021-09-28T19:12:49.262540Z",
     "iopub.status.idle": "2021-09-28T19:13:13.611354Z",
     "shell.execute_reply": "2021-09-28T19:13:13.610274Z",
     "shell.execute_reply.started": "2021-09-28T19:12:49.262775Z"
    }
   },
   "outputs": [
    {
     "data": {
      "text/plain": [
       "0                              []\n",
       "1        [2017-10-29, 2017-12-05]\n",
       "2        [2017-12-06, 2017-12-28]\n",
       "3        [2017-11-22, 2017-12-06]\n",
       "4        [2018-01-24, 2018-02-08]\n",
       "                   ...           \n",
       "49995    [2017-11-12, 2017-12-16]\n",
       "49996    [2017-12-12, 2017-12-21]\n",
       "49997    [2008-04-12, 2016-11-03]\n",
       "49998    [2017-06-18, 2017-07-11]\n",
       "49999    [2012-07-04, 2016-01-31]\n",
       "Name: Reviews Date, Length: 50000, dtype: object"
      ]
     },
     "execution_count": 38,
     "metadata": {},
     "output_type": "execute_result"
    }
   ],
   "source": [
    "# Данный принак содержит 41858 уникальных значений\n",
    "# Но из него можго извлечь дату создания отзывов и преобразовать ее в datetime формат\n",
    "# После чего можно сформировать новый признак, как разницу во времени между отзывами\n",
    "pattern = re.compile('\\'\\d+\\/\\d+\\/\\d+\\'?')\n",
    "data['Reviews Date'] = data['Reviews'].apply(pattern.findall)\n",
    "data['Reviews Date'] = data['Reviews Date'].apply(lambda x: sorted([pd.to_datetime(i).date() for i in x]))\n",
    "data['Reviews Date']"
   ]
  },
  {
   "cell_type": "code",
   "execution_count": 39,
   "metadata": {
    "execution": {
     "iopub.execute_input": "2021-09-28T19:13:13.613035Z",
     "iopub.status.busy": "2021-09-28T19:13:13.612671Z",
     "iopub.status.idle": "2021-09-28T19:13:13.619119Z",
     "shell.execute_reply": "2021-09-28T19:13:13.617823Z",
     "shell.execute_reply.started": "2021-09-28T19:13:13.612996Z"
    }
   },
   "outputs": [],
   "source": [
    "# возвращает даты отзывов из 'Reviews Date'\n",
    "def get_date(row):\n",
    "    if len(row['Reviews Date']) == 2:\n",
    "        return row['Reviews Date'][0], row['Reviews Date'][1]\n",
    "    elif len(row['Reviews Date']) == 1:\n",
    "        return row['Reviews Date'][0], np.nan\n",
    "    else:\n",
    "        return np.nan,np.nan"
   ]
  },
  {
   "cell_type": "code",
   "execution_count": 40,
   "metadata": {
    "execution": {
     "iopub.execute_input": "2021-09-28T19:13:13.621419Z",
     "iopub.status.busy": "2021-09-28T19:13:13.621017Z",
     "iopub.status.idle": "2021-09-28T19:13:27.730586Z",
     "shell.execute_reply": "2021-09-28T19:13:27.729450Z",
     "shell.execute_reply.started": "2021-09-28T19:13:13.621347Z"
    }
   },
   "outputs": [
    {
     "data": {
      "text/html": [
       "<div>\n",
       "<style scoped>\n",
       "    .dataframe tbody tr th:only-of-type {\n",
       "        vertical-align: middle;\n",
       "    }\n",
       "\n",
       "    .dataframe tbody tr th {\n",
       "        vertical-align: top;\n",
       "    }\n",
       "\n",
       "    .dataframe thead th {\n",
       "        text-align: right;\n",
       "    }\n",
       "</style>\n",
       "<table border=\"1\" class=\"dataframe\">\n",
       "  <thead>\n",
       "    <tr style=\"text-align: right;\">\n",
       "      <th></th>\n",
       "      <th>date_1</th>\n",
       "      <th>date_2</th>\n",
       "    </tr>\n",
       "  </thead>\n",
       "  <tbody>\n",
       "    <tr>\n",
       "      <th>0</th>\n",
       "      <td>NaN</td>\n",
       "      <td>NaN</td>\n",
       "    </tr>\n",
       "    <tr>\n",
       "      <th>1</th>\n",
       "      <td>2017-10-29</td>\n",
       "      <td>2017-12-05</td>\n",
       "    </tr>\n",
       "    <tr>\n",
       "      <th>2</th>\n",
       "      <td>2017-12-06</td>\n",
       "      <td>2017-12-28</td>\n",
       "    </tr>\n",
       "    <tr>\n",
       "      <th>3</th>\n",
       "      <td>2017-11-22</td>\n",
       "      <td>2017-12-06</td>\n",
       "    </tr>\n",
       "    <tr>\n",
       "      <th>4</th>\n",
       "      <td>2018-01-24</td>\n",
       "      <td>2018-02-08</td>\n",
       "    </tr>\n",
       "    <tr>\n",
       "      <th>5</th>\n",
       "      <td>2017-09-02</td>\n",
       "      <td>2017-09-07</td>\n",
       "    </tr>\n",
       "    <tr>\n",
       "      <th>6</th>\n",
       "      <td>NaN</td>\n",
       "      <td>NaN</td>\n",
       "    </tr>\n",
       "    <tr>\n",
       "      <th>7</th>\n",
       "      <td>NaN</td>\n",
       "      <td>NaN</td>\n",
       "    </tr>\n",
       "    <tr>\n",
       "      <th>8</th>\n",
       "      <td>2017-10-11</td>\n",
       "      <td>2018-01-07</td>\n",
       "    </tr>\n",
       "    <tr>\n",
       "      <th>9</th>\n",
       "      <td>2017-10-29</td>\n",
       "      <td>2017-12-02</td>\n",
       "    </tr>\n",
       "    <tr>\n",
       "      <th>10</th>\n",
       "      <td>2017-06-25</td>\n",
       "      <td>2017-09-11</td>\n",
       "    </tr>\n",
       "    <tr>\n",
       "      <th>11</th>\n",
       "      <td>2015-02-22</td>\n",
       "      <td>2015-05-16</td>\n",
       "    </tr>\n",
       "    <tr>\n",
       "      <th>12</th>\n",
       "      <td>2010-03-20</td>\n",
       "      <td>NaN</td>\n",
       "    </tr>\n",
       "    <tr>\n",
       "      <th>13</th>\n",
       "      <td>2016-09-19</td>\n",
       "      <td>2017-09-28</td>\n",
       "    </tr>\n",
       "    <tr>\n",
       "      <th>14</th>\n",
       "      <td>2017-03-01</td>\n",
       "      <td>2017-04-18</td>\n",
       "    </tr>\n",
       "    <tr>\n",
       "      <th>15</th>\n",
       "      <td>2016-11-12</td>\n",
       "      <td>2017-01-01</td>\n",
       "    </tr>\n",
       "    <tr>\n",
       "      <th>16</th>\n",
       "      <td>2017-03-23</td>\n",
       "      <td>2017-06-21</td>\n",
       "    </tr>\n",
       "    <tr>\n",
       "      <th>17</th>\n",
       "      <td>2017-12-12</td>\n",
       "      <td>2017-12-28</td>\n",
       "    </tr>\n",
       "    <tr>\n",
       "      <th>18</th>\n",
       "      <td>NaN</td>\n",
       "      <td>NaN</td>\n",
       "    </tr>\n",
       "    <tr>\n",
       "      <th>19</th>\n",
       "      <td>2017-07-20</td>\n",
       "      <td>2017-08-24</td>\n",
       "    </tr>\n",
       "  </tbody>\n",
       "</table>\n",
       "</div>"
      ],
      "text/plain": [
       "        date_1      date_2\n",
       "0          NaN         NaN\n",
       "1   2017-10-29  2017-12-05\n",
       "2   2017-12-06  2017-12-28\n",
       "3   2017-11-22  2017-12-06\n",
       "4   2018-01-24  2018-02-08\n",
       "5   2017-09-02  2017-09-07\n",
       "6          NaN         NaN\n",
       "7          NaN         NaN\n",
       "8   2017-10-11  2018-01-07\n",
       "9   2017-10-29  2017-12-02\n",
       "10  2017-06-25  2017-09-11\n",
       "11  2015-02-22  2015-05-16\n",
       "12  2010-03-20         NaN\n",
       "13  2016-09-19  2017-09-28\n",
       "14  2017-03-01  2017-04-18\n",
       "15  2016-11-12  2017-01-01\n",
       "16  2017-03-23  2017-06-21\n",
       "17  2017-12-12  2017-12-28\n",
       "18         NaN         NaN\n",
       "19  2017-07-20  2017-08-24"
      ]
     },
     "execution_count": 40,
     "metadata": {},
     "output_type": "execute_result"
    }
   ],
   "source": [
    "# создаем столбцы в которых хранятся даты отзывов \n",
    "data[['date_1', 'date_2']] = data[['Reviews Date']].apply(get_date, axis=1, result_type='expand')\n",
    "data[['date_1', 'date_2']][:20]"
   ]
  },
  {
   "cell_type": "code",
   "execution_count": 41,
   "metadata": {
    "execution": {
     "iopub.execute_input": "2021-09-28T19:13:27.732876Z",
     "iopub.status.busy": "2021-09-28T19:13:27.732535Z",
     "iopub.status.idle": "2021-09-28T19:13:27.997558Z",
     "shell.execute_reply": "2021-09-28T19:13:27.996524Z",
     "shell.execute_reply.started": "2021-09-28T19:13:27.732823Z"
    }
   },
   "outputs": [],
   "source": [
    "# создаем новый признак, как разницу во времени между отзывами\n",
    "# заполняем пропуски средним значение времени между отзывами\n",
    "# и преобразуем в int\n",
    "data['time_delta'] = data.date_2 - data.date_1\n",
    "data['time_delta'].fillna(data['time_delta'].mean(), inplace=True)\n",
    "data['time_delta'] = data['time_delta'].astype('timedelta64[D]').astype(int)"
   ]
  },
  {
   "cell_type": "code",
   "execution_count": 42,
   "metadata": {
    "_cell_guid": "c59475d8-7d41-45ba-adf8-997f6670f18d",
    "_uuid": "499c6141-cdb5-4f7c-bf83-a430106e4e42",
    "collapsed": false,
    "execution": {
     "iopub.execute_input": "2021-09-28T19:13:27.999777Z",
     "iopub.status.busy": "2021-09-28T19:13:27.999377Z",
     "iopub.status.idle": "2021-09-28T19:13:28.037028Z",
     "shell.execute_reply": "2021-09-28T19:13:28.035737Z",
     "shell.execute_reply.started": "2021-09-28T19:13:27.999712Z"
    },
    "jupyter": {
     "outputs_hidden": false
    }
   },
   "outputs": [
    {
     "data": {
      "text/html": [
       "<div>\n",
       "<style scoped>\n",
       "    .dataframe tbody tr th:only-of-type {\n",
       "        vertical-align: middle;\n",
       "    }\n",
       "\n",
       "    .dataframe tbody tr th {\n",
       "        vertical-align: top;\n",
       "    }\n",
       "\n",
       "    .dataframe thead th {\n",
       "        text-align: right;\n",
       "    }\n",
       "</style>\n",
       "<table border=\"1\" class=\"dataframe\">\n",
       "  <thead>\n",
       "    <tr style=\"text-align: right;\">\n",
       "      <th></th>\n",
       "      <th>Restaurant_id</th>\n",
       "      <th>City</th>\n",
       "      <th>Cuisine Style</th>\n",
       "      <th>Ranking</th>\n",
       "      <th>Price Range</th>\n",
       "      <th>Number of Reviews</th>\n",
       "      <th>Reviews</th>\n",
       "      <th>URL_TA</th>\n",
       "      <th>ID_TA</th>\n",
       "      <th>sample</th>\n",
       "      <th>...</th>\n",
       "      <th>Rome</th>\n",
       "      <th>Stockholm</th>\n",
       "      <th>Vienna</th>\n",
       "      <th>Warsaw</th>\n",
       "      <th>Zurich</th>\n",
       "      <th>n_cuisine</th>\n",
       "      <th>Reviews Date</th>\n",
       "      <th>date_1</th>\n",
       "      <th>date_2</th>\n",
       "      <th>time_delta</th>\n",
       "    </tr>\n",
       "  </thead>\n",
       "  <tbody>\n",
       "    <tr>\n",
       "      <th>32503</th>\n",
       "      <td>id_2807</td>\n",
       "      <td>Barcelona</td>\n",
       "      <td>['nknow']</td>\n",
       "      <td>2808.0</td>\n",
       "      <td>2</td>\n",
       "      <td>14.0</td>\n",
       "      <td>[['Genuine style', 'Best restaurant in this ar...</td>\n",
       "      <td>/Restaurant_Review-g187497-d5865184-Reviews-La...</td>\n",
       "      <td>d5865184</td>\n",
       "      <td>1</td>\n",
       "      <td>...</td>\n",
       "      <td>0</td>\n",
       "      <td>0</td>\n",
       "      <td>0</td>\n",
       "      <td>0</td>\n",
       "      <td>0</td>\n",
       "      <td>9</td>\n",
       "      <td>[2016-11-21, 2017-06-26]</td>\n",
       "      <td>2016-11-21</td>\n",
       "      <td>2017-06-26</td>\n",
       "      <td>217</td>\n",
       "    </tr>\n",
       "  </tbody>\n",
       "</table>\n",
       "<p>1 rows × 47 columns</p>\n",
       "</div>"
      ],
      "text/plain": [
       "      Restaurant_id       City Cuisine Style  Ranking  Price Range  \\\n",
       "32503       id_2807  Barcelona     ['nknow']   2808.0            2   \n",
       "\n",
       "       Number of Reviews                                            Reviews  \\\n",
       "32503               14.0  [['Genuine style', 'Best restaurant in this ar...   \n",
       "\n",
       "                                                  URL_TA     ID_TA  sample  \\\n",
       "32503  /Restaurant_Review-g187497-d5865184-Reviews-La...  d5865184       1   \n",
       "\n",
       "       ...  Rome  Stockholm  Vienna  Warsaw  Zurich  n_cuisine  \\\n",
       "32503  ...     0          0       0       0       0          9   \n",
       "\n",
       "                   Reviews Date      date_1      date_2  time_delta  \n",
       "32503  [2016-11-21, 2017-06-26]  2016-11-21  2017-06-26         217  \n",
       "\n",
       "[1 rows x 47 columns]"
      ]
     },
     "execution_count": 42,
     "metadata": {},
     "output_type": "execute_result"
    }
   ],
   "source": [
    "data.sample()"
   ]
  },
  {
   "cell_type": "markdown",
   "metadata": {
    "_cell_guid": "e0207bf5-0438-4858-89f0-cf16b604657e",
    "_uuid": "8e7ecee5-0c83-40a0-88aa-1f807b8eef07"
   },
   "source": [
    "![](https://cs10.pikabu.ru/post_img/2018/09/06/11/1536261023140110012.jpg)"
   ]
  },
  {
   "cell_type": "markdown",
   "metadata": {
    "_cell_guid": "55a9d311-4aa8-4f23-ace1-1aa34b9f3336",
    "_uuid": "46a1ff98-991b-46f9-8ccf-89baa195781d"
   },
   "source": [
    "# EDA \n",
    "[Exploratory Data Analysis](https://ru.wikipedia.org/wiki/Разведочный_анализ_данных) - Анализ данных\n",
    "На этом этапе мы строим графики, ищем закономерности, аномалии, выбросы или связи между признаками.\n",
    "В общем цель этого этапа понять, что эти данные могут нам дать и как признаки могут быть взаимосвязаны между собой.\n",
    "Понимание изначальных признаков позволит сгенерировать новые, более сильные и, тем самым, сделать нашу модель лучше.\n",
    "![](https://miro.medium.com/max/2598/1*RXdMb7Uk6mGqWqPguHULaQ.png)"
   ]
  },
  {
   "cell_type": "code",
   "execution_count": 43,
   "metadata": {
    "execution": {
     "iopub.execute_input": "2021-09-28T19:13:28.039125Z",
     "iopub.status.busy": "2021-09-28T19:13:28.038788Z",
     "iopub.status.idle": "2021-09-28T19:13:28.618325Z",
     "shell.execute_reply": "2021-09-28T19:13:28.617162Z",
     "shell.execute_reply.started": "2021-09-28T19:13:28.039073Z"
    }
   },
   "outputs": [
    {
     "data": {
      "text/plain": [
       "<matplotlib.axes._subplots.AxesSubplot at 0x7f30955059b0>"
      ]
     },
     "execution_count": 43,
     "metadata": {},
     "output_type": "execute_result"
    },
    {
     "data": {
      "image/png": "[encoded data removed]",
      "text/plain": [
       "<Figure size 1152x864 with 1 Axes>"
      ]
     },
     "metadata": {
      "needs_background": "light"
     },
     "output_type": "display_data"
    }
   ],
   "source": [
    "plt.figure(figsize=(16,12))\n",
    "sns.boxplot(x = 'City', y = 'Rating', data= data[data.City.isin(df_train['City'].value_counts()[0:10].index)])"
   ]
  },
  {
   "cell_type": "markdown",
   "metadata": {},
   "source": [
    " Имеется различие в распределения рейтинга в зависимости от значения переменной \"City\". Для кодирования признака можно применить One-Hot Encoding."
   ]
  },
  {
   "cell_type": "code",
   "execution_count": 44,
   "metadata": {
    "execution": {
     "iopub.execute_input": "2021-09-28T19:13:28.620427Z",
     "iopub.status.busy": "2021-09-28T19:13:28.620001Z",
     "iopub.status.idle": "2021-09-28T19:13:29.036793Z",
     "shell.execute_reply": "2021-09-28T19:13:29.035514Z",
     "shell.execute_reply.started": "2021-09-28T19:13:28.620339Z"
    }
   },
   "outputs": [
    {
     "data": {
      "text/plain": [
       "<matplotlib.axes._subplots.AxesSubplot at 0x7f30952f6208>"
      ]
     },
     "execution_count": 44,
     "metadata": {},
     "output_type": "execute_result"
    },
    {
     "data": {
      "image/png": "[encoded data removed]",
      "text/plain": [
       "<Figure size 1152x864 with 1 Axes>"
      ]
     },
     "metadata": {
      "needs_background": "light"
     },
     "output_type": "display_data"
    }
   ],
   "source": [
    "plt.figure(figsize=(16,12))\n",
    "sns.boxplot(x = 'Price Range', y = 'Rating', data= data)"
   ]
  },
  {
   "cell_type": "markdown",
   "metadata": {},
   "source": [
    " Малое различие в распределения рейтинга в зависимости от значения переменной 'Price Range'."
   ]
  },
  {
   "cell_type": "markdown",
   "metadata": {
    "_cell_guid": "0a519d7b-c7d7-4116-bd72-3f1f09c1c5b9",
    "_uuid": "08e6e82d-6e56-4b9c-9201-c9b459e584f5"
   },
   "source": [
    "### Посмотрим распределение признака"
   ]
  },
  {
   "cell_type": "code",
   "execution_count": 45,
   "metadata": {
    "_cell_guid": "c7b01e5e-d177-47d8-9137-0a1b58a8bd2f",
    "_uuid": "09754793-ed5d-458b-a6f7-642aca7cdb38",
    "collapsed": false,
    "execution": {
     "iopub.execute_input": "2021-09-28T19:13:29.038577Z",
     "iopub.status.busy": "2021-09-28T19:13:29.038274Z",
     "iopub.status.idle": "2021-09-28T19:13:29.548580Z",
     "shell.execute_reply": "2021-09-28T19:13:29.547278Z",
     "shell.execute_reply.started": "2021-09-28T19:13:29.038521Z"
    },
    "jupyter": {
     "outputs_hidden": false
    }
   },
   "outputs": [
    {
     "data": {
      "text/plain": [
       "<matplotlib.axes._subplots.AxesSubplot at 0x7f305bf41ef0>"
      ]
     },
     "execution_count": 45,
     "metadata": {},
     "output_type": "execute_result"
    },
    {
     "data": {
      "image/png": "[encoded data removed]",
      "text/plain": [
       "<Figure size 720x504 with 1 Axes>"
      ]
     },
     "metadata": {
      "needs_background": "light"
     },
     "output_type": "display_data"
    }
   ],
   "source": [
    "plt.rcParams['figure.figsize'] = (10,7)\n",
    "df_train['Ranking'].hist(bins=100)"
   ]
  },
  {
   "cell_type": "markdown",
   "metadata": {
    "_cell_guid": "bc6a0532-a62e-41c8-a10d-3d089c7afdb9",
    "_uuid": "04dc5a92-8ade-43db-b54c-235a1489d9b6"
   },
   "source": [
    "У нас много ресторанов, которые не дотягивают и до 2500 места в своем городе, а что там по городам?"
   ]
  },
  {
   "cell_type": "code",
   "execution_count": 46,
   "metadata": {
    "_cell_guid": "739ab43b-be99-4bf3-95b5-7dd8e4a046fc",
    "_uuid": "1befbc5f-e9fe-4912-9cb1-5724fec049fd",
    "collapsed": false,
    "execution": {
     "iopub.execute_input": "2021-09-28T19:13:29.554577Z",
     "iopub.status.busy": "2021-09-28T19:13:29.554006Z",
     "iopub.status.idle": "2021-09-28T19:13:30.038477Z",
     "shell.execute_reply": "2021-09-28T19:13:30.037630Z",
     "shell.execute_reply.started": "2021-09-28T19:13:29.554349Z"
    },
    "jupyter": {
     "outputs_hidden": false
    }
   },
   "outputs": [
    {
     "data": {
      "text/plain": [
       "<matplotlib.axes._subplots.AxesSubplot at 0x7f305c9d1908>"
      ]
     },
     "execution_count": 46,
     "metadata": {},
     "output_type": "execute_result"
    },
    {
     "data": {
      "image/png": "[encoded data removed]",
      "text/plain": [
       "<Figure size 720x504 with 1 Axes>"
      ]
     },
     "metadata": {
      "needs_background": "light"
     },
     "output_type": "display_data"
    }
   ],
   "source": [
    "df_train['City'].value_counts(ascending=True).plot(kind='bar')"
   ]
  },
  {
   "cell_type": "markdown",
   "metadata": {
    "_cell_guid": "7b2e4f75-f03c-427c-97e9-8f8687ac261e",
    "_uuid": "ce9d3b77-3391-4a99-a686-e02bea9087ec"
   },
   "source": [
    "А кто-то говорил, что французы любят поесть=) Посмотрим, как изменится распределение в большом городе:"
   ]
  },
  {
   "cell_type": "code",
   "execution_count": 47,
   "metadata": {
    "_cell_guid": "813cd88e-ef18-49ce-9f16-cc995f61dc9d",
    "_uuid": "afadae20-51b6-45d3-a2d1-07c19337dbc2",
    "collapsed": false,
    "execution": {
     "iopub.execute_input": "2021-09-28T19:13:30.040511Z",
     "iopub.status.busy": "2021-09-28T19:13:30.040109Z",
     "iopub.status.idle": "2021-09-28T19:13:30.664382Z",
     "shell.execute_reply": "2021-09-28T19:13:30.663247Z",
     "shell.execute_reply.started": "2021-09-28T19:13:30.040439Z"
    },
    "jupyter": {
     "outputs_hidden": false
    }
   },
   "outputs": [
    {
     "data": {
      "text/plain": [
       "<matplotlib.axes._subplots.AxesSubplot at 0x7f305c810d68>"
      ]
     },
     "execution_count": 47,
     "metadata": {},
     "output_type": "execute_result"
    },
    {
     "data": {
      "image/png": "[encoded data removed]",
      "text/plain": [
       "<Figure size 720x504 with 1 Axes>"
      ]
     },
     "metadata": {
      "needs_background": "light"
     },
     "output_type": "display_data"
    }
   ],
   "source": [
    "df_train['Ranking'][df_train['City'] =='London'].hist(bins=100)"
   ]
  },
  {
   "cell_type": "code",
   "execution_count": 48,
   "metadata": {
    "_cell_guid": "c83adc85-9a7e-43bc-85ce-eeaa70b520d7",
    "_uuid": "5c3a0509-c181-47da-9239-12aa892ba25e",
    "collapsed": false,
    "execution": {
     "iopub.execute_input": "2021-09-28T19:13:30.667051Z",
     "iopub.status.busy": "2021-09-28T19:13:30.666374Z",
     "iopub.status.idle": "2021-09-28T19:13:33.433896Z",
     "shell.execute_reply": "2021-09-28T19:13:33.432260Z",
     "shell.execute_reply.started": "2021-09-28T19:13:30.666961Z"
    },
    "jupyter": {
     "outputs_hidden": false
    }
   },
   "outputs": [
    {
     "data": {
      "image/png": "[encoded data removed]",
      "text/plain": [
       "<Figure size 720x504 with 1 Axes>"
      ]
     },
     "metadata": {
      "needs_background": "light"
     },
     "output_type": "display_data"
    }
   ],
   "source": [
    "# посмотрим на топ 10 городов\n",
    "for x in (df_train['City'].value_counts())[0:10].index:\n",
    "    df_train['Ranking'][df_train['City'] == x].hist(bins=100)\n",
    "plt.show()"
   ]
  },
  {
   "cell_type": "markdown",
   "metadata": {
    "_cell_guid": "15038978-eafe-4fbb-9c71-6a107ea159a8",
    "_uuid": "771a384a-6e94-435f-b27c-a7cc2bca2cb3"
   },
   "source": [
    "Получается, что Ranking имеет нормальное распределение, просто в больших городах больше ресторанов, из-за мы этого имеем смещение.\n",
    "\n",
    ">Подумайте как из этого можно сделать признак для вашей модели. Я покажу вам пример, как визуализация помогает находить взаимосвязи. А далее действуйте без подсказок =)"
   ]
  },
  {
   "cell_type": "markdown",
   "metadata": {
    "_cell_guid": "7b742d08-0920-4872-97b6-181e16724a19",
    "_uuid": "d8680eff-2d4b-45f2-9b6c-f7a4816a9c9e"
   },
   "source": [
    "### Посмотрим распределение целевой переменной"
   ]
  },
  {
   "cell_type": "code",
   "execution_count": 49,
   "metadata": {
    "execution": {
     "iopub.execute_input": "2021-09-28T19:13:33.436912Z",
     "iopub.status.busy": "2021-09-28T19:13:33.436214Z",
     "iopub.status.idle": "2021-09-28T19:13:33.963479Z",
     "shell.execute_reply": "2021-09-28T19:13:33.961788Z",
     "shell.execute_reply.started": "2021-09-28T19:13:33.436616Z"
    }
   },
   "outputs": [
    {
     "data": {
      "text/plain": [
       "<matplotlib.axes._subplots.AxesSubplot at 0x7f305c1c7f28>"
      ]
     },
     "execution_count": 49,
     "metadata": {},
     "output_type": "execute_result"
    },
    {
     "data": {
      "image/png": "[encoded data removed]",
      "text/plain": [
       "<Figure size 720x504 with 1 Axes>"
      ]
     },
     "metadata": {
      "needs_background": "light"
     },
     "output_type": "display_data"
    }
   ],
   "source": [
    "data['Rating'].hist(bins=20)"
   ]
  },
  {
   "cell_type": "code",
   "execution_count": 50,
   "metadata": {
    "_cell_guid": "d0b8baf1-58ee-4387-8ac9-0b89e34662c8",
    "_uuid": "63caa932-7e88-4d96-b171-da4300cf6f2c",
    "collapsed": false,
    "execution": {
     "iopub.execute_input": "2021-09-28T19:13:33.966327Z",
     "iopub.status.busy": "2021-09-28T19:13:33.965660Z",
     "iopub.status.idle": "2021-09-28T19:13:34.276827Z",
     "shell.execute_reply": "2021-09-28T19:13:34.275224Z",
     "shell.execute_reply.started": "2021-09-28T19:13:33.966016Z"
    },
    "jupyter": {
     "outputs_hidden": false
    }
   },
   "outputs": [
    {
     "data": {
      "text/plain": [
       "<matplotlib.axes._subplots.AxesSubplot at 0x7f305c0f96a0>"
      ]
     },
     "execution_count": 50,
     "metadata": {},
     "output_type": "execute_result"
    },
    {
     "data": {
      "image/png": "[encoded data removed]",
      "text/plain": [
       "<Figure size 720x504 with 1 Axes>"
      ]
     },
     "metadata": {
      "needs_background": "light"
     },
     "output_type": "display_data"
    }
   ],
   "source": [
    "df_train['Rating'].value_counts(ascending=True).plot(kind='bar')"
   ]
  },
  {
   "cell_type": "markdown",
   "metadata": {
    "_cell_guid": "e544a4fb-be98-4282-9062-2694bd81290f",
    "_uuid": "e2f987bd-2c68-4389-9663-145c4afa195b"
   },
   "source": [
    "### Посмотрим распределение целевой переменной относительно признака"
   ]
  },
  {
   "cell_type": "code",
   "execution_count": 51,
   "metadata": {
    "_cell_guid": "7c29e41f-acb0-4024-8134-8ea24397e658",
    "_uuid": "fe5c18d8-f87f-41eb-844d-c4a74d58c86e",
    "collapsed": false,
    "execution": {
     "iopub.execute_input": "2021-09-28T19:13:34.279656Z",
     "iopub.status.busy": "2021-09-28T19:13:34.279048Z",
     "iopub.status.idle": "2021-09-28T19:13:34.798020Z",
     "shell.execute_reply": "2021-09-28T19:13:34.796561Z",
     "shell.execute_reply.started": "2021-09-28T19:13:34.279410Z"
    },
    "jupyter": {
     "outputs_hidden": false
    }
   },
   "outputs": [
    {
     "data": {
      "text/plain": [
       "<matplotlib.axes._subplots.AxesSubplot at 0x7f305be4ca90>"
      ]
     },
     "execution_count": 51,
     "metadata": {},
     "output_type": "execute_result"
    },
    {
     "data": {
      "image/png": "[encoded data removed]",
      "text/plain": [
       "<Figure size 720x504 with 1 Axes>"
      ]
     },
     "metadata": {
      "needs_background": "light"
     },
     "output_type": "display_data"
    }
   ],
   "source": [
    "df_train['Ranking'][df_train['Rating'] == 5].hist(bins=100)"
   ]
  },
  {
   "cell_type": "code",
   "execution_count": 52,
   "metadata": {
    "_cell_guid": "4f551cc9-8ade-43bc-8c51-f7fa0a1cbd03",
    "_uuid": "e673029f-dcc1-413a-b486-efa2be2f7a29",
    "collapsed": false,
    "execution": {
     "iopub.execute_input": "2021-09-28T19:13:34.800767Z",
     "iopub.status.busy": "2021-09-28T19:13:34.800145Z",
     "iopub.status.idle": "2021-09-28T19:13:35.316293Z",
     "shell.execute_reply": "2021-09-28T19:13:35.314841Z",
     "shell.execute_reply.started": "2021-09-28T19:13:34.800507Z"
    },
    "jupyter": {
     "outputs_hidden": false
    }
   },
   "outputs": [
    {
     "data": {
      "text/plain": [
       "<matplotlib.axes._subplots.AxesSubplot at 0x7f305bf5f400>"
      ]
     },
     "execution_count": 52,
     "metadata": {},
     "output_type": "execute_result"
    },
    {
     "data": {
      "image/png": "[encoded data removed]",
      "text/plain": [
       "<Figure size 720x504 with 1 Axes>"
      ]
     },
     "metadata": {
      "needs_background": "light"
     },
     "output_type": "display_data"
    }
   ],
   "source": [
    "df_train['Ranking'][df_train['Rating'] < 4].hist(bins=100)"
   ]
  },
  {
   "cell_type": "markdown",
   "metadata": {
    "_cell_guid": "71de5915-921d-4383-9f03-699fc43dc22f",
    "_uuid": "f7c03de7-0cca-44e8-9bd9-603d65247dd3"
   },
   "source": [
    "### И один из моих любимых - [корреляция признаков](https://ru.wikipedia.org/wiki/Корреляция)\n",
    "На этом графике уже сейчас вы сможете заметить, как признаки связаны между собой и с целевой переменной."
   ]
  },
  {
   "cell_type": "code",
   "execution_count": 53,
   "metadata": {
    "_cell_guid": "3586b838-2047-4d42-ad70-1106dd58a028",
    "_kg_hide-output": true,
    "_uuid": "5586cb1f-8234-4673-8cda-6500c68dc8b6",
    "collapsed": false,
    "execution": {
     "iopub.execute_input": "2021-09-28T19:13:35.318884Z",
     "iopub.status.busy": "2021-09-28T19:13:35.318281Z",
     "iopub.status.idle": "2021-09-28T19:13:41.095087Z",
     "shell.execute_reply": "2021-09-28T19:13:41.093813Z",
     "shell.execute_reply.started": "2021-09-28T19:13:35.318640Z"
    },
    "jupyter": {
     "outputs_hidden": false
    }
   },
   "outputs": [
    {
     "data": {
      "text/plain": [
       "<matplotlib.axes._subplots.AxesSubplot at 0x7f307b685f28>"
      ]
     },
     "execution_count": 53,
     "metadata": {},
     "output_type": "execute_result"
    },
    {
     "data": {
      "image/png": "[encoded data removed]",
      "text/plain": [
       "<Figure size 1800x1440 with 2 Axes>"
      ]
     },
     "metadata": {
      "needs_background": "light"
     },
     "output_type": "display_data"
    }
   ],
   "source": [
    "plt.rcParams['figure.figsize'] = (25,20)\n",
    "sns.heatmap(data.drop(['sample', 'Price Range'], axis=1).corr(), annot=True)"
   ]
  },
  {
   "cell_type": "markdown",
   "metadata": {
    "_cell_guid": "87d9d577-93d6-4b00-9e4c-49e2ecc54ad2",
    "_uuid": "b60733da-bc5e-4ee2-b6d6-6501071c44b9"
   },
   "source": [
    "Вообще благодаря визуализации в этом датасете можно узнать много интересных фактов, например:\n",
    "* где больше Пицерий в Мадриде или Лондоне?\n",
    "* в каком городе кухня ресторанов более разнообразна?\n",
    "\n",
    "придумайте свои вопрос и найдите на него ответ в данных)"
   ]
  },
  {
   "cell_type": "markdown",
   "metadata": {
    "_cell_guid": "d216c993-e32f-4c87-8f11-83715a5ded6d",
    "_uuid": "275b04d9-b087-4227-901d-4a6a99108571"
   },
   "source": [
    "# Data Preprocessing\n",
    "Теперь, для удобства и воспроизводимости кода, завернем всю обработку в одну большую функцию."
   ]
  },
  {
   "cell_type": "code",
   "execution_count": 54,
   "metadata": {
    "_cell_guid": "1e767d39-f239-4ae8-8274-a09a24a9aa79",
    "_uuid": "4b599fdf-7fc0-42fb-81e0-8a160e8b433d",
    "collapsed": false,
    "execution": {
     "iopub.execute_input": "2021-09-28T19:13:41.097776Z",
     "iopub.status.busy": "2021-09-28T19:13:41.097214Z",
     "iopub.status.idle": "2021-09-28T19:13:41.491971Z",
     "shell.execute_reply": "2021-09-28T19:13:41.490810Z",
     "shell.execute_reply.started": "2021-09-28T19:13:41.097548Z"
    },
    "jupyter": {
     "outputs_hidden": false
    }
   },
   "outputs": [
    {
     "name": "stdout",
     "output_type": "stream",
     "text": [
      "<class 'pandas.core.frame.DataFrame'>\n",
      "RangeIndex: 50000 entries, 0 to 49999\n",
      "Data columns (total 11 columns):\n",
      "Restaurant_id        50000 non-null object\n",
      "City                 50000 non-null object\n",
      "Cuisine Style        38410 non-null object\n",
      "Ranking              50000 non-null float64\n",
      "Price Range          32639 non-null object\n",
      "Number of Reviews    46800 non-null float64\n",
      "Reviews              49998 non-null object\n",
      "URL_TA               50000 non-null object\n",
      "ID_TA                50000 non-null object\n",
      "sample               50000 non-null int64\n",
      "Rating               50000 non-null float64\n",
      "dtypes: float64(3), int64(1), object(7)\n",
      "memory usage: 4.2+ MB\n"
     ]
    }
   ],
   "source": [
    "# на всякий случай, заново подгружаем данные\n",
    "df_train = pd.read_csv(DATA_DIR+'/main_task.csv')\n",
    "df_test = pd.read_csv(DATA_DIR+'/kaggle_task.csv')\n",
    "df_train['sample'] = 1 # помечаем где у нас трейн\n",
    "df_test['sample'] = 0 # помечаем где у нас тест\n",
    "df_test['Rating'] = 0 # в тесте у нас нет значения Rating, мы его должны предсказать, по этому пока просто заполняем нулями\n",
    "\n",
    "data = df_test.append(df_train, sort=False).reset_index(drop=True) # объединяем\n",
    "data.info()"
   ]
  },
  {
   "cell_type": "code",
   "execution_count": 55,
   "metadata": {
    "_cell_guid": "9ab3d853-20b2-4b76-8e6c-181f683a76e2",
    "_uuid": "02659bd6-f390-4b6f-b534-4d553f43b055",
    "collapsed": false,
    "execution": {
     "iopub.execute_input": "2021-09-28T19:13:41.494032Z",
     "iopub.status.busy": "2021-09-28T19:13:41.493697Z",
     "iopub.status.idle": "2021-09-28T19:13:41.519013Z",
     "shell.execute_reply": "2021-09-28T19:13:41.517669Z",
     "shell.execute_reply.started": "2021-09-28T19:13:41.493970Z"
    },
    "jupyter": {
     "outputs_hidden": false
    }
   },
   "outputs": [],
   "source": [
    "def chng_price(price):\n",
    "    if price == '$':\n",
    "        return 1    #'low'\n",
    "    elif price == '$$ - $$$':\n",
    "        return 2    #'medium'\n",
    "    else:\n",
    "        return 3    #'high'\n",
    "\n",
    "def get_date(row):\n",
    "    if len(row['Reviews Date']) == 2:\n",
    "        return row['Reviews Date'][0], row['Reviews Date'][1]\n",
    "    elif len(row['Reviews Date']) == 1:\n",
    "        return row['Reviews Date'][0], np.nan\n",
    "    else:\n",
    "        return np.nan,np.nan\n",
    "\n",
    "def preproc_data(df_input):\n",
    "    '''includes several functions to pre-process the predictor data.'''\n",
    "    \n",
    "    df_output = df_input.copy()\n",
    "    \n",
    "    # ################### 1. Предобработка ############################################################## \n",
    "    # убираем не нужные для модели признаки\n",
    "    df_output.drop(['Restaurant_id','ID_TA',], axis = 1, inplace=True)\n",
    "    \n",
    "    \n",
    "    # ################### 2. NAN ############################################################## \n",
    "    # Далее заполняем пропуски, вы можете попробовать заполнением средним или средним по городу и тд...\n",
    "    df_output['Number of Reviews'].fillna(df_output['Number of Reviews'].mode()[0], inplace=True)\n",
    "    # тут ваш код по обработке NAN\n",
    "    # ....\n",
    "    df_output['Reviews'].fillna('unknown', inplace=True)\n",
    "    df_output['Price Range'].fillna('$$ - $$$', inplace=True)\n",
    "    df_output['Cuisine Style'] = df_output['Cuisine Style'].fillna('unknown')\n",
    "    \n",
    "    # ################### 3. Encoding ############################################################## \n",
    "    # для One-Hot Encoding в pandas есть готовая функция - get_dummies. Особенно радует параметр dummy_na\n",
    "    df_output = pd.concat([df_output,pd.get_dummies(df_output['City'])],axis=1)\n",
    "    # тут ваш код не Encoding фитчей\n",
    "    # ....\n",
    "    df_output['Price Range'] = df_output['Price Range'].apply(chng_price)\n",
    "    \n",
    "    \n",
    "    # ################### 4. Feature Engineering ####################################################\n",
    "    # тут ваш код не генерацию новых фитчей\n",
    "    # ....\n",
    "    df_output['Cuisine Style'] = df_output['Cuisine Style'].astype(str).apply(lambda L: L[1:-1])\n",
    "    df_output['Cuisine Style'] = df_output['Cuisine Style'].str.split(',')\n",
    "    df_output['Cuisine Style'] = df_output['Cuisine Style'].astype(str).str.strip()\n",
    "    df_output['n_cuisine'] = df_output['Cuisine Style'].apply(len)\n",
    "    \n",
    "    \n",
    "    pattern = re.compile('\\'\\d+\\/\\d+\\/\\d+\\'?')\n",
    "    df_output['Reviews Date'] = df_output['Reviews'].apply(pattern.findall)\n",
    "    df_output['Reviews Date'] = df_output['Reviews Date'].apply(lambda x: sorted([pd.to_datetime(i).date() for i in x]))\n",
    "    df_output[['date_1', 'date_2']] = df_output[['Reviews Date']].apply(get_date, axis=1, result_type='expand')\n",
    "    df_output['time_delta'] = df_output.date_2 - df_output.date_1\n",
    "    df_output['time_delta'].fillna(df_output['time_delta'].mean(), inplace=True)\n",
    "    df_output['time_delta'] = df_output['time_delta'].astype('timedelta64[D]').astype(int)\n",
    "    \n",
    "    \n",
    "    # ################### 5. Clean #################################################### \n",
    "    # убираем признаки которые еще не успели обработать, \n",
    "    # модель на признаках с dtypes \"object\" обучаться не будет, просто выберим их и удалим\n",
    "    object_columns = [s for s in df_output.columns if df_output[s].dtypes == 'object']\n",
    "    df_output.drop(object_columns, axis = 1, inplace=True)\n",
    "    \n",
    "    return df_output"
   ]
  },
  {
   "cell_type": "markdown",
   "metadata": {
    "_cell_guid": "6b90bb3b-0adc-41b5-857a-6cd206f558c9",
    "_uuid": "b474e73b-6ae8-4efa-b7bf-9abb7e759299"
   },
   "source": [
    ">По хорошему, можно было бы перевести эту большую функцию в класс и разбить на подфункции (согласно ООП)."
   ]
  },
  {
   "cell_type": "markdown",
   "metadata": {
    "_cell_guid": "4103dc78-d39c-4816-9a39-35a5dc6ecfb5",
    "_uuid": "56173d59-aa58-4385-97e9-77c325bb633d"
   },
   "source": [
    "#### Запускаем и проверяем что получилось"
   ]
  },
  {
   "cell_type": "code",
   "execution_count": 56,
   "metadata": {
    "_cell_guid": "4c78d56e-52d8-4b70-aa4e-964a15b99761",
    "_uuid": "f7827f48-1c03-41cf-a118-8f3c4d307b3b",
    "collapsed": false,
    "execution": {
     "iopub.execute_input": "2021-09-28T19:13:41.521157Z",
     "iopub.status.busy": "2021-09-28T19:13:41.520823Z",
     "iopub.status.idle": "2021-09-28T19:14:20.987948Z",
     "shell.execute_reply": "2021-09-28T19:14:20.987282Z",
     "shell.execute_reply.started": "2021-09-28T19:13:41.521108Z"
    },
    "jupyter": {
     "outputs_hidden": false
    }
   },
   "outputs": [
    {
     "data": {
      "text/html": [
       "<div>\n",
       "<style scoped>\n",
       "    .dataframe tbody tr th:only-of-type {\n",
       "        vertical-align: middle;\n",
       "    }\n",
       "\n",
       "    .dataframe tbody tr th {\n",
       "        vertical-align: top;\n",
       "    }\n",
       "\n",
       "    .dataframe thead th {\n",
       "        text-align: right;\n",
       "    }\n",
       "</style>\n",
       "<table border=\"1\" class=\"dataframe\">\n",
       "  <thead>\n",
       "    <tr style=\"text-align: right;\">\n",
       "      <th></th>\n",
       "      <th>Ranking</th>\n",
       "      <th>Price Range</th>\n",
       "      <th>Number of Reviews</th>\n",
       "      <th>sample</th>\n",
       "      <th>Rating</th>\n",
       "      <th>Amsterdam</th>\n",
       "      <th>Athens</th>\n",
       "      <th>Barcelona</th>\n",
       "      <th>Berlin</th>\n",
       "      <th>Bratislava</th>\n",
       "      <th>...</th>\n",
       "      <th>Oslo</th>\n",
       "      <th>Paris</th>\n",
       "      <th>Prague</th>\n",
       "      <th>Rome</th>\n",
       "      <th>Stockholm</th>\n",
       "      <th>Vienna</th>\n",
       "      <th>Warsaw</th>\n",
       "      <th>Zurich</th>\n",
       "      <th>n_cuisine</th>\n",
       "      <th>time_delta</th>\n",
       "    </tr>\n",
       "  </thead>\n",
       "  <tbody>\n",
       "    <tr>\n",
       "      <th>23741</th>\n",
       "      <td>7801.0</td>\n",
       "      <td>2</td>\n",
       "      <td>8.0</td>\n",
       "      <td>1</td>\n",
       "      <td>4.5</td>\n",
       "      <td>0</td>\n",
       "      <td>0</td>\n",
       "      <td>0</td>\n",
       "      <td>0</td>\n",
       "      <td>0</td>\n",
       "      <td>...</td>\n",
       "      <td>0</td>\n",
       "      <td>0</td>\n",
       "      <td>0</td>\n",
       "      <td>0</td>\n",
       "      <td>0</td>\n",
       "      <td>0</td>\n",
       "      <td>0</td>\n",
       "      <td>0</td>\n",
       "      <td>19</td>\n",
       "      <td>120</td>\n",
       "    </tr>\n",
       "    <tr>\n",
       "      <th>4310</th>\n",
       "      <td>3684.0</td>\n",
       "      <td>2</td>\n",
       "      <td>2.0</td>\n",
       "      <td>0</td>\n",
       "      <td>0.0</td>\n",
       "      <td>0</td>\n",
       "      <td>0</td>\n",
       "      <td>0</td>\n",
       "      <td>0</td>\n",
       "      <td>0</td>\n",
       "      <td>...</td>\n",
       "      <td>0</td>\n",
       "      <td>0</td>\n",
       "      <td>1</td>\n",
       "      <td>0</td>\n",
       "      <td>0</td>\n",
       "      <td>0</td>\n",
       "      <td>0</td>\n",
       "      <td>0</td>\n",
       "      <td>9</td>\n",
       "      <td>142</td>\n",
       "    </tr>\n",
       "    <tr>\n",
       "      <th>2679</th>\n",
       "      <td>6458.0</td>\n",
       "      <td>2</td>\n",
       "      <td>2.0</td>\n",
       "      <td>0</td>\n",
       "      <td>0.0</td>\n",
       "      <td>0</td>\n",
       "      <td>0</td>\n",
       "      <td>1</td>\n",
       "      <td>0</td>\n",
       "      <td>0</td>\n",
       "      <td>...</td>\n",
       "      <td>0</td>\n",
       "      <td>0</td>\n",
       "      <td>0</td>\n",
       "      <td>0</td>\n",
       "      <td>0</td>\n",
       "      <td>0</td>\n",
       "      <td>0</td>\n",
       "      <td>0</td>\n",
       "      <td>9</td>\n",
       "      <td>17</td>\n",
       "    </tr>\n",
       "    <tr>\n",
       "      <th>912</th>\n",
       "      <td>1014.0</td>\n",
       "      <td>2</td>\n",
       "      <td>1044.0</td>\n",
       "      <td>0</td>\n",
       "      <td>0.0</td>\n",
       "      <td>0</td>\n",
       "      <td>0</td>\n",
       "      <td>1</td>\n",
       "      <td>0</td>\n",
       "      <td>0</td>\n",
       "      <td>...</td>\n",
       "      <td>0</td>\n",
       "      <td>0</td>\n",
       "      <td>0</td>\n",
       "      <td>0</td>\n",
       "      <td>0</td>\n",
       "      <td>0</td>\n",
       "      <td>0</td>\n",
       "      <td>0</td>\n",
       "      <td>79</td>\n",
       "      <td>29</td>\n",
       "    </tr>\n",
       "    <tr>\n",
       "      <th>26344</th>\n",
       "      <td>2708.0</td>\n",
       "      <td>2</td>\n",
       "      <td>88.0</td>\n",
       "      <td>1</td>\n",
       "      <td>4.0</td>\n",
       "      <td>0</td>\n",
       "      <td>0</td>\n",
       "      <td>0</td>\n",
       "      <td>0</td>\n",
       "      <td>0</td>\n",
       "      <td>...</td>\n",
       "      <td>0</td>\n",
       "      <td>1</td>\n",
       "      <td>0</td>\n",
       "      <td>0</td>\n",
       "      <td>0</td>\n",
       "      <td>0</td>\n",
       "      <td>0</td>\n",
       "      <td>0</td>\n",
       "      <td>52</td>\n",
       "      <td>29</td>\n",
       "    </tr>\n",
       "    <tr>\n",
       "      <th>46633</th>\n",
       "      <td>558.0</td>\n",
       "      <td>3</td>\n",
       "      <td>1019.0</td>\n",
       "      <td>1</td>\n",
       "      <td>4.0</td>\n",
       "      <td>0</td>\n",
       "      <td>0</td>\n",
       "      <td>0</td>\n",
       "      <td>0</td>\n",
       "      <td>0</td>\n",
       "      <td>...</td>\n",
       "      <td>0</td>\n",
       "      <td>0</td>\n",
       "      <td>0</td>\n",
       "      <td>0</td>\n",
       "      <td>0</td>\n",
       "      <td>0</td>\n",
       "      <td>0</td>\n",
       "      <td>0</td>\n",
       "      <td>131</td>\n",
       "      <td>24</td>\n",
       "    </tr>\n",
       "    <tr>\n",
       "      <th>20562</th>\n",
       "      <td>11054.0</td>\n",
       "      <td>2</td>\n",
       "      <td>55.0</td>\n",
       "      <td>1</td>\n",
       "      <td>3.5</td>\n",
       "      <td>0</td>\n",
       "      <td>0</td>\n",
       "      <td>0</td>\n",
       "      <td>0</td>\n",
       "      <td>0</td>\n",
       "      <td>...</td>\n",
       "      <td>0</td>\n",
       "      <td>1</td>\n",
       "      <td>0</td>\n",
       "      <td>0</td>\n",
       "      <td>0</td>\n",
       "      <td>0</td>\n",
       "      <td>0</td>\n",
       "      <td>0</td>\n",
       "      <td>12</td>\n",
       "      <td>205</td>\n",
       "    </tr>\n",
       "    <tr>\n",
       "      <th>21045</th>\n",
       "      <td>81.0</td>\n",
       "      <td>2</td>\n",
       "      <td>307.0</td>\n",
       "      <td>1</td>\n",
       "      <td>4.0</td>\n",
       "      <td>0</td>\n",
       "      <td>0</td>\n",
       "      <td>0</td>\n",
       "      <td>0</td>\n",
       "      <td>0</td>\n",
       "      <td>...</td>\n",
       "      <td>0</td>\n",
       "      <td>0</td>\n",
       "      <td>0</td>\n",
       "      <td>0</td>\n",
       "      <td>0</td>\n",
       "      <td>0</td>\n",
       "      <td>0</td>\n",
       "      <td>0</td>\n",
       "      <td>94</td>\n",
       "      <td>114</td>\n",
       "    </tr>\n",
       "    <tr>\n",
       "      <th>33529</th>\n",
       "      <td>5805.0</td>\n",
       "      <td>3</td>\n",
       "      <td>28.0</td>\n",
       "      <td>1</td>\n",
       "      <td>4.5</td>\n",
       "      <td>0</td>\n",
       "      <td>0</td>\n",
       "      <td>0</td>\n",
       "      <td>0</td>\n",
       "      <td>0</td>\n",
       "      <td>...</td>\n",
       "      <td>0</td>\n",
       "      <td>0</td>\n",
       "      <td>0</td>\n",
       "      <td>0</td>\n",
       "      <td>0</td>\n",
       "      <td>0</td>\n",
       "      <td>0</td>\n",
       "      <td>0</td>\n",
       "      <td>104</td>\n",
       "      <td>59</td>\n",
       "    </tr>\n",
       "    <tr>\n",
       "      <th>26226</th>\n",
       "      <td>11925.0</td>\n",
       "      <td>2</td>\n",
       "      <td>3.0</td>\n",
       "      <td>1</td>\n",
       "      <td>4.5</td>\n",
       "      <td>0</td>\n",
       "      <td>0</td>\n",
       "      <td>0</td>\n",
       "      <td>0</td>\n",
       "      <td>0</td>\n",
       "      <td>...</td>\n",
       "      <td>0</td>\n",
       "      <td>0</td>\n",
       "      <td>0</td>\n",
       "      <td>0</td>\n",
       "      <td>0</td>\n",
       "      <td>0</td>\n",
       "      <td>0</td>\n",
       "      <td>0</td>\n",
       "      <td>13</td>\n",
       "      <td>149</td>\n",
       "    </tr>\n",
       "  </tbody>\n",
       "</table>\n",
       "<p>10 rows × 38 columns</p>\n",
       "</div>"
      ],
      "text/plain": [
       "       Ranking  Price Range  Number of Reviews  sample  Rating  Amsterdam  \\\n",
       "23741   7801.0            2                8.0       1     4.5          0   \n",
       "4310    3684.0            2                2.0       0     0.0          0   \n",
       "2679    6458.0            2                2.0       0     0.0          0   \n",
       "912     1014.0            2             1044.0       0     0.0          0   \n",
       "26344   2708.0            2               88.0       1     4.0          0   \n",
       "46633    558.0            3             1019.0       1     4.0          0   \n",
       "20562  11054.0            2               55.0       1     3.5          0   \n",
       "21045     81.0            2              307.0       1     4.0          0   \n",
       "33529   5805.0            3               28.0       1     4.5          0   \n",
       "26226  11925.0            2                3.0       1     4.5          0   \n",
       "\n",
       "       Athens  Barcelona  Berlin  Bratislava  ...  Oslo  Paris  Prague  Rome  \\\n",
       "23741       0          0       0           0  ...     0      0       0     0   \n",
       "4310        0          0       0           0  ...     0      0       1     0   \n",
       "2679        0          1       0           0  ...     0      0       0     0   \n",
       "912         0          1       0           0  ...     0      0       0     0   \n",
       "26344       0          0       0           0  ...     0      1       0     0   \n",
       "46633       0          0       0           0  ...     0      0       0     0   \n",
       "20562       0          0       0           0  ...     0      1       0     0   \n",
       "21045       0          0       0           0  ...     0      0       0     0   \n",
       "33529       0          0       0           0  ...     0      0       0     0   \n",
       "26226       0          0       0           0  ...     0      0       0     0   \n",
       "\n",
       "       Stockholm  Vienna  Warsaw  Zurich  n_cuisine  time_delta  \n",
       "23741          0       0       0       0         19         120  \n",
       "4310           0       0       0       0          9         142  \n",
       "2679           0       0       0       0          9          17  \n",
       "912            0       0       0       0         79          29  \n",
       "26344          0       0       0       0         52          29  \n",
       "46633          0       0       0       0        131          24  \n",
       "20562          0       0       0       0         12         205  \n",
       "21045          0       0       0       0         94         114  \n",
       "33529          0       0       0       0        104          59  \n",
       "26226          0       0       0       0         13         149  \n",
       "\n",
       "[10 rows x 38 columns]"
      ]
     },
     "execution_count": 56,
     "metadata": {},
     "output_type": "execute_result"
    }
   ],
   "source": [
    "df_preproc = preproc_data(data)\n",
    "df_preproc.sample(10)"
   ]
  },
  {
   "cell_type": "code",
   "execution_count": 57,
   "metadata": {
    "_cell_guid": "1a2fb8c4-524e-42f4-ae60-ccc5c003200f",
    "_uuid": "b51717b5-959e-4bea-8358-54a905e2c7d6",
    "collapsed": false,
    "execution": {
     "iopub.execute_input": "2021-09-28T19:14:20.989530Z",
     "iopub.status.busy": "2021-09-28T19:14:20.989127Z",
     "iopub.status.idle": "2021-09-28T19:14:21.006912Z",
     "shell.execute_reply": "2021-09-28T19:14:21.006286Z",
     "shell.execute_reply.started": "2021-09-28T19:14:20.989482Z"
    },
    "jupyter": {
     "outputs_hidden": false
    }
   },
   "outputs": [
    {
     "name": "stdout",
     "output_type": "stream",
     "text": [
      "<class 'pandas.core.frame.DataFrame'>\n",
      "RangeIndex: 50000 entries, 0 to 49999\n",
      "Data columns (total 38 columns):\n",
      "Ranking              50000 non-null float64\n",
      "Price Range          50000 non-null int64\n",
      "Number of Reviews    50000 non-null float64\n",
      "sample               50000 non-null int64\n",
      "Rating               50000 non-null float64\n",
      "Amsterdam            50000 non-null uint8\n",
      "Athens               50000 non-null uint8\n",
      "Barcelona            50000 non-null uint8\n",
      "Berlin               50000 non-null uint8\n",
      "Bratislava           50000 non-null uint8\n",
      "Brussels             50000 non-null uint8\n",
      "Budapest             50000 non-null uint8\n",
      "Copenhagen           50000 non-null uint8\n",
      "Dublin               50000 non-null uint8\n",
      "Edinburgh            50000 non-null uint8\n",
      "Geneva               50000 non-null uint8\n",
      "Hamburg              50000 non-null uint8\n",
      "Helsinki             50000 non-null uint8\n",
      "Krakow               50000 non-null uint8\n",
      "Lisbon               50000 non-null uint8\n",
      "Ljubljana            50000 non-null uint8\n",
      "London               50000 non-null uint8\n",
      "Luxembourg           50000 non-null uint8\n",
      "Lyon                 50000 non-null uint8\n",
      "Madrid               50000 non-null uint8\n",
      "Milan                50000 non-null uint8\n",
      "Munich               50000 non-null uint8\n",
      "Oporto               50000 non-null uint8\n",
      "Oslo                 50000 non-null uint8\n",
      "Paris                50000 non-null uint8\n",
      "Prague               50000 non-null uint8\n",
      "Rome                 50000 non-null uint8\n",
      "Stockholm            50000 non-null uint8\n",
      "Vienna               50000 non-null uint8\n",
      "Warsaw               50000 non-null uint8\n",
      "Zurich               50000 non-null uint8\n",
      "n_cuisine            50000 non-null int64\n",
      "time_delta           50000 non-null int64\n",
      "dtypes: float64(3), int64(4), uint8(31)\n",
      "memory usage: 4.1 MB\n"
     ]
    }
   ],
   "source": [
    "df_preproc.info()"
   ]
  },
  {
   "cell_type": "code",
   "execution_count": 58,
   "metadata": {
    "_cell_guid": "ae664b2d-f551-4421-a5d8-058f56d921cd",
    "_uuid": "82f3f396-03c4-4503-bb17-e06b61a8d0cc",
    "collapsed": false,
    "execution": {
     "iopub.execute_input": "2021-09-28T19:14:21.008472Z",
     "iopub.status.busy": "2021-09-28T19:14:21.007987Z",
     "iopub.status.idle": "2021-09-28T19:14:21.037677Z",
     "shell.execute_reply": "2021-09-28T19:14:21.036847Z",
     "shell.execute_reply.started": "2021-09-28T19:14:21.008421Z"
    },
    "jupyter": {
     "outputs_hidden": false
    }
   },
   "outputs": [],
   "source": [
    "# Теперь выделим тестовую часть\n",
    "train_data = df_preproc.query('sample == 1').drop(['sample'], axis=1)\n",
    "test_data = df_preproc.query('sample == 0').drop(['sample'], axis=1)\n",
    "\n",
    "y = train_data.Rating.values            # наш таргет\n",
    "X = train_data.drop(['Rating'], axis=1)"
   ]
  },
  {
   "cell_type": "markdown",
   "metadata": {
    "_cell_guid": "57fed4d3-f2f2-413f-907d-cf8910497df0",
    "_uuid": "2ab0e15b-ffb2-4039-9540-d244f75afd10"
   },
   "source": [
    "**Перед тем как отправлять наши данные на обучение, разделим данные на еще один тест и трейн, для валидации. \n",
    "Это поможет нам проверить, как хорошо наша модель работает, до отправки submissiona на kaggle.**"
   ]
  },
  {
   "cell_type": "code",
   "execution_count": 59,
   "metadata": {
    "_cell_guid": "2599622b-2634-40cc-aa3e-193cca0066f2",
    "_uuid": "1f7eddcc-f481-48d6-bc20-bf3b7d4daa33",
    "collapsed": false,
    "execution": {
     "iopub.execute_input": "2021-09-28T19:14:21.039301Z",
     "iopub.status.busy": "2021-09-28T19:14:21.038776Z",
     "iopub.status.idle": "2021-09-28T19:14:21.052609Z",
     "shell.execute_reply": "2021-09-28T19:14:21.051771Z",
     "shell.execute_reply.started": "2021-09-28T19:14:21.039248Z"
    },
    "jupyter": {
     "outputs_hidden": false
    }
   },
   "outputs": [],
   "source": [
    "# Воспользуемся специальной функцие train_test_split для разбивки тестовых данных\n",
    "# выделим 20% данных на валидацию (параметр test_size)\n",
    "X_train, X_test, y_train, y_test = train_test_split(X, y, test_size=0.2, random_state=RANDOM_SEED)"
   ]
  },
  {
   "cell_type": "code",
   "execution_count": 60,
   "metadata": {
    "_cell_guid": "94ce1e22-28db-43c1-80dd-0803780f6ca5",
    "_uuid": "d4fcf209-e536-47b3-a139-8bbb650e018e",
    "collapsed": false,
    "execution": {
     "iopub.execute_input": "2021-09-28T19:14:21.054293Z",
     "iopub.status.busy": "2021-09-28T19:14:21.053766Z",
     "iopub.status.idle": "2021-09-28T19:14:21.065270Z",
     "shell.execute_reply": "2021-09-28T19:14:21.064162Z",
     "shell.execute_reply.started": "2021-09-28T19:14:21.054246Z"
    },
    "jupyter": {
     "outputs_hidden": false
    }
   },
   "outputs": [
    {
     "data": {
      "text/plain": [
       "((10000, 37), (40000, 37), (40000, 36), (32000, 36), (8000, 36))"
      ]
     },
     "execution_count": 60,
     "metadata": {},
     "output_type": "execute_result"
    }
   ],
   "source": [
    "# проверяем\n",
    "test_data.shape, train_data.shape, X.shape, X_train.shape, X_test.shape"
   ]
  },
  {
   "cell_type": "markdown",
   "metadata": {
    "_cell_guid": "dcc653cf-711d-4d22-88e5-f12a18d4e451",
    "_uuid": "ea7c207e-9fbb-447f-a63e-b9f06795de77"
   },
   "source": [
    "# Model \n",
    "Сам ML"
   ]
  },
  {
   "cell_type": "code",
   "execution_count": 61,
   "metadata": {
    "_cell_guid": "3f8cbdcc-3a24-40d5-9173-cf2ed2dbc992",
    "_uuid": "9ed8b2ff-a2d9-4901-aeaa-93f44a3dfd4d",
    "collapsed": false,
    "execution": {
     "iopub.execute_input": "2021-09-28T19:14:21.066799Z",
     "iopub.status.busy": "2021-09-28T19:14:21.066436Z",
     "iopub.status.idle": "2021-09-28T19:14:21.129541Z",
     "shell.execute_reply": "2021-09-28T19:14:21.128694Z",
     "shell.execute_reply.started": "2021-09-28T19:14:21.066761Z"
    },
    "jupyter": {
     "outputs_hidden": false
    }
   },
   "outputs": [],
   "source": [
    "# Импортируем необходимые библиотеки:\n",
    "from sklearn.ensemble import RandomForestRegressor # инструмент для создания и обучения модели\n",
    "from sklearn import metrics # инструменты для оценки точности модели"
   ]
  },
  {
   "cell_type": "code",
   "execution_count": 62,
   "metadata": {
    "_cell_guid": "554e77f2-402e-4577-8ee2-94c7d6ec6a47",
    "_uuid": "2f9fa56c-abb0-4c5a-aced-0bc7a92ef250",
    "collapsed": false,
    "execution": {
     "iopub.execute_input": "2021-09-28T19:14:21.131185Z",
     "iopub.status.busy": "2021-09-28T19:14:21.130817Z",
     "iopub.status.idle": "2021-09-28T19:14:21.135498Z",
     "shell.execute_reply": "2021-09-28T19:14:21.134587Z",
     "shell.execute_reply.started": "2021-09-28T19:14:21.131145Z"
    },
    "jupyter": {
     "outputs_hidden": false
    }
   },
   "outputs": [],
   "source": [
    "# Создаём модель (НАСТРОЙКИ НЕ ТРОГАЕМ)\n",
    "model = RandomForestRegressor(n_estimators=100, verbose=1, n_jobs=-1, random_state=RANDOM_SEED)"
   ]
  },
  {
   "cell_type": "code",
   "execution_count": 63,
   "metadata": {
    "_cell_guid": "2e9c98d4-1ea1-4190-b36b-d76c6c2810ba",
    "_uuid": "4a7e75f6-429f-45c9-b895-c0ee5c6d8462",
    "collapsed": false,
    "execution": {
     "iopub.execute_input": "2021-09-28T19:14:21.137436Z",
     "iopub.status.busy": "2021-09-28T19:14:21.137128Z",
     "iopub.status.idle": "2021-09-28T19:14:27.377048Z",
     "shell.execute_reply": "2021-09-28T19:14:27.375895Z",
     "shell.execute_reply.started": "2021-09-28T19:14:21.137358Z"
    },
    "jupyter": {
     "outputs_hidden": false
    }
   },
   "outputs": [
    {
     "name": "stderr",
     "output_type": "stream",
     "text": [
      "[Parallel(n_jobs=-1)]: Using backend ThreadingBackend with 4 concurrent workers.\n",
      "[Parallel(n_jobs=-1)]: Done  42 tasks      | elapsed:    2.6s\n",
      "[Parallel(n_jobs=-1)]: Done 100 out of 100 | elapsed:    6.0s finished\n",
      "[Parallel(n_jobs=4)]: Using backend ThreadingBackend with 4 concurrent workers.\n",
      "[Parallel(n_jobs=4)]: Done  42 tasks      | elapsed:    0.0s\n",
      "[Parallel(n_jobs=4)]: Done 100 out of 100 | elapsed:    0.1s finished\n"
     ]
    }
   ],
   "source": [
    "# Обучаем модель на тестовом наборе данных\n",
    "model.fit(X_train, y_train)\n",
    "\n",
    "# Используем обученную модель для предсказания рейтинга ресторанов в тестовой выборке.\n",
    "# Предсказанные значения записываем в переменную y_pred\n",
    "y_pred = model.predict(X_test)"
   ]
  },
  {
   "cell_type": "code",
   "execution_count": 64,
   "metadata": {
    "_cell_guid": "aa8c387e-0a1a-45b5-ba59-6fe7c0171d22",
    "_uuid": "4eb8b942-1025-47c1-91c6-bd749465196c",
    "collapsed": false,
    "execution": {
     "iopub.execute_input": "2021-09-28T19:14:27.379263Z",
     "iopub.status.busy": "2021-09-28T19:14:27.378846Z",
     "iopub.status.idle": "2021-09-28T19:14:27.386126Z",
     "shell.execute_reply": "2021-09-28T19:14:27.384976Z",
     "shell.execute_reply.started": "2021-09-28T19:14:27.379155Z"
    },
    "jupyter": {
     "outputs_hidden": false
    }
   },
   "outputs": [
    {
     "name": "stdout",
     "output_type": "stream",
     "text": [
      "MAE: 0.209785\n"
     ]
    }
   ],
   "source": [
    "# Сравниваем предсказанные значения (y_pred) с реальными (y_test), и смотрим насколько они в среднем отличаются\n",
    "# Метрика называется Mean Absolute Error (MAE) и показывает среднее отклонение предсказанных значений от фактических.\n",
    "print('MAE:', metrics.mean_absolute_error(y_test, y_pred))"
   ]
  },
  {
   "cell_type": "code",
   "execution_count": 65,
   "metadata": {
    "_cell_guid": "7fdb2092-39a6-4ec1-93cc-a1a3c183e15a",
    "_uuid": "7c957536-02dd-449b-af18-917013c0f024",
    "collapsed": false,
    "execution": {
     "iopub.execute_input": "2021-09-28T19:14:27.388584Z",
     "iopub.status.busy": "2021-09-28T19:14:27.388028Z",
     "iopub.status.idle": "2021-09-28T19:14:27.842426Z",
     "shell.execute_reply": "2021-09-28T19:14:27.841392Z",
     "shell.execute_reply.started": "2021-09-28T19:14:27.388517Z"
    },
    "jupyter": {
     "outputs_hidden": false
    }
   },
   "outputs": [
    {
     "data": {
      "text/plain": [
       "<matplotlib.axes._subplots.AxesSubplot at 0x7f307c5ab0f0>"
      ]
     },
     "execution_count": 65,
     "metadata": {},
     "output_type": "execute_result"
    },
    {
     "data": {
      "image/png": "[encoded data removed]",
      "text/plain": [
       "<Figure size 720x720 with 1 Axes>"
      ]
     },
     "metadata": {
      "needs_background": "light"
     },
     "output_type": "display_data"
    }
   ],
   "source": [
    "# в RandomForestRegressor есть возможность вывести самые важные признаки для модели\n",
    "plt.rcParams['figure.figsize'] = (10,10)\n",
    "feat_importances = pd.Series(model.feature_importances_, index=X.columns)\n",
    "feat_importances.nlargest(15).plot(kind='barh')"
   ]
  },
  {
   "cell_type": "markdown",
   "metadata": {
    "_cell_guid": "87f50e50-454e-4c05-b3bf-2d2cb804c8df",
    "_uuid": "19ab327e-009b-48ca-ac1a-f88b6c57b116"
   },
   "source": [
    "# Submission\n",
    "Если все устраевает - готовим Submission на кагл"
   ]
  },
  {
   "cell_type": "code",
   "execution_count": 66,
   "metadata": {
    "_cell_guid": "afc70834-8546-48ff-bcd5-880ddfbee2e7",
    "_uuid": "58b71cdd-a5f0-4f7a-bdc1-5ebade10165b",
    "collapsed": false,
    "execution": {
     "iopub.execute_input": "2021-09-28T19:14:27.844815Z",
     "iopub.status.busy": "2021-09-28T19:14:27.844162Z",
     "iopub.status.idle": "2021-09-28T19:14:27.881282Z",
     "shell.execute_reply": "2021-09-28T19:14:27.880631Z",
     "shell.execute_reply.started": "2021-09-28T19:14:27.844748Z"
    },
    "jupyter": {
     "outputs_hidden": false
    }
   },
   "outputs": [
    {
     "data": {
      "text/html": [
       "<div>\n",
       "<style scoped>\n",
       "    .dataframe tbody tr th:only-of-type {\n",
       "        vertical-align: middle;\n",
       "    }\n",
       "\n",
       "    .dataframe tbody tr th {\n",
       "        vertical-align: top;\n",
       "    }\n",
       "\n",
       "    .dataframe thead th {\n",
       "        text-align: right;\n",
       "    }\n",
       "</style>\n",
       "<table border=\"1\" class=\"dataframe\">\n",
       "  <thead>\n",
       "    <tr style=\"text-align: right;\">\n",
       "      <th></th>\n",
       "      <th>Ranking</th>\n",
       "      <th>Price Range</th>\n",
       "      <th>Number of Reviews</th>\n",
       "      <th>Rating</th>\n",
       "      <th>Amsterdam</th>\n",
       "      <th>Athens</th>\n",
       "      <th>Barcelona</th>\n",
       "      <th>Berlin</th>\n",
       "      <th>Bratislava</th>\n",
       "      <th>Brussels</th>\n",
       "      <th>...</th>\n",
       "      <th>Oslo</th>\n",
       "      <th>Paris</th>\n",
       "      <th>Prague</th>\n",
       "      <th>Rome</th>\n",
       "      <th>Stockholm</th>\n",
       "      <th>Vienna</th>\n",
       "      <th>Warsaw</th>\n",
       "      <th>Zurich</th>\n",
       "      <th>n_cuisine</th>\n",
       "      <th>time_delta</th>\n",
       "    </tr>\n",
       "  </thead>\n",
       "  <tbody>\n",
       "    <tr>\n",
       "      <th>7344</th>\n",
       "      <td>53.0</td>\n",
       "      <td>2</td>\n",
       "      <td>878.0</td>\n",
       "      <td>0.0</td>\n",
       "      <td>0</td>\n",
       "      <td>0</td>\n",
       "      <td>0</td>\n",
       "      <td>0</td>\n",
       "      <td>0</td>\n",
       "      <td>0</td>\n",
       "      <td>...</td>\n",
       "      <td>0</td>\n",
       "      <td>0</td>\n",
       "      <td>0</td>\n",
       "      <td>0</td>\n",
       "      <td>0</td>\n",
       "      <td>0</td>\n",
       "      <td>0</td>\n",
       "      <td>0</td>\n",
       "      <td>100</td>\n",
       "      <td>17</td>\n",
       "    </tr>\n",
       "    <tr>\n",
       "      <th>5435</th>\n",
       "      <td>3114.0</td>\n",
       "      <td>2</td>\n",
       "      <td>2.0</td>\n",
       "      <td>0.0</td>\n",
       "      <td>0</td>\n",
       "      <td>0</td>\n",
       "      <td>0</td>\n",
       "      <td>0</td>\n",
       "      <td>0</td>\n",
       "      <td>0</td>\n",
       "      <td>...</td>\n",
       "      <td>0</td>\n",
       "      <td>0</td>\n",
       "      <td>0</td>\n",
       "      <td>0</td>\n",
       "      <td>0</td>\n",
       "      <td>1</td>\n",
       "      <td>0</td>\n",
       "      <td>0</td>\n",
       "      <td>29</td>\n",
       "      <td>142</td>\n",
       "    </tr>\n",
       "    <tr>\n",
       "      <th>9470</th>\n",
       "      <td>1086.0</td>\n",
       "      <td>1</td>\n",
       "      <td>110.0</td>\n",
       "      <td>0.0</td>\n",
       "      <td>1</td>\n",
       "      <td>0</td>\n",
       "      <td>0</td>\n",
       "      <td>0</td>\n",
       "      <td>0</td>\n",
       "      <td>0</td>\n",
       "      <td>...</td>\n",
       "      <td>0</td>\n",
       "      <td>0</td>\n",
       "      <td>0</td>\n",
       "      <td>0</td>\n",
       "      <td>0</td>\n",
       "      <td>0</td>\n",
       "      <td>0</td>\n",
       "      <td>0</td>\n",
       "      <td>98</td>\n",
       "      <td>72</td>\n",
       "    </tr>\n",
       "    <tr>\n",
       "      <th>1849</th>\n",
       "      <td>5160.0</td>\n",
       "      <td>1</td>\n",
       "      <td>23.0</td>\n",
       "      <td>0.0</td>\n",
       "      <td>0</td>\n",
       "      <td>0</td>\n",
       "      <td>1</td>\n",
       "      <td>0</td>\n",
       "      <td>0</td>\n",
       "      <td>0</td>\n",
       "      <td>...</td>\n",
       "      <td>0</td>\n",
       "      <td>0</td>\n",
       "      <td>0</td>\n",
       "      <td>0</td>\n",
       "      <td>0</td>\n",
       "      <td>0</td>\n",
       "      <td>0</td>\n",
       "      <td>0</td>\n",
       "      <td>42</td>\n",
       "      <td>48</td>\n",
       "    </tr>\n",
       "    <tr>\n",
       "      <th>7990</th>\n",
       "      <td>60.0</td>\n",
       "      <td>2</td>\n",
       "      <td>344.0</td>\n",
       "      <td>0.0</td>\n",
       "      <td>0</td>\n",
       "      <td>0</td>\n",
       "      <td>0</td>\n",
       "      <td>0</td>\n",
       "      <td>0</td>\n",
       "      <td>0</td>\n",
       "      <td>...</td>\n",
       "      <td>0</td>\n",
       "      <td>0</td>\n",
       "      <td>1</td>\n",
       "      <td>0</td>\n",
       "      <td>0</td>\n",
       "      <td>0</td>\n",
       "      <td>0</td>\n",
       "      <td>0</td>\n",
       "      <td>155</td>\n",
       "      <td>2</td>\n",
       "    </tr>\n",
       "    <tr>\n",
       "      <th>3350</th>\n",
       "      <td>2522.0</td>\n",
       "      <td>2</td>\n",
       "      <td>85.0</td>\n",
       "      <td>0.0</td>\n",
       "      <td>0</td>\n",
       "      <td>0</td>\n",
       "      <td>0</td>\n",
       "      <td>0</td>\n",
       "      <td>0</td>\n",
       "      <td>1</td>\n",
       "      <td>...</td>\n",
       "      <td>0</td>\n",
       "      <td>0</td>\n",
       "      <td>0</td>\n",
       "      <td>0</td>\n",
       "      <td>0</td>\n",
       "      <td>0</td>\n",
       "      <td>0</td>\n",
       "      <td>0</td>\n",
       "      <td>58</td>\n",
       "      <td>49</td>\n",
       "    </tr>\n",
       "    <tr>\n",
       "      <th>8229</th>\n",
       "      <td>6797.0</td>\n",
       "      <td>1</td>\n",
       "      <td>16.0</td>\n",
       "      <td>0.0</td>\n",
       "      <td>0</td>\n",
       "      <td>0</td>\n",
       "      <td>0</td>\n",
       "      <td>0</td>\n",
       "      <td>0</td>\n",
       "      <td>0</td>\n",
       "      <td>...</td>\n",
       "      <td>0</td>\n",
       "      <td>0</td>\n",
       "      <td>0</td>\n",
       "      <td>0</td>\n",
       "      <td>0</td>\n",
       "      <td>0</td>\n",
       "      <td>0</td>\n",
       "      <td>0</td>\n",
       "      <td>52</td>\n",
       "      <td>100</td>\n",
       "    </tr>\n",
       "    <tr>\n",
       "      <th>2052</th>\n",
       "      <td>5323.0</td>\n",
       "      <td>2</td>\n",
       "      <td>471.0</td>\n",
       "      <td>0.0</td>\n",
       "      <td>0</td>\n",
       "      <td>0</td>\n",
       "      <td>0</td>\n",
       "      <td>0</td>\n",
       "      <td>0</td>\n",
       "      <td>0</td>\n",
       "      <td>...</td>\n",
       "      <td>0</td>\n",
       "      <td>0</td>\n",
       "      <td>0</td>\n",
       "      <td>0</td>\n",
       "      <td>0</td>\n",
       "      <td>0</td>\n",
       "      <td>0</td>\n",
       "      <td>0</td>\n",
       "      <td>123</td>\n",
       "      <td>9</td>\n",
       "    </tr>\n",
       "    <tr>\n",
       "      <th>5088</th>\n",
       "      <td>251.0</td>\n",
       "      <td>2</td>\n",
       "      <td>645.0</td>\n",
       "      <td>0.0</td>\n",
       "      <td>0</td>\n",
       "      <td>0</td>\n",
       "      <td>1</td>\n",
       "      <td>0</td>\n",
       "      <td>0</td>\n",
       "      <td>0</td>\n",
       "      <td>...</td>\n",
       "      <td>0</td>\n",
       "      <td>0</td>\n",
       "      <td>0</td>\n",
       "      <td>0</td>\n",
       "      <td>0</td>\n",
       "      <td>0</td>\n",
       "      <td>0</td>\n",
       "      <td>0</td>\n",
       "      <td>105</td>\n",
       "      <td>10</td>\n",
       "    </tr>\n",
       "    <tr>\n",
       "      <th>9192</th>\n",
       "      <td>449.0</td>\n",
       "      <td>2</td>\n",
       "      <td>47.0</td>\n",
       "      <td>0.0</td>\n",
       "      <td>0</td>\n",
       "      <td>0</td>\n",
       "      <td>0</td>\n",
       "      <td>0</td>\n",
       "      <td>0</td>\n",
       "      <td>0</td>\n",
       "      <td>...</td>\n",
       "      <td>0</td>\n",
       "      <td>0</td>\n",
       "      <td>0</td>\n",
       "      <td>0</td>\n",
       "      <td>0</td>\n",
       "      <td>0</td>\n",
       "      <td>0</td>\n",
       "      <td>0</td>\n",
       "      <td>29</td>\n",
       "      <td>260</td>\n",
       "    </tr>\n",
       "  </tbody>\n",
       "</table>\n",
       "<p>10 rows × 37 columns</p>\n",
       "</div>"
      ],
      "text/plain": [
       "      Ranking  Price Range  Number of Reviews  Rating  Amsterdam  Athens  \\\n",
       "7344     53.0            2              878.0     0.0          0       0   \n",
       "5435   3114.0            2                2.0     0.0          0       0   \n",
       "9470   1086.0            1              110.0     0.0          1       0   \n",
       "1849   5160.0            1               23.0     0.0          0       0   \n",
       "7990     60.0            2              344.0     0.0          0       0   \n",
       "3350   2522.0            2               85.0     0.0          0       0   \n",
       "8229   6797.0            1               16.0     0.0          0       0   \n",
       "2052   5323.0            2              471.0     0.0          0       0   \n",
       "5088    251.0            2              645.0     0.0          0       0   \n",
       "9192    449.0            2               47.0     0.0          0       0   \n",
       "\n",
       "      Barcelona  Berlin  Bratislava  Brussels  ...  Oslo  Paris  Prague  Rome  \\\n",
       "7344          0       0           0         0  ...     0      0       0     0   \n",
       "5435          0       0           0         0  ...     0      0       0     0   \n",
       "9470          0       0           0         0  ...     0      0       0     0   \n",
       "1849          1       0           0         0  ...     0      0       0     0   \n",
       "7990          0       0           0         0  ...     0      0       1     0   \n",
       "3350          0       0           0         1  ...     0      0       0     0   \n",
       "8229          0       0           0         0  ...     0      0       0     0   \n",
       "2052          0       0           0         0  ...     0      0       0     0   \n",
       "5088          1       0           0         0  ...     0      0       0     0   \n",
       "9192          0       0           0         0  ...     0      0       0     0   \n",
       "\n",
       "      Stockholm  Vienna  Warsaw  Zurich  n_cuisine  time_delta  \n",
       "7344          0       0       0       0        100          17  \n",
       "5435          0       1       0       0         29         142  \n",
       "9470          0       0       0       0         98          72  \n",
       "1849          0       0       0       0         42          48  \n",
       "7990          0       0       0       0        155           2  \n",
       "3350          0       0       0       0         58          49  \n",
       "8229          0       0       0       0         52         100  \n",
       "2052          0       0       0       0        123           9  \n",
       "5088          0       0       0       0        105          10  \n",
       "9192          0       0       0       0         29         260  \n",
       "\n",
       "[10 rows x 37 columns]"
      ]
     },
     "execution_count": 66,
     "metadata": {},
     "output_type": "execute_result"
    }
   ],
   "source": [
    "test_data.sample(10)"
   ]
  },
  {
   "cell_type": "code",
   "execution_count": 67,
   "metadata": {
    "_cell_guid": "6392210d-a4e9-495a-ae1e-793d96f1a5ec",
    "_uuid": "67fb7a93-fe1f-46a6-a826-3eb686b88fdc",
    "collapsed": false,
    "execution": {
     "iopub.execute_input": "2021-09-28T19:14:27.882828Z",
     "iopub.status.busy": "2021-09-28T19:14:27.882420Z",
     "iopub.status.idle": "2021-09-28T19:14:27.887681Z",
     "shell.execute_reply": "2021-09-28T19:14:27.886965Z",
     "shell.execute_reply.started": "2021-09-28T19:14:27.882787Z"
    },
    "jupyter": {
     "outputs_hidden": false
    }
   },
   "outputs": [],
   "source": [
    "test_data = test_data.drop(['Rating'], axis=1)"
   ]
  },
  {
   "cell_type": "code",
   "execution_count": 68,
   "metadata": {
    "_cell_guid": "7ddf70f8-1255-4ade-b397-b08a484e92d1",
    "_uuid": "224df39b-cc62-4d27-aab1-b9638708d726",
    "collapsed": false,
    "execution": {
     "iopub.execute_input": "2021-09-28T19:14:27.890715Z",
     "iopub.status.busy": "2021-09-28T19:14:27.890365Z",
     "iopub.status.idle": "2021-09-28T19:14:27.908995Z",
     "shell.execute_reply": "2021-09-28T19:14:27.907436Z",
     "shell.execute_reply.started": "2021-09-28T19:14:27.890646Z"
    },
    "jupyter": {
     "outputs_hidden": false
    }
   },
   "outputs": [
    {
     "data": {
      "text/html": [
       "<div>\n",
       "<style scoped>\n",
       "    .dataframe tbody tr th:only-of-type {\n",
       "        vertical-align: middle;\n",
       "    }\n",
       "\n",
       "    .dataframe tbody tr th {\n",
       "        vertical-align: top;\n",
       "    }\n",
       "\n",
       "    .dataframe thead th {\n",
       "        text-align: right;\n",
       "    }\n",
       "</style>\n",
       "<table border=\"1\" class=\"dataframe\">\n",
       "  <thead>\n",
       "    <tr style=\"text-align: right;\">\n",
       "      <th></th>\n",
       "      <th>Restaurant_id</th>\n",
       "      <th>Rating</th>\n",
       "    </tr>\n",
       "  </thead>\n",
       "  <tbody>\n",
       "    <tr>\n",
       "      <th>0</th>\n",
       "      <td>id_0</td>\n",
       "      <td>2.0</td>\n",
       "    </tr>\n",
       "    <tr>\n",
       "      <th>1</th>\n",
       "      <td>id_1</td>\n",
       "      <td>2.5</td>\n",
       "    </tr>\n",
       "    <tr>\n",
       "      <th>2</th>\n",
       "      <td>id_2</td>\n",
       "      <td>4.0</td>\n",
       "    </tr>\n",
       "    <tr>\n",
       "      <th>3</th>\n",
       "      <td>id_3</td>\n",
       "      <td>1.0</td>\n",
       "    </tr>\n",
       "    <tr>\n",
       "      <th>4</th>\n",
       "      <td>id_4</td>\n",
       "      <td>4.0</td>\n",
       "    </tr>\n",
       "    <tr>\n",
       "      <th>...</th>\n",
       "      <td>...</td>\n",
       "      <td>...</td>\n",
       "    </tr>\n",
       "    <tr>\n",
       "      <th>9995</th>\n",
       "      <td>id_9995</td>\n",
       "      <td>3.0</td>\n",
       "    </tr>\n",
       "    <tr>\n",
       "      <th>9996</th>\n",
       "      <td>id_9996</td>\n",
       "      <td>1.5</td>\n",
       "    </tr>\n",
       "    <tr>\n",
       "      <th>9997</th>\n",
       "      <td>id_9997</td>\n",
       "      <td>4.5</td>\n",
       "    </tr>\n",
       "    <tr>\n",
       "      <th>9998</th>\n",
       "      <td>id_9998</td>\n",
       "      <td>1.0</td>\n",
       "    </tr>\n",
       "    <tr>\n",
       "      <th>9999</th>\n",
       "      <td>id_9999</td>\n",
       "      <td>2.5</td>\n",
       "    </tr>\n",
       "  </tbody>\n",
       "</table>\n",
       "<p>10000 rows × 2 columns</p>\n",
       "</div>"
      ],
      "text/plain": [
       "     Restaurant_id  Rating\n",
       "0             id_0     2.0\n",
       "1             id_1     2.5\n",
       "2             id_2     4.0\n",
       "3             id_3     1.0\n",
       "4             id_4     4.0\n",
       "...            ...     ...\n",
       "9995       id_9995     3.0\n",
       "9996       id_9996     1.5\n",
       "9997       id_9997     4.5\n",
       "9998       id_9998     1.0\n",
       "9999       id_9999     2.5\n",
       "\n",
       "[10000 rows x 2 columns]"
      ]
     },
     "execution_count": 68,
     "metadata": {},
     "output_type": "execute_result"
    }
   ],
   "source": [
    "sample_submission"
   ]
  },
  {
   "cell_type": "code",
   "execution_count": 69,
   "metadata": {
    "_cell_guid": "4722b5f0-9893-4add-9ba3-a8286694dfc4",
    "_uuid": "2c158450-4caf-4295-b434-ccf5e3f8f4ec",
    "collapsed": false,
    "execution": {
     "iopub.execute_input": "2021-09-28T19:14:27.910920Z",
     "iopub.status.busy": "2021-09-28T19:14:27.910549Z",
     "iopub.status.idle": "2021-09-28T19:14:28.025978Z",
     "shell.execute_reply": "2021-09-28T19:14:28.023595Z",
     "shell.execute_reply.started": "2021-09-28T19:14:27.910880Z"
    },
    "jupyter": {
     "outputs_hidden": false
    }
   },
   "outputs": [
    {
     "name": "stderr",
     "output_type": "stream",
     "text": [
      "[Parallel(n_jobs=4)]: Using backend ThreadingBackend with 4 concurrent workers.\n",
      "[Parallel(n_jobs=4)]: Done  42 tasks      | elapsed:    0.0s\n",
      "[Parallel(n_jobs=4)]: Done 100 out of 100 | elapsed:    0.1s finished\n"
     ]
    }
   ],
   "source": [
    "predict_submission = model.predict(test_data)"
   ]
  },
  {
   "cell_type": "code",
   "execution_count": 70,
   "metadata": {
    "_cell_guid": "3e4ff354-37dd-43c4-8746-50c1e694be9e",
    "_uuid": "cdf1a761-5ee2-4f1c-bee8-61f88718efab",
    "collapsed": false,
    "execution": {
     "iopub.execute_input": "2021-09-28T19:14:28.028263Z",
     "iopub.status.busy": "2021-09-28T19:14:28.027865Z",
     "iopub.status.idle": "2021-09-28T19:14:28.034009Z",
     "shell.execute_reply": "2021-09-28T19:14:28.032997Z",
     "shell.execute_reply.started": "2021-09-28T19:14:28.028181Z"
    },
    "jupyter": {
     "outputs_hidden": false
    }
   },
   "outputs": [],
   "source": [
    "# округляем предсказания модели до 0.5\n",
    "predict_submission = (predict_submission * 2).round() / 2"
   ]
  },
  {
   "cell_type": "code",
   "execution_count": 71,
   "metadata": {
    "execution": {
     "iopub.execute_input": "2021-09-28T19:14:28.035872Z",
     "iopub.status.busy": "2021-09-28T19:14:28.035331Z",
     "iopub.status.idle": "2021-09-28T19:14:28.047789Z",
     "shell.execute_reply": "2021-09-28T19:14:28.046557Z",
     "shell.execute_reply.started": "2021-09-28T19:14:28.035824Z"
    }
   },
   "outputs": [
    {
     "data": {
      "text/plain": [
       "array([3. , 4.5, 4.5, ..., 3. , 4.5, 4. ])"
      ]
     },
     "execution_count": 71,
     "metadata": {},
     "output_type": "execute_result"
    }
   ],
   "source": [
    "predict_submission"
   ]
  },
  {
   "cell_type": "code",
   "execution_count": 72,
   "metadata": {
    "_cell_guid": "8e517629-67ed-41e3-9e3a-2435f21dfc11",
    "_uuid": "0bf4424b-98d7-44e0-be1f-35420c49e35c",
    "collapsed": false,
    "execution": {
     "iopub.execute_input": "2021-09-28T19:14:28.049429Z",
     "iopub.status.busy": "2021-09-28T19:14:28.049056Z",
     "iopub.status.idle": "2021-09-28T19:14:28.312508Z",
     "shell.execute_reply": "2021-09-28T19:14:28.311774Z",
     "shell.execute_reply.started": "2021-09-28T19:14:28.049391Z"
    },
    "jupyter": {
     "outputs_hidden": false
    }
   },
   "outputs": [
    {
     "data": {
      "text/html": [
       "<div>\n",
       "<style scoped>\n",
       "    .dataframe tbody tr th:only-of-type {\n",
       "        vertical-align: middle;\n",
       "    }\n",
       "\n",
       "    .dataframe tbody tr th {\n",
       "        vertical-align: top;\n",
       "    }\n",
       "\n",
       "    .dataframe thead th {\n",
       "        text-align: right;\n",
       "    }\n",
       "</style>\n",
       "<table border=\"1\" class=\"dataframe\">\n",
       "  <thead>\n",
       "    <tr style=\"text-align: right;\">\n",
       "      <th></th>\n",
       "      <th>Restaurant_id</th>\n",
       "      <th>Rating</th>\n",
       "    </tr>\n",
       "  </thead>\n",
       "  <tbody>\n",
       "    <tr>\n",
       "      <th>0</th>\n",
       "      <td>id_0</td>\n",
       "      <td>3.0</td>\n",
       "    </tr>\n",
       "    <tr>\n",
       "      <th>1</th>\n",
       "      <td>id_1</td>\n",
       "      <td>4.5</td>\n",
       "    </tr>\n",
       "    <tr>\n",
       "      <th>2</th>\n",
       "      <td>id_2</td>\n",
       "      <td>4.5</td>\n",
       "    </tr>\n",
       "    <tr>\n",
       "      <th>3</th>\n",
       "      <td>id_3</td>\n",
       "      <td>4.5</td>\n",
       "    </tr>\n",
       "    <tr>\n",
       "      <th>4</th>\n",
       "      <td>id_4</td>\n",
       "      <td>4.5</td>\n",
       "    </tr>\n",
       "    <tr>\n",
       "      <th>5</th>\n",
       "      <td>id_5</td>\n",
       "      <td>4.5</td>\n",
       "    </tr>\n",
       "    <tr>\n",
       "      <th>6</th>\n",
       "      <td>id_6</td>\n",
       "      <td>1.5</td>\n",
       "    </tr>\n",
       "    <tr>\n",
       "      <th>7</th>\n",
       "      <td>id_7</td>\n",
       "      <td>2.5</td>\n",
       "    </tr>\n",
       "    <tr>\n",
       "      <th>8</th>\n",
       "      <td>id_8</td>\n",
       "      <td>4.0</td>\n",
       "    </tr>\n",
       "    <tr>\n",
       "      <th>9</th>\n",
       "      <td>id_9</td>\n",
       "      <td>4.5</td>\n",
       "    </tr>\n",
       "  </tbody>\n",
       "</table>\n",
       "</div>"
      ],
      "text/plain": [
       "  Restaurant_id  Rating\n",
       "0          id_0     3.0\n",
       "1          id_1     4.5\n",
       "2          id_2     4.5\n",
       "3          id_3     4.5\n",
       "4          id_4     4.5\n",
       "5          id_5     4.5\n",
       "6          id_6     1.5\n",
       "7          id_7     2.5\n",
       "8          id_8     4.0\n",
       "9          id_9     4.5"
      ]
     },
     "execution_count": 72,
     "metadata": {},
     "output_type": "execute_result"
    }
   ],
   "source": [
    "sample_submission['Rating'] = predict_submission\n",
    "sample_submission.to_csv('submission.csv', index=False)\n",
    "sample_submission.head(10)"
   ]
  },
  {
   "cell_type": "markdown",
   "metadata": {
    "_cell_guid": "8b9058e1-56a4-4667-bc4e-ad6d573184b0",
    "_uuid": "f5084b79-1d3a-4df1-97a5-ba964cc1ca80"
   },
   "source": [
    "# What's next?\n",
    "Или что делать, чтоб улучшить результат:\n",
    "* Обработать оставшиеся признаки в понятный для машины формат\n",
    "* Посмотреть, что еще можно извлечь из признаков\n",
    "* Сгенерировать новые признаки\n",
    "* Подгрузить дополнительные данные, например: по населению или благосостоянию городов\n",
    "* Подобрать состав признаков\n",
    "\n",
    "В общем, процесс творческий и весьма увлекательный! Удачи в соревновании!"
   ]
  },
  {
   "cell_type": "code",
   "execution_count": null,
   "metadata": {
    "_cell_guid": "4545ca40-dc42-4a3a-b1ff-88485fe77073",
    "_uuid": "c2ef4c0e-2337-40cc-b250-cd554a9df801",
    "collapsed": false,
    "jupyter": {
     "outputs_hidden": false
    }
   },
   "outputs": [],
   "source": []
  }
 ],
 "metadata": {
  "kernelspec": {
   "display_name": "Python 3",
   "language": "python",
   "name": "python3"
  },
  "language_info": {
   "codemirror_mode": {
    "name": "ipython",
    "version": 3
   },
   "file_extension": ".py",
   "mimetype": "text/x-python",
   "name": "python",
   "nbconvert_exporter": "python",
   "pygments_lexer": "ipython3",
   "version": "3.6.6"
  }
 },
 "nbformat": 4,
 "nbformat_minor": 4
}
