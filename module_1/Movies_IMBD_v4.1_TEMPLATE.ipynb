{
 "cells": [
  {
   "cell_type": "code",
   "execution_count": null,
   "metadata": {
    "_cell_guid": "b1076dfc-b9ad-4769-8c92-a6c4dae69d19",
    "_uuid": "8f2839f25d086af736a60e9eeb907d3b93b6e0e5",
    "executionInfo": {
     "elapsed": 766,
     "status": "ok",
     "timestamp": 1625419937778,
     "user": {
      "displayName": "Blackdoc Blackdoc",
      "photoUrl": "",
      "userId": "09524976013659084088"
     },
     "user_tz": -180
    },
    "id": "U2D2gTdJVp90"
   },
   "outputs": [],
   "source": [
    "import numpy as np\n",
    "import pandas as pd\n",
    "import seaborn as sns\n",
    "import matplotlib.pyplot as plt\n",
    "from collections import Counter\n",
    "from itertools import combinations"
   ]
  },
  {
   "cell_type": "code",
   "execution_count": null,
   "metadata": {
    "_cell_guid": "79c7e3d0-c299-4dcb-8224-4455121ee9b0",
    "_uuid": "d629ff2d2480ee46fbb7e2d37f6b5fab8052498a",
    "colab": {
     "base_uri": "https://localhost:8080/",
     "height": 683
    },
    "executionInfo": {
     "elapsed": 2365,
     "status": "ok",
     "timestamp": 1625419940141,
     "user": {
      "displayName": "Blackdoc Blackdoc",
      "photoUrl": "",
      "userId": "09524976013659084088"
     },
     "user_tz": -180
    },
    "id": "oyGfxL3eVp9-",
    "outputId": "53207436-f5d7-4940-86ce-3f59a3e1edde"
   },
   "outputs": [],
   "source": [
    "data = pd.read_csv('https://lms.skillfactory.ru/assets/courseware/v1/1d68c628a08cd5521ae70e976577568b/asset-v1:Skillfactory+DST-WEEKLY-2.0+08JULY2020+type@asset+block/movie_bd_v5.csv')\n",
    "data.sample(5)"
   ]
  },
  {
   "cell_type": "code",
   "execution_count": null,
   "metadata": {
    "colab": {
     "base_uri": "https://localhost:8080/",
     "height": 297
    },
    "executionInfo": {
     "elapsed": 13,
     "status": "ok",
     "timestamp": 1625419940142,
     "user": {
      "displayName": "Blackdoc Blackdoc",
      "photoUrl": "",
      "userId": "09524976013659084088"
     },
     "user_tz": -180
    },
    "id": "CoYUnagMVp-C",
    "outputId": "b038d482-a3ac-4c8a-e89f-f69262ec6574"
   },
   "outputs": [],
   "source": [
    "data.describe()"
   ]
  },
  {
   "cell_type": "markdown",
   "metadata": {
    "id": "DTIt7ezGVp-G"
   },
   "source": [
    "# Предобработка"
   ]
  },
  {
   "cell_type": "code",
   "execution_count": null,
   "metadata": {
    "executionInfo": {
     "elapsed": 11,
     "status": "ok",
     "timestamp": 1625419940142,
     "user": {
      "displayName": "Blackdoc Blackdoc",
      "photoUrl": "",
      "userId": "09524976013659084088"
     },
     "user_tz": -180
    },
    "id": "jNb40DwKVp-H"
   },
   "outputs": [],
   "source": [
    "answers = {} # создадим словарь для ответов\n",
    "\n",
    "# тут другие ваши предобработки колонок например:\n",
    "\n",
    "#the time given in the dataset is in string format.\n",
    "#So we need to change this in datetime format\n",
    "# ..."
   ]
  },
  {
   "cell_type": "code",
   "execution_count": null,
   "metadata": {
    "executionInfo": {
     "elapsed": 12,
     "status": "ok",
     "timestamp": 1625419940143,
     "user": {
      "displayName": "Blackdoc Blackdoc",
      "photoUrl": "",
      "userId": "09524976013659084088"
     },
     "user_tz": -180
    },
    "id": "iyp1MPNeByXv"
   },
   "outputs": [],
   "source": [
    "data['profit'] = data.revenue - data.budget\n",
    "\n",
    "data_time = data.copy()\n",
    "# Изменяем формат времени и заменяем значения в ячейке release_date на номер месяца.\n",
    "data_time.release_date = pd.to_datetime(data_time.release_date).dt.month"
   ]
  },
  {
   "cell_type": "markdown",
   "metadata": {
    "id": "YxZaH-nPVp-L"
   },
   "source": [
    "# 1. У какого фильма из списка самый большой бюджет?"
   ]
  },
  {
   "cell_type": "markdown",
   "metadata": {
    "id": "Nd-G5gX6Vp-M"
   },
   "source": [
    "Использовать варианты ответов в коде решения запрещено.    \n",
    "Вы думаете и в жизни у вас будут варианты ответов?)"
   ]
  },
  {
   "cell_type": "code",
   "execution_count": null,
   "metadata": {
    "executionInfo": {
     "elapsed": 11,
     "status": "ok",
     "timestamp": 1625419940143,
     "user": {
      "displayName": "Blackdoc Blackdoc",
      "photoUrl": "",
      "userId": "09524976013659084088"
     },
     "user_tz": -180
    },
    "id": "uVnXAY5RVp-O"
   },
   "outputs": [],
   "source": [
    "# в словарь вставляем номер вопроса и ваш ответ на него\n",
    "# Пример: \n",
    "# answers['1'] = '2. Spider-Man 3 (tt0413300)'\n",
    "# запишите свой вариант ответа\n",
    "answers['1'] = '5. Pirates of the Caribbean: On Stranger Tides (tt1298650)'\n",
    "# если ответили верно, можете добавить комментарий со значком \"+\""
   ]
  },
  {
   "cell_type": "code",
   "execution_count": null,
   "metadata": {
    "colab": {
     "base_uri": "https://localhost:8080/",
     "height": 35
    },
    "executionInfo": {
     "elapsed": 12,
     "status": "ok",
     "timestamp": 1625419940144,
     "user": {
      "displayName": "Blackdoc Blackdoc",
      "photoUrl": "",
      "userId": "09524976013659084088"
     },
     "user_tz": -180
    },
    "id": "dZwb3m28Vp-S",
    "outputId": "4e0c430b-fdbd-4346-ae41-d454fc0e7b1e"
   },
   "outputs": [],
   "source": [
    "# тут пишем ваш код для решения данного вопроса:\n",
    "data[data.budget == data.budget.max()]['original_title'].iloc[0]"
   ]
  },
  {
   "cell_type": "markdown",
   "metadata": {
    "id": "K7L3nbRXVp-X"
   },
   "source": [
    "ВАРИАНТ 2"
   ]
  },
  {
   "cell_type": "code",
   "execution_count": null,
   "metadata": {
    "executionInfo": {
     "elapsed": 12,
     "status": "ok",
     "timestamp": 1625419940145,
     "user": {
      "displayName": "Blackdoc Blackdoc",
      "photoUrl": "",
      "userId": "09524976013659084088"
     },
     "user_tz": -180
    },
    "id": "OGaoQI7rVp-X"
   },
   "outputs": [],
   "source": [
    "# можно добавлять разные варианты решения"
   ]
  },
  {
   "cell_type": "markdown",
   "metadata": {
    "id": "FNRbbI3vVp-c"
   },
   "source": [
    "# 2. Какой из фильмов самый длительный (в минутах)?"
   ]
  },
  {
   "cell_type": "code",
   "execution_count": null,
   "metadata": {
    "executionInfo": {
     "elapsed": 59,
     "status": "ok",
     "timestamp": 1625419940618,
     "user": {
      "displayName": "Blackdoc Blackdoc",
      "photoUrl": "",
      "userId": "09524976013659084088"
     },
     "user_tz": -180
    },
    "id": "vHAoEXNTVp-d"
   },
   "outputs": [],
   "source": [
    "# думаю логику работы с этим словарем вы уже поняли, \n",
    "# по этому не буду больше его дублировать\n",
    "answers['2'] = '2. Gods and Generals (tt0279111)'"
   ]
  },
  {
   "cell_type": "code",
   "execution_count": null,
   "metadata": {
    "colab": {
     "base_uri": "https://localhost:8080/",
     "height": 35
    },
    "executionInfo": {
     "elapsed": 60,
     "status": "ok",
     "timestamp": 1625419940620,
     "user": {
      "displayName": "Blackdoc Blackdoc",
      "photoUrl": "",
      "userId": "09524976013659084088"
     },
     "user_tz": -180
    },
    "id": "ot-VX2XrVp-g",
    "outputId": "dc8d1c86-7e57-45ae-9fa9-59b53a1dd000"
   },
   "outputs": [],
   "source": [
    "data[data.runtime == data.runtime.max()]['original_title'].iloc[0]"
   ]
  },
  {
   "cell_type": "markdown",
   "metadata": {
    "id": "bapLlpW8Vp-k"
   },
   "source": [
    "# 3. Какой из фильмов самый короткий (в минутах)?\n",
    "\n",
    "\n",
    "\n"
   ]
  },
  {
   "cell_type": "code",
   "execution_count": null,
   "metadata": {
    "executionInfo": {
     "elapsed": 60,
     "status": "ok",
     "timestamp": 1625419940621,
     "user": {
      "displayName": "Blackdoc Blackdoc",
      "photoUrl": "",
      "userId": "09524976013659084088"
     },
     "user_tz": -180
    },
    "id": "YBxaSHuAVp-l"
   },
   "outputs": [],
   "source": [
    "answers['3'] = '3. Winnie the Pooh (tt1449283)'"
   ]
  },
  {
   "cell_type": "code",
   "execution_count": null,
   "metadata": {
    "colab": {
     "base_uri": "https://localhost:8080/",
     "height": 35
    },
    "executionInfo": {
     "elapsed": 60,
     "status": "ok",
     "timestamp": 1625419940622,
     "user": {
      "displayName": "Blackdoc Blackdoc",
      "photoUrl": "",
      "userId": "09524976013659084088"
     },
     "user_tz": -180
    },
    "id": "H5BgbPJg91z-",
    "outputId": "85973582-7b96-4ffd-b31c-67074ca59019"
   },
   "outputs": [],
   "source": [
    "data[data.runtime == data.runtime.min()]['original_title'].iloc[0]"
   ]
  },
  {
   "cell_type": "markdown",
   "metadata": {
    "id": "TfQbxbfNVp-p"
   },
   "source": [
    "# 4. Какова средняя длительность фильмов?\n"
   ]
  },
  {
   "cell_type": "code",
   "execution_count": null,
   "metadata": {
    "executionInfo": {
     "elapsed": 60,
     "status": "ok",
     "timestamp": 1625419940623,
     "user": {
      "displayName": "Blackdoc Blackdoc",
      "photoUrl": "",
      "userId": "09524976013659084088"
     },
     "user_tz": -180
    },
    "id": "5K6dKZYVVp-q"
   },
   "outputs": [],
   "source": [
    "answers['4'] = '2. 110'"
   ]
  },
  {
   "cell_type": "code",
   "execution_count": null,
   "metadata": {
    "colab": {
     "base_uri": "https://localhost:8080/"
    },
    "executionInfo": {
     "elapsed": 60,
     "status": "ok",
     "timestamp": 1625419940624,
     "user": {
      "displayName": "Blackdoc Blackdoc",
      "photoUrl": "",
      "userId": "09524976013659084088"
     },
     "user_tz": -180
    },
    "id": "0C5VFtKM-bWS",
    "outputId": "5ffd4889-4a91-4d08-a6f9-e56b059bf288"
   },
   "outputs": [],
   "source": [
    "data.runtime.mean()\n"
   ]
  },
  {
   "cell_type": "markdown",
   "metadata": {
    "id": "r5TvbnT_Vp-u"
   },
   "source": [
    "# 5. Каково медианное значение длительности фильмов? "
   ]
  },
  {
   "cell_type": "code",
   "execution_count": null,
   "metadata": {
    "executionInfo": {
     "elapsed": 57,
     "status": "ok",
     "timestamp": 1625419940626,
     "user": {
      "displayName": "Blackdoc Blackdoc",
      "photoUrl": "",
      "userId": "09524976013659084088"
     },
     "user_tz": -180
    },
    "id": "iBROplKnVp-v"
   },
   "outputs": [],
   "source": [
    "answers['5'] = '1. 107'"
   ]
  },
  {
   "cell_type": "code",
   "execution_count": null,
   "metadata": {
    "colab": {
     "base_uri": "https://localhost:8080/"
    },
    "executionInfo": {
     "elapsed": 57,
     "status": "ok",
     "timestamp": 1625419940626,
     "user": {
      "displayName": "Blackdoc Blackdoc",
      "photoUrl": "",
      "userId": "09524976013659084088"
     },
     "user_tz": -180
    },
    "id": "d0U83aNH-0Bt",
    "outputId": "5ec057e4-8733-40ed-91dc-d106b10cd604"
   },
   "outputs": [],
   "source": [
    "data.runtime.median()"
   ]
  },
  {
   "cell_type": "markdown",
   "metadata": {
    "id": "39P-deDSVp-y"
   },
   "source": [
    "# 6. Какой самый прибыльный фильм?\n",
    "#### Внимание! Здесь и далее под «прибылью» или «убытками» понимается разность между сборами и бюджетом фильма. (прибыль = сборы - бюджет) в нашем датасете это будет (profit = revenue - budget) "
   ]
  },
  {
   "cell_type": "code",
   "execution_count": null,
   "metadata": {
    "executionInfo": {
     "elapsed": 54,
     "status": "ok",
     "timestamp": 1625419940627,
     "user": {
      "displayName": "Blackdoc Blackdoc",
      "photoUrl": "",
      "userId": "09524976013659084088"
     },
     "user_tz": -180
    },
    "id": "UYZh4T9WVp-y"
   },
   "outputs": [],
   "source": [
    "# лучше код получения столбца profit вынести в Предобработку что в начале\n",
    "answers['6'] = '5. Avatar (tt0499549)'"
   ]
  },
  {
   "cell_type": "code",
   "execution_count": null,
   "metadata": {
    "colab": {
     "base_uri": "https://localhost:8080/",
     "height": 35
    },
    "executionInfo": {
     "elapsed": 55,
     "status": "ok",
     "timestamp": 1625419940628,
     "user": {
      "displayName": "Blackdoc Blackdoc",
      "photoUrl": "",
      "userId": "09524976013659084088"
     },
     "user_tz": -180
    },
    "id": "KhU_XtnsCP9F",
    "outputId": "ab154fde-91a1-45ca-f303-81d32e176b05"
   },
   "outputs": [],
   "source": [
    "data[data.profit == data.profit.max()]['original_title'].iloc[0]"
   ]
  },
  {
   "cell_type": "markdown",
   "metadata": {
    "id": "M99JmIX4Vp-2"
   },
   "source": [
    "# 7. Какой фильм самый убыточный? "
   ]
  },
  {
   "cell_type": "code",
   "execution_count": null,
   "metadata": {
    "executionInfo": {
     "elapsed": 54,
     "status": "ok",
     "timestamp": 1625419940629,
     "user": {
      "displayName": "Blackdoc Blackdoc",
      "photoUrl": "",
      "userId": "09524976013659084088"
     },
     "user_tz": -180
    },
    "id": "w-D2m4XPVp-3"
   },
   "outputs": [],
   "source": [
    "answers['7'] = '5. The Lone Ranger (tt1210819)'"
   ]
  },
  {
   "cell_type": "code",
   "execution_count": null,
   "metadata": {
    "colab": {
     "base_uri": "https://localhost:8080/",
     "height": 35
    },
    "executionInfo": {
     "elapsed": 55,
     "status": "ok",
     "timestamp": 1625419940630,
     "user": {
      "displayName": "Blackdoc Blackdoc",
      "photoUrl": "",
      "userId": "09524976013659084088"
     },
     "user_tz": -180
    },
    "id": "yRRbk3KKCyjL",
    "outputId": "50af4a40-7512-44d9-aebe-716cf85f5b33"
   },
   "outputs": [],
   "source": [
    "data[data.profit == data.profit.min()]['original_title'].iloc[0]"
   ]
  },
  {
   "cell_type": "markdown",
   "metadata": {
    "id": "wEOM5ERVVp-6"
   },
   "source": [
    "# 8. У скольких фильмов из датасета объем сборов оказался выше бюджета?"
   ]
  },
  {
   "cell_type": "code",
   "execution_count": null,
   "metadata": {
    "executionInfo": {
     "elapsed": 55,
     "status": "ok",
     "timestamp": 1625419940631,
     "user": {
      "displayName": "Blackdoc Blackdoc",
      "photoUrl": "",
      "userId": "09524976013659084088"
     },
     "user_tz": -180
    },
    "id": "y00_7HD6Vp-7"
   },
   "outputs": [],
   "source": [
    "answers['8'] = '1. 1478'"
   ]
  },
  {
   "cell_type": "code",
   "execution_count": null,
   "metadata": {
    "colab": {
     "base_uri": "https://localhost:8080/"
    },
    "executionInfo": {
     "elapsed": 55,
     "status": "ok",
     "timestamp": 1625419940631,
     "user": {
      "displayName": "Blackdoc Blackdoc",
      "photoUrl": "",
      "userId": "09524976013659084088"
     },
     "user_tz": -180
    },
    "id": "-8aQXWcRDLWj",
    "outputId": "5fbf758c-55b1-40c9-f555-a4ce7cb4425d"
   },
   "outputs": [],
   "source": [
    "len(data[data.revenue > data.budget])"
   ]
  },
  {
   "cell_type": "markdown",
   "metadata": {
    "id": "xhpspA9KVp_A"
   },
   "source": [
    "# 9. Какой фильм оказался самым кассовым в 2008 году?"
   ]
  },
  {
   "cell_type": "code",
   "execution_count": null,
   "metadata": {
    "executionInfo": {
     "elapsed": 52,
     "status": "ok",
     "timestamp": 1625419940632,
     "user": {
      "displayName": "Blackdoc Blackdoc",
      "photoUrl": "",
      "userId": "09524976013659084088"
     },
     "user_tz": -180
    },
    "id": "MoUyQr9RVp_B"
   },
   "outputs": [],
   "source": [
    "answers['9'] = '4. The Dark Knight (tt0468569)'"
   ]
  },
  {
   "cell_type": "code",
   "execution_count": null,
   "metadata": {
    "colab": {
     "base_uri": "https://localhost:8080/",
     "height": 35
    },
    "executionInfo": {
     "elapsed": 52,
     "status": "ok",
     "timestamp": 1625419940633,
     "user": {
      "displayName": "Blackdoc Blackdoc",
      "photoUrl": "",
      "userId": "09524976013659084088"
     },
     "user_tz": -180
    },
    "id": "e_HjUlG8DikO",
    "outputId": "62a1753e-e968-4551-ab45-29921479c2ef"
   },
   "outputs": [],
   "source": [
    "data[data.release_year == 2008].sort_values(by='revenue', ascending=False).iloc[0].loc['original_title']"
   ]
  },
  {
   "cell_type": "markdown",
   "metadata": {
    "id": "Zi4hDKidVp_F"
   },
   "source": [
    "# 10. Самый убыточный фильм за период с 2012 по 2014 г. (включительно)?\n"
   ]
  },
  {
   "cell_type": "code",
   "execution_count": null,
   "metadata": {
    "executionInfo": {
     "elapsed": 52,
     "status": "ok",
     "timestamp": 1625419940634,
     "user": {
      "displayName": "Blackdoc Blackdoc",
      "photoUrl": "",
      "userId": "09524976013659084088"
     },
     "user_tz": -180
    },
    "id": "XqyRmufJVp_F"
   },
   "outputs": [],
   "source": [
    "answers['10'] = '5. The Lone Ranger (tt1210819)'"
   ]
  },
  {
   "cell_type": "code",
   "execution_count": null,
   "metadata": {
    "colab": {
     "base_uri": "https://localhost:8080/",
     "height": 35
    },
    "executionInfo": {
     "elapsed": 52,
     "status": "ok",
     "timestamp": 1625419940634,
     "user": {
      "displayName": "Blackdoc Blackdoc",
      "photoUrl": "",
      "userId": "09524976013659084088"
     },
     "user_tz": -180
    },
    "id": "ew8WFV0iEK3f",
    "outputId": "54edecd3-60ef-443c-d4cc-35d1aa12d52e"
   },
   "outputs": [],
   "source": [
    "data[(data.release_year >= 2012) & (data.release_year <= 2014)].sort_values(by='profit').iloc[0].loc['original_title']"
   ]
  },
  {
   "cell_type": "markdown",
   "metadata": {
    "id": "EA7Sa9dkVp_I"
   },
   "source": [
    "# 11. Какого жанра фильмов больше всего?"
   ]
  },
  {
   "cell_type": "code",
   "execution_count": null,
   "metadata": {
    "executionInfo": {
     "elapsed": 52,
     "status": "ok",
     "timestamp": 1625419940635,
     "user": {
      "displayName": "Blackdoc Blackdoc",
      "photoUrl": "",
      "userId": "09524976013659084088"
     },
     "user_tz": -180
    },
    "id": "zsJAwJ8QVp_J"
   },
   "outputs": [],
   "source": [
    "# эту задачу тоже можно решать разными подходами, попробуй реализовать разные варианты\n",
    "# если будешь добавлять функцию - выноси ее в предобработку что в начале\n",
    "answers['11'] = '3. Drama'"
   ]
  },
  {
   "cell_type": "code",
   "execution_count": null,
   "metadata": {
    "colab": {
     "base_uri": "https://localhost:8080/",
     "height": 35
    },
    "executionInfo": {
     "elapsed": 52,
     "status": "ok",
     "timestamp": 1625419940636,
     "user": {
      "displayName": "Blackdoc Blackdoc",
      "photoUrl": "",
      "userId": "09524976013659084088"
     },
     "user_tz": -180
    },
    "id": "5XKhTv9ZFCoZ",
    "outputId": "3c12132e-2b8d-428f-ff26-70e8faca124a"
   },
   "outputs": [],
   "source": [
    "pd.Series(data.genres.str.split('|').sum()).value_counts().index[0]"
   ]
  },
  {
   "cell_type": "markdown",
   "metadata": {
    "id": "Ax6g2C8SVp_M"
   },
   "source": [
    "ВАРИАНТ 2"
   ]
  },
  {
   "cell_type": "code",
   "execution_count": null,
   "metadata": {
    "executionInfo": {
     "elapsed": 51,
     "status": "ok",
     "timestamp": 1625419940636,
     "user": {
      "displayName": "Blackdoc Blackdoc",
      "photoUrl": "",
      "userId": "09524976013659084088"
     },
     "user_tz": -180
    },
    "id": "otO3SbrSVp_N"
   },
   "outputs": [],
   "source": []
  },
  {
   "cell_type": "markdown",
   "metadata": {
    "id": "T9_bPWpkVp_Q"
   },
   "source": [
    "# 12. Фильмы какого жанра чаще всего становятся прибыльными? "
   ]
  },
  {
   "cell_type": "code",
   "execution_count": null,
   "metadata": {
    "executionInfo": {
     "elapsed": 51,
     "status": "ok",
     "timestamp": 1625419940637,
     "user": {
      "displayName": "Blackdoc Blackdoc",
      "photoUrl": "",
      "userId": "09524976013659084088"
     },
     "user_tz": -180
    },
    "id": "Tmt8MaK1Vp_R"
   },
   "outputs": [],
   "source": [
    "answers['12'] = '1. Drama'"
   ]
  },
  {
   "cell_type": "code",
   "execution_count": null,
   "metadata": {
    "colab": {
     "base_uri": "https://localhost:8080/",
     "height": 35
    },
    "executionInfo": {
     "elapsed": 51,
     "status": "ok",
     "timestamp": 1625419940637,
     "user": {
      "displayName": "Blackdoc Blackdoc",
      "photoUrl": "",
      "userId": "09524976013659084088"
     },
     "user_tz": -180
    },
    "id": "6-BbhMH3GnF9",
    "outputId": "fffaad12-2604-4075-a6b1-e7ca72e13263"
   },
   "outputs": [],
   "source": [
    "pd.Series(data[data.profit > 0].genres.str.split('|').sum()).value_counts().index[0]"
   ]
  },
  {
   "cell_type": "markdown",
   "metadata": {
    "id": "0F23bgsDVp_U"
   },
   "source": [
    "# 13. У какого режиссера самые большие суммарные кассовые сборы?"
   ]
  },
  {
   "cell_type": "code",
   "execution_count": null,
   "metadata": {
    "executionInfo": {
     "elapsed": 51,
     "status": "ok",
     "timestamp": 1625419940638,
     "user": {
      "displayName": "Blackdoc Blackdoc",
      "photoUrl": "",
      "userId": "09524976013659084088"
     },
     "user_tz": -180
    },
    "id": "K6Z3J8ygVp_X"
   },
   "outputs": [],
   "source": [
    "answers['13'] = '5. Peter Jackson'"
   ]
  },
  {
   "cell_type": "code",
   "execution_count": null,
   "metadata": {
    "colab": {
     "base_uri": "https://localhost:8080/",
     "height": 35
    },
    "executionInfo": {
     "elapsed": 51,
     "status": "ok",
     "timestamp": 1625419940639,
     "user": {
      "displayName": "Blackdoc Blackdoc",
      "photoUrl": "",
      "userId": "09524976013659084088"
     },
     "user_tz": -180
    },
    "id": "qifIXv8eHByP",
    "outputId": "ff84e6d9-725d-457e-fdb2-6256c88f52b9"
   },
   "outputs": [],
   "source": [
    "data_director = data.copy()\n",
    "data_director.director = data_director.director.str.split('|')\n",
    "data_director = data_director.explode('director')\n",
    "data_director.groupby('director')[['revenue']].sum().sort_values(by='revenue', ascending=False).index[0]"
   ]
  },
  {
   "cell_type": "markdown",
   "metadata": {
    "id": "PsYC9FgRVp_a"
   },
   "source": [
    "# 14. Какой режисер снял больше всего фильмов в стиле Action?"
   ]
  },
  {
   "cell_type": "code",
   "execution_count": null,
   "metadata": {
    "executionInfo": {
     "elapsed": 50,
     "status": "ok",
     "timestamp": 1625419940639,
     "user": {
      "displayName": "Blackdoc Blackdoc",
      "photoUrl": "",
      "userId": "09524976013659084088"
     },
     "user_tz": -180
    },
    "id": "wd2M-wHeVp_b"
   },
   "outputs": [],
   "source": [
    "answers['14'] = '3. Robert Rodriguez'"
   ]
  },
  {
   "cell_type": "code",
   "execution_count": null,
   "metadata": {
    "colab": {
     "base_uri": "https://localhost:8080/",
     "height": 35
    },
    "executionInfo": {
     "elapsed": 414,
     "status": "ok",
     "timestamp": 1625419941003,
     "user": {
      "displayName": "Blackdoc Blackdoc",
      "photoUrl": "",
      "userId": "09524976013659084088"
     },
     "user_tz": -180
    },
    "id": "Y5CsxlmhJnL3",
    "outputId": "732b6dcf-2263-4a64-ca5f-fbe703d9ee04"
   },
   "outputs": [],
   "source": [
    "data_director[data_director.genres.str.contains('Action')].director.value_counts(ascending=False).index[0]"
   ]
  },
  {
   "cell_type": "markdown",
   "metadata": {
    "id": "PQ0KciD7Vp_f"
   },
   "source": [
    "# 15. Фильмы с каким актером принесли самые высокие кассовые сборы в 2012 году? "
   ]
  },
  {
   "cell_type": "code",
   "execution_count": null,
   "metadata": {
    "executionInfo": {
     "elapsed": 41,
     "status": "ok",
     "timestamp": 1625419941004,
     "user": {
      "displayName": "Blackdoc Blackdoc",
      "photoUrl": "",
      "userId": "09524976013659084088"
     },
     "user_tz": -180
    },
    "id": "aga62oeKVp_g"
   },
   "outputs": [],
   "source": [
    "answers['15'] = '3. Chris Hemsworth'"
   ]
  },
  {
   "cell_type": "code",
   "execution_count": null,
   "metadata": {
    "colab": {
     "base_uri": "https://localhost:8080/",
     "height": 35
    },
    "executionInfo": {
     "elapsed": 42,
     "status": "ok",
     "timestamp": 1625419941005,
     "user": {
      "displayName": "Blackdoc Blackdoc",
      "photoUrl": "",
      "userId": "09524976013659084088"
     },
     "user_tz": -180
    },
    "id": "z_wnWRpeJ9MM",
    "outputId": "34447d96-97ba-41d6-a83e-0707a8f537c3"
   },
   "outputs": [],
   "source": [
    "data_actor = data.copy()\n",
    "data_actor.cast = data_actor.cast.str.split('|')\n",
    "data_actor = data_actor.explode('cast')\n",
    "data_actor = data_actor[data_actor.release_year == 2012]\n",
    "data_actor.groupby('cast')[['revenue']].sum().sort_values(by='revenue', ascending=False).index[0]"
   ]
  },
  {
   "cell_type": "markdown",
   "metadata": {
    "id": "mWHyyL7QVp_j"
   },
   "source": [
    "# 16. Какой актер снялся в большем количестве высокобюджетных фильмов?"
   ]
  },
  {
   "cell_type": "code",
   "execution_count": null,
   "metadata": {
    "executionInfo": {
     "elapsed": 40,
     "status": "ok",
     "timestamp": 1625419941005,
     "user": {
      "displayName": "Blackdoc Blackdoc",
      "photoUrl": "",
      "userId": "09524976013659084088"
     },
     "user_tz": -180
    },
    "id": "qQtmHKTFVp_k"
   },
   "outputs": [],
   "source": [
    "answers['16'] = '3. Matt Damon'"
   ]
  },
  {
   "cell_type": "code",
   "execution_count": null,
   "metadata": {
    "colab": {
     "base_uri": "https://localhost:8080/",
     "height": 35
    },
    "executionInfo": {
     "elapsed": 41,
     "status": "ok",
     "timestamp": 1625419941006,
     "user": {
      "displayName": "Blackdoc Blackdoc",
      "photoUrl": "",
      "userId": "09524976013659084088"
     },
     "user_tz": -180
    },
    "id": "BioLXKoZKdSy",
    "outputId": "0d511619-f89f-4c18-8f39-9e3d6128ccd5"
   },
   "outputs": [],
   "source": [
    "data_16 = data.copy()\n",
    "data_16.cast = data_16.cast.str.split('|')\n",
    "data_16 = data_16.explode('cast')\n",
    "data_16[data_16.budget > data.budget.mean()].cast.value_counts(ascending=False).index[0]"
   ]
  },
  {
   "cell_type": "markdown",
   "metadata": {
    "id": "NIh6AaW5Vp_n"
   },
   "source": [
    "# 17. В фильмах какого жанра больше всего снимался Nicolas Cage? "
   ]
  },
  {
   "cell_type": "code",
   "execution_count": null,
   "metadata": {
    "executionInfo": {
     "elapsed": 40,
     "status": "ok",
     "timestamp": 1625419941006,
     "user": {
      "displayName": "Blackdoc Blackdoc",
      "photoUrl": "",
      "userId": "09524976013659084088"
     },
     "user_tz": -180
    },
    "id": "H74SJDIBVp_n"
   },
   "outputs": [],
   "source": [
    "answers['17'] = '2. Action'"
   ]
  },
  {
   "cell_type": "code",
   "execution_count": null,
   "metadata": {
    "colab": {
     "base_uri": "https://localhost:8080/",
     "height": 35
    },
    "executionInfo": {
     "elapsed": 40,
     "status": "ok",
     "timestamp": 1625419941007,
     "user": {
      "displayName": "Blackdoc Blackdoc",
      "photoUrl": "",
      "userId": "09524976013659084088"
     },
     "user_tz": -180
    },
    "id": "Fs0CoSwQLKvq",
    "outputId": "560b7549-e102-4a57-cec7-244e59c8c9a1"
   },
   "outputs": [],
   "source": [
    "# Фильтруем данные по актеру Nicolas Cage\n",
    "data_Cage = data[data.cast.str.contains('Nicolas Cage', na=False)]\n",
    "pd.Series(data_Cage.genres.str.split('|').sum()).value_counts().index[0]"
   ]
  },
  {
   "cell_type": "markdown",
   "metadata": {
    "id": "RqOmPRfWVp_q"
   },
   "source": [
    "# 18. Самый убыточный фильм от Paramount Pictures"
   ]
  },
  {
   "cell_type": "code",
   "execution_count": null,
   "metadata": {
    "executionInfo": {
     "elapsed": 40,
     "status": "ok",
     "timestamp": 1625419941008,
     "user": {
      "displayName": "Blackdoc Blackdoc",
      "photoUrl": "",
      "userId": "09524976013659084088"
     },
     "user_tz": -180
    },
    "id": "9E_B0Y96Vp_r"
   },
   "outputs": [],
   "source": [
    "answers['18'] = '1. K-19: The Widowmaker (tt0267626)'"
   ]
  },
  {
   "cell_type": "code",
   "execution_count": null,
   "metadata": {
    "colab": {
     "base_uri": "https://localhost:8080/",
     "height": 35
    },
    "executionInfo": {
     "elapsed": 40,
     "status": "ok",
     "timestamp": 1625419941009,
     "user": {
      "displayName": "Blackdoc Blackdoc",
      "photoUrl": "",
      "userId": "09524976013659084088"
     },
     "user_tz": -180
    },
    "id": "nCTjesSfLjol",
    "outputId": "8af7490b-1f57-45f6-e363-e2e91f6b46a4"
   },
   "outputs": [],
   "source": [
    "# Фильтруем данные по студии Paramount Pictures\n",
    "data_Paramount = data[data.production_companies.str.contains('Paramount Pictures', na=False)]\n",
    "data_Paramount[data_Paramount.profit == data_Paramount.profit.min()]['original_title'].iloc[0]"
   ]
  },
  {
   "cell_type": "markdown",
   "metadata": {
    "id": "vS8Ur6ddVp_u"
   },
   "source": [
    "# 19. Какой год стал самым успешным по суммарным кассовым сборам?"
   ]
  },
  {
   "cell_type": "code",
   "execution_count": null,
   "metadata": {
    "executionInfo": {
     "elapsed": 41,
     "status": "ok",
     "timestamp": 1625419941011,
     "user": {
      "displayName": "Blackdoc Blackdoc",
      "photoUrl": "",
      "userId": "09524976013659084088"
     },
     "user_tz": -180
    },
    "id": "Dnbt4GdIVp_v"
   },
   "outputs": [],
   "source": [
    "answers['19'] = '5. 2015'"
   ]
  },
  {
   "cell_type": "code",
   "execution_count": null,
   "metadata": {
    "colab": {
     "base_uri": "https://localhost:8080/"
    },
    "executionInfo": {
     "elapsed": 41,
     "status": "ok",
     "timestamp": 1625419941011,
     "user": {
      "displayName": "Blackdoc Blackdoc",
      "photoUrl": "",
      "userId": "09524976013659084088"
     },
     "user_tz": -180
    },
    "id": "Eg40ofbOMDlt",
    "outputId": "49bea43f-dc12-4f4f-c8e6-163850bf6e2b"
   },
   "outputs": [],
   "source": [
    "data.groupby(['release_year'])[['revenue']].sum().sort_values(by='revenue', ascending=False).index[0]"
   ]
  },
  {
   "cell_type": "markdown",
   "metadata": {
    "id": "JAzJh4QAVp_z"
   },
   "source": [
    "# 20. Какой самый прибыльный год для студии Warner Bros?"
   ]
  },
  {
   "cell_type": "code",
   "execution_count": null,
   "metadata": {
    "executionInfo": {
     "elapsed": 37,
     "status": "ok",
     "timestamp": 1625419941012,
     "user": {
      "displayName": "Blackdoc Blackdoc",
      "photoUrl": "",
      "userId": "09524976013659084088"
     },
     "user_tz": -180
    },
    "id": "wgVu02DEVp_0"
   },
   "outputs": [],
   "source": [
    "answers['20'] = '1. 2014'"
   ]
  },
  {
   "cell_type": "code",
   "execution_count": null,
   "metadata": {
    "colab": {
     "base_uri": "https://localhost:8080/"
    },
    "executionInfo": {
     "elapsed": 36,
     "status": "ok",
     "timestamp": 1625419941012,
     "user": {
      "displayName": "Blackdoc Blackdoc",
      "photoUrl": "",
      "userId": "09524976013659084088"
     },
     "user_tz": -180
    },
    "id": "wASyY0FOMf-w",
    "outputId": "45ee554d-44eb-4b2d-b710-1da6ef42663f"
   },
   "outputs": [],
   "source": [
    "data_Warner = data[data.production_companies.str.contains('Warner Bros', na=False)]\n",
    "data_Warner.groupby(['release_year'])[['profit']].sum().sort_values(by='profit', ascending=False).index[0]"
   ]
  },
  {
   "cell_type": "markdown",
   "metadata": {
    "id": "8Im1S2HRVp_4"
   },
   "source": [
    "# 21. В каком месяце за все годы суммарно вышло больше всего фильмов?"
   ]
  },
  {
   "cell_type": "code",
   "execution_count": null,
   "metadata": {
    "executionInfo": {
     "elapsed": 33,
     "status": "ok",
     "timestamp": 1625419941013,
     "user": {
      "displayName": "Blackdoc Blackdoc",
      "photoUrl": "",
      "userId": "09524976013659084088"
     },
     "user_tz": -180
    },
    "id": "lev6TH7gVp_4"
   },
   "outputs": [],
   "source": [
    "answers['21'] = '4. Сентябрь'"
   ]
  },
  {
   "cell_type": "code",
   "execution_count": null,
   "metadata": {
    "colab": {
     "base_uri": "https://localhost:8080/"
    },
    "executionInfo": {
     "elapsed": 32,
     "status": "ok",
     "timestamp": 1625419941013,
     "user": {
      "displayName": "Blackdoc Blackdoc",
      "photoUrl": "",
      "userId": "09524976013659084088"
     },
     "user_tz": -180
    },
    "id": "LUHIUYJJNAvN",
    "outputId": "3aff7047-f941-488a-8075-bff32ce66daf"
   },
   "outputs": [],
   "source": [
    "data_time.groupby('release_date')[['original_title']].count().sort_values(by='original_title', ascending=False).index[0]"
   ]
  },
  {
   "cell_type": "markdown",
   "metadata": {
    "id": "uAJsZ_NeVp_7"
   },
   "source": [
    "# 22. Сколько суммарно вышло фильмов летом? (за июнь, июль, август)"
   ]
  },
  {
   "cell_type": "code",
   "execution_count": null,
   "metadata": {
    "executionInfo": {
     "elapsed": 29,
     "status": "ok",
     "timestamp": 1625419941014,
     "user": {
      "displayName": "Blackdoc Blackdoc",
      "photoUrl": "",
      "userId": "09524976013659084088"
     },
     "user_tz": -180
    },
    "id": "Aa-hEREoVp_8"
   },
   "outputs": [],
   "source": [
    "answers['22'] = '2. 450'"
   ]
  },
  {
   "cell_type": "code",
   "execution_count": null,
   "metadata": {
    "colab": {
     "base_uri": "https://localhost:8080/"
    },
    "executionInfo": {
     "elapsed": 28,
     "status": "ok",
     "timestamp": 1625419941014,
     "user": {
      "displayName": "Blackdoc Blackdoc",
      "photoUrl": "",
      "userId": "09524976013659084088"
     },
     "user_tz": -180
    },
    "id": "3iUgMIHBPTN9",
    "outputId": "5a757b46-633f-444e-8eb6-12f5e4b70c84"
   },
   "outputs": [],
   "source": [
    "# Группируем фильмы по месяцу выхода.\n",
    "data_summer = data_time.groupby('release_date')[['original_title']].count()\n",
    "\n",
    "# Считаем количество фильмов в шестом, седьмом и восьмом месяце.\n",
    "summer_film = 0\n",
    "for i in range(6, 9):\n",
    "    summer_film += data_summer.loc[i][0]\n",
    "summer_film\n"
   ]
  },
  {
   "cell_type": "markdown",
   "metadata": {
    "id": "G94ppOY1VqAA"
   },
   "source": [
    "# 23. Для какого режиссера зима – самое продуктивное время года? "
   ]
  },
  {
   "cell_type": "code",
   "execution_count": null,
   "metadata": {
    "executionInfo": {
     "elapsed": 26,
     "status": "ok",
     "timestamp": 1625419941015,
     "user": {
      "displayName": "Blackdoc Blackdoc",
      "photoUrl": "",
      "userId": "09524976013659084088"
     },
     "user_tz": -180
    },
    "id": "RhNTsamuVqAB"
   },
   "outputs": [],
   "source": [
    "answers['23'] = '5. Peter Jackson'"
   ]
  },
  {
   "cell_type": "code",
   "execution_count": null,
   "metadata": {
    "colab": {
     "base_uri": "https://localhost:8080/",
     "height": 35
    },
    "executionInfo": {
     "elapsed": 680,
     "status": "ok",
     "timestamp": 1625419941670,
     "user": {
      "displayName": "Blackdoc Blackdoc",
      "photoUrl": "",
      "userId": "09524976013659084088"
     },
     "user_tz": -180
    },
    "id": "hoQyMmnqRO6C",
    "outputId": "a9e5d3b0-b81d-4856-ff0b-6de5e61901df"
   },
   "outputs": [],
   "source": [
    "data_time_dir = data_time[['director', 'original_title', 'release_date']].copy()\n",
    "data_time_dir.director = data_time_dir.director.str.split('|')\n",
    "data_time_dir = data_time_dir.explode('director')\n",
    "# Создаем сводную таблицу, заполняя ячейки значением количества фильмов, \n",
    "# снятых в каждом месяце.\n",
    "pivot_dir = data_time_dir.pivot_table(values='original_title', index='release_date', columns='director',\n",
    "                                      aggfunc='count', fill_value=0)\n",
    "\n",
    "# Считаем сколько фильмов снял каждый режиссер зимой.\n",
    "# Значения записываем в словарь.\n",
    "directors = pivot_dir.columns\n",
    "count_directors = {}\n",
    "months = [1, 11, 12]\n",
    "for director in directors:\n",
    "    count = 0\n",
    "    for month in months:\n",
    "        count += pivot_dir.loc[month][director]\n",
    "    count_directors[director] = count\n",
    "\n",
    "# Преобразуем словарь в Series и сортируем.\n",
    "pd.Series(count_directors).sort_values(ascending=False).index[0]"
   ]
  },
  {
   "cell_type": "markdown",
   "metadata": {
    "id": "JMrdrewlTt6D"
   },
   "source": [
    "ВАРИАНТ 2"
   ]
  },
  {
   "cell_type": "code",
   "execution_count": null,
   "metadata": {
    "colab": {
     "base_uri": "https://localhost:8080/",
     "height": 35
    },
    "executionInfo": {
     "elapsed": 16,
     "status": "ok",
     "timestamp": 1625419941671,
     "user": {
      "displayName": "Blackdoc Blackdoc",
      "photoUrl": "",
      "userId": "09524976013659084088"
     },
     "user_tz": -180
    },
    "id": "KgEc-rWyT5RL",
    "outputId": "d1fe5d6b-6889-4fdc-e338-38b17c680d3b"
   },
   "outputs": [],
   "source": [
    "# Извлекаем данные за зимние месяцы\n",
    "wint_dir = data_time_dir.loc[data_time_dir['release_date'].isin([1, 11, 12])].copy()\n",
    "wint_dir.director = wint_dir.director.str.split('|')\n",
    "wint_dir = wint_dir.explode('director')\n",
    "wint_dir.groupby(['director'])['original_title'].nunique().sort_values(ascending=False).index[0]"
   ]
  },
  {
   "cell_type": "markdown",
   "metadata": {
    "id": "RBo0JVjVVqAF"
   },
   "source": [
    "# 24. Какая студия дает самые длинные названия своим фильмам по количеству символов?"
   ]
  },
  {
   "cell_type": "code",
   "execution_count": null,
   "metadata": {
    "executionInfo": {
     "elapsed": 15,
     "status": "ok",
     "timestamp": 1625419941672,
     "user": {
      "displayName": "Blackdoc Blackdoc",
      "photoUrl": "",
      "userId": "09524976013659084088"
     },
     "user_tz": -180
    },
    "id": "QRGS8L0iVqAG"
   },
   "outputs": [],
   "source": [
    "answers['24'] = '5. Four By Two Productions'"
   ]
  },
  {
   "cell_type": "code",
   "execution_count": null,
   "metadata": {
    "colab": {
     "base_uri": "https://localhost:8080/",
     "height": 35
    },
    "executionInfo": {
     "elapsed": 16,
     "status": "ok",
     "timestamp": 1625419941673,
     "user": {
      "displayName": "Blackdoc Blackdoc",
      "photoUrl": "",
      "userId": "09524976013659084088"
     },
     "user_tz": -180
    },
    "id": "QJQ5C8y1WDFo",
    "outputId": "e739599a-4df6-4c1b-ff98-dca853a9aa5a"
   },
   "outputs": [],
   "source": [
    "data_24 = data.copy()\n",
    "data_24.production_companies = data_24.production_companies.str.split('|')\n",
    "data_24 = data_24.explode('production_companies')\n",
    "\n",
    "# Добавляем колонку в которую записываем длинну названия фильма.\n",
    "data_24['len_title'] = data_24.original_title.str.len()\n",
    "# При группировке вычисляем среднию длинну названия фильма.\n",
    "data_24.groupby(['production_companies'])['len_title'].mean().sort_values(ascending=False).index[0]"
   ]
  },
  {
   "cell_type": "markdown",
   "metadata": {
    "id": "9G0hbvR7VqAK"
   },
   "source": [
    "# 25. Описание фильмов какой студии в среднем самые длинные по количеству слов?"
   ]
  },
  {
   "cell_type": "code",
   "execution_count": null,
   "metadata": {
    "executionInfo": {
     "elapsed": 15,
     "status": "ok",
     "timestamp": 1625419941674,
     "user": {
      "displayName": "Blackdoc Blackdoc",
      "photoUrl": "",
      "userId": "09524976013659084088"
     },
     "user_tz": -180
    },
    "id": "Ge2GsLNxVqAK"
   },
   "outputs": [],
   "source": [
    "answers['25'] = '3. Midnight Picture Show'"
   ]
  },
  {
   "cell_type": "code",
   "execution_count": null,
   "metadata": {
    "colab": {
     "base_uri": "https://localhost:8080/",
     "height": 35
    },
    "executionInfo": {
     "elapsed": 16,
     "status": "ok",
     "timestamp": 1625419941675,
     "user": {
      "displayName": "Blackdoc Blackdoc",
      "photoUrl": "",
      "userId": "09524976013659084088"
     },
     "user_tz": -180
    },
    "id": "tBWz-3svXEQK",
    "outputId": "5211140b-c73b-4de4-cc82-81e1f9e200ad"
   },
   "outputs": [],
   "source": [
    "data_25 = data.copy()\n",
    "data_25.production_companies = data_25.production_companies.str.split('|')\n",
    "data_25 = data_25.explode('production_companies')\n",
    "\n",
    "# Разбиваем описания фильмов на слова, преобразуя в список.\n",
    "data_25.overview = data_25.overview.str.split(' ')\n",
    "\n",
    "# Добавляем колонку в которую записываем количество слов в  описания фильма.\n",
    "data_25['len_overview'] = data_25.overview.str.len()\n",
    "# # При группировке вычисляем среднее количество слов в  названии фильма.\n",
    "data_25.groupby('production_companies')['len_overview'].mean().sort_values(ascending=False).index[0]"
   ]
  },
  {
   "cell_type": "markdown",
   "metadata": {
    "id": "FJ1AFt90VqAP"
   },
   "source": [
    "# 26. Какие фильмы входят в 1 процент лучших по рейтингу? \n",
    "по vote_average"
   ]
  },
  {
   "cell_type": "code",
   "execution_count": null,
   "metadata": {
    "executionInfo": {
     "elapsed": 15,
     "status": "ok",
     "timestamp": 1625419941675,
     "user": {
      "displayName": "Blackdoc Blackdoc",
      "photoUrl": "",
      "userId": "09524976013659084088"
     },
     "user_tz": -180
    },
    "id": "8qmJVq4CVqAQ"
   },
   "outputs": [],
   "source": [
    "answers['26'] = '1. Inside Out, The Dark Knight, 12 Years a Slave'"
   ]
  },
  {
   "cell_type": "code",
   "execution_count": null,
   "metadata": {
    "colab": {
     "base_uri": "https://localhost:8080/",
     "height": 638
    },
    "executionInfo": {
     "elapsed": 482,
     "status": "ok",
     "timestamp": 1625419942143,
     "user": {
      "displayName": "Blackdoc Blackdoc",
      "photoUrl": "",
      "userId": "09524976013659084088"
     },
     "user_tz": -180
    },
    "id": "nlvXPVX8Yp5D",
    "outputId": "15da4362-7bd1-4d8e-8dfe-71c45e02c4af"
   },
   "outputs": [],
   "source": [
    "data_26 = data[['original_title', 'vote_average']].copy()\n",
    "rating_1_percent = round(len(data_26) / 100)\n",
    "data_26.sort_values('vote_average', ascending=False).iloc[0:rating_1_percent]"
   ]
  },
  {
   "cell_type": "markdown",
   "metadata": {
    "id": "MdXsUXbCVqAV"
   },
   "source": [
    "# 27. Какие актеры чаще всего снимаются в одном фильме вместе?\n"
   ]
  },
  {
   "cell_type": "code",
   "execution_count": null,
   "metadata": {
    "executionInfo": {
     "elapsed": 21,
     "status": "ok",
     "timestamp": 1625419942144,
     "user": {
      "displayName": "Blackdoc Blackdoc",
      "photoUrl": "",
      "userId": "09524976013659084088"
     },
     "user_tz": -180
    },
    "id": "FenW0KctauX3"
   },
   "outputs": [],
   "source": [
    "answers['27'] = '5. Daniel Radcliffe & Rupert Grint'"
   ]
  },
  {
   "cell_type": "code",
   "execution_count": null,
   "metadata": {
    "colab": {
     "base_uri": "https://localhost:8080/"
    },
    "executionInfo": {
     "elapsed": 21,
     "status": "ok",
     "timestamp": 1625419942145,
     "user": {
      "displayName": "Blackdoc Blackdoc",
      "photoUrl": "",
      "userId": "09524976013659084088"
     },
     "user_tz": -180
    },
    "id": "F0eYoJqiasz_",
    "outputId": "6b7d6c13-18d1-47ff-c4e2-8b223888ed28"
   },
   "outputs": [],
   "source": [
    "data_27 = data[['cast']].copy()\n",
    "# Создаем список из имен актеров.\n",
    "data_27.cast = data_27.cast.str.split('|')\n",
    "# Сортируем список в алфавитном порядке.\n",
    "data_27.cast = data_27.cast.apply(lambda L: sorted(L))\n",
    "# Создаем комбинации актеров.\n",
    "data_27.cast = data_27.cast.apply(lambda L: list(combinations(L, 2)))\n",
    "\n",
    "# Подсчитываем частоту различных комьинаций.\n",
    "count = Counter()\n",
    "for i in data_27.index:\n",
    "    for actor in data_27.loc[i][0]:\n",
    "        count[actor] += 1\n",
    "count.most_common(6)\n"
   ]
  },
  {
   "cell_type": "markdown",
   "metadata": {
    "id": "4ymnxEVoVqAW"
   },
   "source": [
    "ВАРИАНТ 2"
   ]
  },
  {
   "cell_type": "markdown",
   "metadata": {
    "id": "U0nONFnGVqAX"
   },
   "source": [
    "# Submission"
   ]
  },
  {
   "cell_type": "code",
   "execution_count": null,
   "metadata": {
    "colab": {
     "base_uri": "https://localhost:8080/"
    },
    "executionInfo": {
     "elapsed": 17,
     "status": "ok",
     "timestamp": 1625419942146,
     "user": {
      "displayName": "Blackdoc Blackdoc",
      "photoUrl": "",
      "userId": "09524976013659084088"
     },
     "user_tz": -180
    },
    "id": "IfcaRO9-VqAX",
    "outputId": "fc91e99a-cea1-4382-ff04-7268f0ac81d8"
   },
   "outputs": [],
   "source": [
    "# в конце можно посмотреть свои ответы к каждому вопросу\n",
    "pd.Series(answers)"
   ]
  },
  {
   "cell_type": "code",
   "execution_count": null,
   "metadata": {
    "colab": {
     "base_uri": "https://localhost:8080/"
    },
    "executionInfo": {
     "elapsed": 13,
     "status": "ok",
     "timestamp": 1625419942146,
     "user": {
      "displayName": "Blackdoc Blackdoc",
      "photoUrl": "",
      "userId": "09524976013659084088"
     },
     "user_tz": -180
    },
    "id": "SiRmHPl8VqAd",
    "outputId": "da26a63b-cc40-400c-af14-49b1e53a0333"
   },
   "outputs": [],
   "source": [
    "# и убедиться что ни чего не пропустил)\n",
    "len(answers)"
   ]
  },
  {
   "cell_type": "code",
   "execution_count": null,
   "metadata": {
    "executionInfo": {
     "elapsed": 261,
     "status": "ok",
     "timestamp": 1625419942399,
     "user": {
      "displayName": "Blackdoc Blackdoc",
      "photoUrl": "",
      "userId": "09524976013659084088"
     },
     "user_tz": -180
    },
    "id": "uCfuTkRbVqAg"
   },
   "outputs": [],
   "source": []
  },
  {
   "cell_type": "code",
   "execution_count": null,
   "metadata": {
    "executionInfo": {
     "elapsed": 11,
     "status": "ok",
     "timestamp": 1625419942400,
     "user": {
      "displayName": "Blackdoc Blackdoc",
      "photoUrl": "",
      "userId": "09524976013659084088"
     },
     "user_tz": -180
    },
    "id": "Vwx3NrkSVqAl"
   },
   "outputs": [],
   "source": []
  },
  {
   "cell_type": "code",
   "execution_count": null,
   "metadata": {},
   "outputs": [],
   "source": []
  },
  {
   "cell_type": "code",
   "execution_count": null,
   "metadata": {},
   "outputs": [],
   "source": []
  },
  {
   "cell_type": "code",
   "execution_count": null,
   "metadata": {},
   "outputs": [],
   "source": []
  }
 ],
 "metadata": {
  "colab": {
   "collapsed_sections": [],
   "name": "Movies_IMBD_v4.1_TEMPLATE.ipynb",
   "provenance": []
  },
  "kernelspec": {
   "display_name": "Python 3",
   "language": "python",
   "name": "python3"
  },
  "language_info": {
   "codemirror_mode": {
    "name": "ipython",
    "version": 3
   },
   "file_extension": ".py",
   "mimetype": "text/x-python",
   "name": "python",
   "nbconvert_exporter": "python",
   "pygments_lexer": "ipython3",
   "version": "3.8.5"
  }
 },
 "nbformat": 4,
 "nbformat_minor": 1
}
